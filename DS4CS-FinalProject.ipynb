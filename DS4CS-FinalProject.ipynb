{
  "nbformat": 4,
  "nbformat_minor": 0,
  "metadata": {
    "colab": {
      "provenance": [],
      "gpuType": "T4"
    },
    "kernelspec": {
      "name": "python3",
      "display_name": "Python 3"
    },
    "language_info": {
      "name": "python"
    },
    "accelerator": "GPU"
  },
  "cells": [
    {
      "cell_type": "markdown",
      "source": [
        "\n",
        "\n",
        "# **Member**\n",
        "*   林家誠, 109306066, MIS\n",
        "*   陳彥竹, 1093060xx, MIS\n",
        "\n"
      ],
      "metadata": {
        "id": "xADABvyDhjn7"
      }
    },
    {
      "cell_type": "markdown",
      "source": [
        "# **Title**\n",
        "**url之分析...**"
      ],
      "metadata": {
        "id": "OBefV9KkiOuO"
      }
    },
    {
      "cell_type": "markdown",
      "source": [
        "# **Problem Definition**\n",
        "**Problem Definition**"
      ],
      "metadata": {
        "id": "muEdhK26ia_J"
      }
    },
    {
      "cell_type": "markdown",
      "source": [
        "# **Dataset**\n",
        "**Dataset**\n",
        "**介紹**\n"
      ],
      "metadata": {
        "id": "nrJ6HyyiioMg"
      }
    },
    {
      "cell_type": "markdown",
      "source": [
        "\n",
        "# **description of your models**\n",
        "**models**\n",
        "**介紹**\n"
      ],
      "metadata": {
        "id": "5bWAvB0mi5qh"
      }
    },
    {
      "cell_type": "markdown",
      "source": [
        "\n",
        "# **result**\n",
        "**介紹**\n"
      ],
      "metadata": {
        "id": "yr_8W-b3jEn1"
      }
    },
    {
      "cell_type": "markdown",
      "source": [
        "\n",
        "# **discussion**\n",
        "**介紹**\n"
      ],
      "metadata": {
        "id": "x3ux5SxujH7W"
      }
    },
    {
      "cell_type": "markdown",
      "source": [
        "# 程式碼"
      ],
      "metadata": {
        "id": "ophiuqXajOnI"
      }
    },
    {
      "cell_type": "markdown",
      "source": [
        "## 安裝套件"
      ],
      "metadata": {
        "id": "NzxcafCMjRva"
      }
    },
    {
      "cell_type": "code",
      "source": [
        "!pip install transformers\n",
        "!pip install imbalanced-learn"
      ],
      "metadata": {
        "colab": {
          "base_uri": "https://localhost:8080/"
        },
        "id": "1sV7PnE-qGrM",
        "outputId": "d1b89fac-1010-4e4d-d7c5-44b32e7c72b0"
      },
      "execution_count": 1,
      "outputs": [
        {
          "output_type": "stream",
          "name": "stdout",
          "text": [
            "Looking in indexes: https://pypi.org/simple, https://us-python.pkg.dev/colab-wheels/public/simple/\n",
            "Collecting transformers\n",
            "  Downloading transformers-4.29.2-py3-none-any.whl (7.1 MB)\n",
            "\u001b[2K     \u001b[90m━━━━━━━━━━━━━━━━━━━━━━━━━━━━━━━━━━━━━━━━\u001b[0m \u001b[32m7.1/7.1 MB\u001b[0m \u001b[31m86.7 MB/s\u001b[0m eta \u001b[36m0:00:00\u001b[0m\n",
            "\u001b[?25hRequirement already satisfied: filelock in /usr/local/lib/python3.10/dist-packages (from transformers) (3.12.0)\n",
            "Collecting huggingface-hub<1.0,>=0.14.1 (from transformers)\n",
            "  Downloading huggingface_hub-0.15.1-py3-none-any.whl (236 kB)\n",
            "\u001b[2K     \u001b[90m━━━━━━━━━━━━━━━━━━━━━━━━━━━━━━━━━━━━━━\u001b[0m \u001b[32m236.8/236.8 kB\u001b[0m \u001b[31m28.0 MB/s\u001b[0m eta \u001b[36m0:00:00\u001b[0m\n",
            "\u001b[?25hRequirement already satisfied: numpy>=1.17 in /usr/local/lib/python3.10/dist-packages (from transformers) (1.22.4)\n",
            "Requirement already satisfied: packaging>=20.0 in /usr/local/lib/python3.10/dist-packages (from transformers) (23.1)\n",
            "Requirement already satisfied: pyyaml>=5.1 in /usr/local/lib/python3.10/dist-packages (from transformers) (6.0)\n",
            "Requirement already satisfied: regex!=2019.12.17 in /usr/local/lib/python3.10/dist-packages (from transformers) (2022.10.31)\n",
            "Requirement already satisfied: requests in /usr/local/lib/python3.10/dist-packages (from transformers) (2.27.1)\n",
            "Collecting tokenizers!=0.11.3,<0.14,>=0.11.1 (from transformers)\n",
            "  Downloading tokenizers-0.13.3-cp310-cp310-manylinux_2_17_x86_64.manylinux2014_x86_64.whl (7.8 MB)\n",
            "\u001b[2K     \u001b[90m━━━━━━━━━━━━━━━━━━━━━━━━━━━━━━━━━━━━━━━━\u001b[0m \u001b[32m7.8/7.8 MB\u001b[0m \u001b[31m95.2 MB/s\u001b[0m eta \u001b[36m0:00:00\u001b[0m\n",
            "\u001b[?25hRequirement already satisfied: tqdm>=4.27 in /usr/local/lib/python3.10/dist-packages (from transformers) (4.65.0)\n",
            "Requirement already satisfied: fsspec in /usr/local/lib/python3.10/dist-packages (from huggingface-hub<1.0,>=0.14.1->transformers) (2023.4.0)\n",
            "Requirement already satisfied: typing-extensions>=3.7.4.3 in /usr/local/lib/python3.10/dist-packages (from huggingface-hub<1.0,>=0.14.1->transformers) (4.5.0)\n",
            "Requirement already satisfied: urllib3<1.27,>=1.21.1 in /usr/local/lib/python3.10/dist-packages (from requests->transformers) (1.26.15)\n",
            "Requirement already satisfied: certifi>=2017.4.17 in /usr/local/lib/python3.10/dist-packages (from requests->transformers) (2022.12.7)\n",
            "Requirement already satisfied: charset-normalizer~=2.0.0 in /usr/local/lib/python3.10/dist-packages (from requests->transformers) (2.0.12)\n",
            "Requirement already satisfied: idna<4,>=2.5 in /usr/local/lib/python3.10/dist-packages (from requests->transformers) (3.4)\n",
            "Installing collected packages: tokenizers, huggingface-hub, transformers\n",
            "Successfully installed huggingface-hub-0.15.1 tokenizers-0.13.3 transformers-4.29.2\n",
            "Looking in indexes: https://pypi.org/simple, https://us-python.pkg.dev/colab-wheels/public/simple/\n",
            "Requirement already satisfied: imbalanced-learn in /usr/local/lib/python3.10/dist-packages (0.10.1)\n",
            "Requirement already satisfied: numpy>=1.17.3 in /usr/local/lib/python3.10/dist-packages (from imbalanced-learn) (1.22.4)\n",
            "Requirement already satisfied: scipy>=1.3.2 in /usr/local/lib/python3.10/dist-packages (from imbalanced-learn) (1.10.1)\n",
            "Requirement already satisfied: scikit-learn>=1.0.2 in /usr/local/lib/python3.10/dist-packages (from imbalanced-learn) (1.2.2)\n",
            "Requirement already satisfied: joblib>=1.1.1 in /usr/local/lib/python3.10/dist-packages (from imbalanced-learn) (1.2.0)\n",
            "Requirement already satisfied: threadpoolctl>=2.0.0 in /usr/local/lib/python3.10/dist-packages (from imbalanced-learn) (3.1.0)\n"
          ]
        }
      ]
    },
    {
      "cell_type": "markdown",
      "source": [
        "## 下載和解壓檔案"
      ],
      "metadata": {
        "id": "CIp1guiRn8xy"
      }
    },
    {
      "cell_type": "code",
      "source": [
        "import requests\n",
        "import zipfile\n",
        "\n",
        "url = 'https://github.com/Tonyrj3268/DS4CS-FinalProject/raw/main/archive.zip'\n",
        "response = requests.get(url)\n",
        "with open('archive.zip', 'wb') as file:\n",
        "    file.write(response.content)\n",
        "with zipfile.ZipFile('archive.zip', 'r') as zip_ref:\n",
        "    zip_ref.extractall('/content/')"
      ],
      "metadata": {
        "id": "FF_Fi6vCjpd0"
      },
      "execution_count": 2,
      "outputs": []
    },
    {
      "cell_type": "markdown",
      "source": [
        "## 加載模組"
      ],
      "metadata": {
        "id": "il0Zip-7oYC_"
      }
    },
    {
      "cell_type": "code",
      "source": [
        "import pandas as pd\n",
        "import matplotlib.pyplot as plt\n",
        "import json\n",
        "import numpy as np\n",
        "import string\n",
        "from urllib.parse import urlparse\n",
        "import re\n",
        "from transformers import BertModel, BertTokenizer\n",
        "import torch\n",
        "from imblearn.under_sampling import RandomUnderSampler\n",
        "import torch.nn as nn\n",
        "import torch.optim as optim\n",
        "import torch.nn.functional as F\n",
        "from torch.utils.data import TensorDataset, DataLoader\n",
        "from sklearn.model_selection import train_test_split\n",
        "from sklearn.tree import DecisionTreeClassifier\n",
        "from sklearn.ensemble import RandomForestClassifier\n",
        "from xgboost import XGBClassifier"
      ],
      "metadata": {
        "id": "0E9CBIZaaZz4"
      },
      "execution_count": 3,
      "outputs": []
    },
    {
      "cell_type": "markdown",
      "source": [
        "## gpu check"
      ],
      "metadata": {
        "id": "7t6cjb9podig"
      }
    },
    {
      "cell_type": "code",
      "source": [
        "if torch.cuda.is_available():\n",
        "    device = torch.device('cuda')\n",
        "else:\n",
        "    device = torch.device('cpu')\n",
        "print(device)"
      ],
      "metadata": {
        "colab": {
          "base_uri": "https://localhost:8080/"
        },
        "id": "LMkCA5yGxSJu",
        "outputId": "ff1506c7-1587-4753-822e-f6cd8c4c0c0b"
      },
      "execution_count": 4,
      "outputs": [
        {
          "output_type": "stream",
          "name": "stdout",
          "text": [
            "cuda\n"
          ]
        }
      ]
    },
    {
      "cell_type": "markdown",
      "source": [
        "## 分析資料集"
      ],
      "metadata": {
        "id": "aaqHtUIuotAQ"
      }
    },
    {
      "cell_type": "code",
      "source": [
        "df = pd.read_csv('/content/malicious_phish.csv')\n",
        "df.head()"
      ],
      "metadata": {
        "id": "Wgfc2NUvZT-B",
        "outputId": "f8ede8c3-4eb9-4efd-b349-3afb0836a78a",
        "colab": {
          "base_uri": "https://localhost:8080/",
          "height": 206
        }
      },
      "execution_count": 5,
      "outputs": [
        {
          "output_type": "execute_result",
          "data": {
            "text/plain": [
              "                                                 url        type\n",
              "0                                   br-icloud.com.br    phishing\n",
              "1                mp3raid.com/music/krizz_kaliko.html      benign\n",
              "2                    bopsecrets.org/rexroth/cr/1.htm      benign\n",
              "3  http://www.garage-pirenne.be/index.php?option=...  defacement\n",
              "4  http://adventure-nicaragua.net/index.php?optio...  defacement"
            ],
            "text/html": [
              "\n",
              "  <div id=\"df-889e9608-f256-4740-a227-68fa44c13b19\">\n",
              "    <div class=\"colab-df-container\">\n",
              "      <div>\n",
              "<style scoped>\n",
              "    .dataframe tbody tr th:only-of-type {\n",
              "        vertical-align: middle;\n",
              "    }\n",
              "\n",
              "    .dataframe tbody tr th {\n",
              "        vertical-align: top;\n",
              "    }\n",
              "\n",
              "    .dataframe thead th {\n",
              "        text-align: right;\n",
              "    }\n",
              "</style>\n",
              "<table border=\"1\" class=\"dataframe\">\n",
              "  <thead>\n",
              "    <tr style=\"text-align: right;\">\n",
              "      <th></th>\n",
              "      <th>url</th>\n",
              "      <th>type</th>\n",
              "    </tr>\n",
              "  </thead>\n",
              "  <tbody>\n",
              "    <tr>\n",
              "      <th>0</th>\n",
              "      <td>br-icloud.com.br</td>\n",
              "      <td>phishing</td>\n",
              "    </tr>\n",
              "    <tr>\n",
              "      <th>1</th>\n",
              "      <td>mp3raid.com/music/krizz_kaliko.html</td>\n",
              "      <td>benign</td>\n",
              "    </tr>\n",
              "    <tr>\n",
              "      <th>2</th>\n",
              "      <td>bopsecrets.org/rexroth/cr/1.htm</td>\n",
              "      <td>benign</td>\n",
              "    </tr>\n",
              "    <tr>\n",
              "      <th>3</th>\n",
              "      <td>http://www.garage-pirenne.be/index.php?option=...</td>\n",
              "      <td>defacement</td>\n",
              "    </tr>\n",
              "    <tr>\n",
              "      <th>4</th>\n",
              "      <td>http://adventure-nicaragua.net/index.php?optio...</td>\n",
              "      <td>defacement</td>\n",
              "    </tr>\n",
              "  </tbody>\n",
              "</table>\n",
              "</div>\n",
              "      <button class=\"colab-df-convert\" onclick=\"convertToInteractive('df-889e9608-f256-4740-a227-68fa44c13b19')\"\n",
              "              title=\"Convert this dataframe to an interactive table.\"\n",
              "              style=\"display:none;\">\n",
              "        \n",
              "  <svg xmlns=\"http://www.w3.org/2000/svg\" height=\"24px\"viewBox=\"0 0 24 24\"\n",
              "       width=\"24px\">\n",
              "    <path d=\"M0 0h24v24H0V0z\" fill=\"none\"/>\n",
              "    <path d=\"M18.56 5.44l.94 2.06.94-2.06 2.06-.94-2.06-.94-.94-2.06-.94 2.06-2.06.94zm-11 1L8.5 8.5l.94-2.06 2.06-.94-2.06-.94L8.5 2.5l-.94 2.06-2.06.94zm10 10l.94 2.06.94-2.06 2.06-.94-2.06-.94-.94-2.06-.94 2.06-2.06.94z\"/><path d=\"M17.41 7.96l-1.37-1.37c-.4-.4-.92-.59-1.43-.59-.52 0-1.04.2-1.43.59L10.3 9.45l-7.72 7.72c-.78.78-.78 2.05 0 2.83L4 21.41c.39.39.9.59 1.41.59.51 0 1.02-.2 1.41-.59l7.78-7.78 2.81-2.81c.8-.78.8-2.07 0-2.86zM5.41 20L4 18.59l7.72-7.72 1.47 1.35L5.41 20z\"/>\n",
              "  </svg>\n",
              "      </button>\n",
              "      \n",
              "  <style>\n",
              "    .colab-df-container {\n",
              "      display:flex;\n",
              "      flex-wrap:wrap;\n",
              "      gap: 12px;\n",
              "    }\n",
              "\n",
              "    .colab-df-convert {\n",
              "      background-color: #E8F0FE;\n",
              "      border: none;\n",
              "      border-radius: 50%;\n",
              "      cursor: pointer;\n",
              "      display: none;\n",
              "      fill: #1967D2;\n",
              "      height: 32px;\n",
              "      padding: 0 0 0 0;\n",
              "      width: 32px;\n",
              "    }\n",
              "\n",
              "    .colab-df-convert:hover {\n",
              "      background-color: #E2EBFA;\n",
              "      box-shadow: 0px 1px 2px rgba(60, 64, 67, 0.3), 0px 1px 3px 1px rgba(60, 64, 67, 0.15);\n",
              "      fill: #174EA6;\n",
              "    }\n",
              "\n",
              "    [theme=dark] .colab-df-convert {\n",
              "      background-color: #3B4455;\n",
              "      fill: #D2E3FC;\n",
              "    }\n",
              "\n",
              "    [theme=dark] .colab-df-convert:hover {\n",
              "      background-color: #434B5C;\n",
              "      box-shadow: 0px 1px 3px 1px rgba(0, 0, 0, 0.15);\n",
              "      filter: drop-shadow(0px 1px 2px rgba(0, 0, 0, 0.3));\n",
              "      fill: #FFFFFF;\n",
              "    }\n",
              "  </style>\n",
              "\n",
              "      <script>\n",
              "        const buttonEl =\n",
              "          document.querySelector('#df-889e9608-f256-4740-a227-68fa44c13b19 button.colab-df-convert');\n",
              "        buttonEl.style.display =\n",
              "          google.colab.kernel.accessAllowed ? 'block' : 'none';\n",
              "\n",
              "        async function convertToInteractive(key) {\n",
              "          const element = document.querySelector('#df-889e9608-f256-4740-a227-68fa44c13b19');\n",
              "          const dataTable =\n",
              "            await google.colab.kernel.invokeFunction('convertToInteractive',\n",
              "                                                     [key], {});\n",
              "          if (!dataTable) return;\n",
              "\n",
              "          const docLinkHtml = 'Like what you see? Visit the ' +\n",
              "            '<a target=\"_blank\" href=https://colab.research.google.com/notebooks/data_table.ipynb>data table notebook</a>'\n",
              "            + ' to learn more about interactive tables.';\n",
              "          element.innerHTML = '';\n",
              "          dataTable['output_type'] = 'display_data';\n",
              "          await google.colab.output.renderOutput(dataTable, element);\n",
              "          const docLink = document.createElement('div');\n",
              "          docLink.innerHTML = docLinkHtml;\n",
              "          element.appendChild(docLink);\n",
              "        }\n",
              "      </script>\n",
              "    </div>\n",
              "  </div>\n",
              "  "
            ]
          },
          "metadata": {},
          "execution_count": 5
        }
      ]
    },
    {
      "cell_type": "markdown",
      "source": [
        "由於資料集的label分配不均，且資料太過龐大(65萬筆)，使用欠採樣平衡數據集並且縮小訓練資料量，display = True僅供助教和展示時使用(限縮資料量成1萬筆)，原本呈現之結果為欠採樣後之訓練數量。\n"
      ],
      "metadata": {
        "id": "u-T5-YLao4Q0"
      }
    },
    {
      "cell_type": "code",
      "source": [
        "display = True"
      ],
      "metadata": {
        "id": "OueM8PZjqwvr"
      },
      "execution_count": 25,
      "outputs": []
    },
    {
      "cell_type": "code",
      "source": [
        "category_counts = df['type'].value_counts()\n",
        "colors = ['red', 'green', 'blue', 'yellow']\n",
        "plt.bar(category_counts.index, category_counts.values, color=colors)\n",
        "plt.xlabel(\"Type\")\n",
        "plt.ylabel(\"Count\")\n",
        "plt.title(\"Distribution of Types\")\n",
        "plt.xticks(rotation='vertical')\n",
        "plt.show()"
      ],
      "metadata": {
        "colab": {
          "base_uri": "https://localhost:8080/",
          "height": 541
        },
        "id": "vRjaEcrOaiv-",
        "outputId": "4857729c-cdba-40fc-c4b7-6f39db105487"
      },
      "execution_count": 7,
      "outputs": [
        {
          "output_type": "display_data",
          "data": {
            "text/plain": [
              "<Figure size 640x480 with 1 Axes>"
            ],
            "image/png": "[encoded data removed]"
          },
          "metadata": {}
        }
      ]
    },
    {
      "cell_type": "code",
      "source": [
        "X = df[['url']]\n",
        "y = df['type'] \n",
        "\n",
        "under_sampler = RandomUnderSampler(random_state=42)\n",
        "X_resampled, y_resampled = under_sampler.fit_resample(X, y)\n",
        "\n",
        "print(\"處理後的樣本數:\", len(X_resampled))\n",
        "print(\"處理後的樣本分佈:\")\n",
        "print(y_resampled.value_counts())\n",
        "\n",
        "re_df = pd.concat([X_resampled, y_resampled], axis=1)\n",
        "if display:\n",
        "  re_df = re_df.sample(n=10000, random_state=42)"
      ],
      "metadata": {
        "colab": {
          "base_uri": "https://localhost:8080/"
        },
        "id": "dAjkp1RmxCfH",
        "outputId": "b5090255-680b-47c7-de99-ff2e294457e9"
      },
      "execution_count": 26,
      "outputs": [
        {
          "output_type": "stream",
          "name": "stdout",
          "text": [
            "處理後的樣本數: 130080\n",
            "處理後的樣本分佈:\n",
            "benign        32520\n",
            "defacement    32520\n",
            "malware       32520\n",
            "phishing      32520\n",
            "Name: type, dtype: int64\n"
          ]
        }
      ]
    },
    {
      "cell_type": "markdown",
      "source": [
        "# 預處理"
      ],
      "metadata": {
        "id": "ljQyOnD6rtza"
      }
    },
    {
      "cell_type": "markdown",
      "source": [
        "## 特殊字符\n",
        "計算特殊字符之數量，若完全沒該字符出現，則捨棄此字符欄位。"
      ],
      "metadata": {
        "id": "MV5wXu2Vr0Jk"
      }
    },
    {
      "cell_type": "code",
      "source": [
        "special_chars = ['!', '@', '#', '$', '%', '^', '&', '*', '(', ')', '_', '-', '+', '=',\\\n",
        "         '{', '}', '[', ']', '|', '\\\\', ':', ';', '<', '>', ',', '.', '?', '/', '`', '~']  # 定义特殊字符列表\n",
        "\n",
        "for a in special_chars:\n",
        "    re_df[a] = re_df['url'].apply(lambda i: i.count(a))\n",
        "absent_chars = [char for char in special_chars if re_df[char].sum() == 0]\n",
        "re_df.drop(columns=absent_chars, inplace=True)"
      ],
      "metadata": {
        "id": "m07i2eg6bQu6"
      },
      "execution_count": 27,
      "outputs": []
    },
    {
      "cell_type": "markdown",
      "source": [
        "## https 檢查 & url長度計算\n",
        "檢查是否帶有https字串，如有則計為1。  \n",
        "計算url之總長度"
      ],
      "metadata": {
        "id": "Dsp0AYDnsxt9"
      }
    },
    {
      "cell_type": "code",
      "source": [
        "def httpSecure(url):\n",
        "    http = urlparse(url).scheme\n",
        "    match = str(http)\n",
        "    if match=='https':\n",
        "        return 1\n",
        "    else:\n",
        "        return 0\n",
        "re_df['https'] = re_df['url'].apply(lambda i: httpSecure(i))\n",
        "re_df['url_len'] = re_df['url'].apply(lambda i: len(str(i)))"
      ],
      "metadata": {
        "id": "04JHQQ-_el1_"
      },
      "execution_count": 28,
      "outputs": []
    },
    {
      "cell_type": "code",
      "source": [
        "re_df.info()"
      ],
      "metadata": {
        "id": "PQir77QvAHc6",
        "outputId": "504542de-36c3-4c43-d224-7440040201a1",
        "colab": {
          "base_uri": "https://localhost:8080/"
        }
      },
      "execution_count": 29,
      "outputs": [
        {
          "output_type": "stream",
          "name": "stdout",
          "text": [
            "<class 'pandas.core.frame.DataFrame'>\n",
            "Int64Index: 10000 entries, 115240 to 117856\n",
            "Data columns (total 32 columns):\n",
            " #   Column   Non-Null Count  Dtype \n",
            "---  ------   --------------  ----- \n",
            " 0   url      10000 non-null  object\n",
            " 1   type     10000 non-null  object\n",
            " 2   !        10000 non-null  int64 \n",
            " 3   @        10000 non-null  int64 \n",
            " 4   #        10000 non-null  int64 \n",
            " 5   $        10000 non-null  int64 \n",
            " 6   %        10000 non-null  int64 \n",
            " 7   ^        10000 non-null  int64 \n",
            " 8   &        10000 non-null  int64 \n",
            " 9   *        10000 non-null  int64 \n",
            " 10  (        10000 non-null  int64 \n",
            " 11  )        10000 non-null  int64 \n",
            " 12  _        10000 non-null  int64 \n",
            " 13  -        10000 non-null  int64 \n",
            " 14  +        10000 non-null  int64 \n",
            " 15  =        10000 non-null  int64 \n",
            " 16  {        10000 non-null  int64 \n",
            " 17  }        10000 non-null  int64 \n",
            " 18  [        10000 non-null  int64 \n",
            " 19  ]        10000 non-null  int64 \n",
            " 20  |        10000 non-null  int64 \n",
            " 21  \\        10000 non-null  int64 \n",
            " 22  :        10000 non-null  int64 \n",
            " 23  ;        10000 non-null  int64 \n",
            " 24  >        10000 non-null  int64 \n",
            " 25  ,        10000 non-null  int64 \n",
            " 26  .        10000 non-null  int64 \n",
            " 27  ?        10000 non-null  int64 \n",
            " 28  /        10000 non-null  int64 \n",
            " 29  ~        10000 non-null  int64 \n",
            " 30  https    10000 non-null  int64 \n",
            " 31  url_len  10000 non-null  int64 \n",
            "dtypes: int64(30), object(2)\n",
            "memory usage: 2.5+ MB\n"
          ]
        }
      ]
    },
    {
      "cell_type": "markdown",
      "source": [
        "## 加載bert模型"
      ],
      "metadata": {
        "id": "TjcxPcB5tT3N"
      }
    },
    {
      "cell_type": "code",
      "source": [
        "tokenizer = BertTokenizer.from_pretrained('bert-base-uncased')\n",
        "model = BertModel.from_pretrained('bert-base-uncased').to(device)"
      ],
      "metadata": {
        "colab": {
          "base_uri": "https://localhost:8080/"
        },
        "id": "mDzleYwdo7P9",
        "outputId": "92c97159-900b-441c-e004-b1eb64c40103"
      },
      "execution_count": 30,
      "outputs": [
        {
          "output_type": "stream",
          "name": "stderr",
          "text": [
            "Some weights of the model checkpoint at bert-base-uncased were not used when initializing BertModel: ['cls.seq_relationship.weight', 'cls.predictions.decoder.weight', 'cls.predictions.transform.LayerNorm.bias', 'cls.predictions.transform.dense.weight', 'cls.predictions.transform.LayerNorm.weight', 'cls.seq_relationship.bias', 'cls.predictions.transform.dense.bias', 'cls.predictions.bias']\n",
            "- This IS expected if you are initializing BertModel from the checkpoint of a model trained on another task or with another architecture (e.g. initializing a BertForSequenceClassification model from a BertForPreTraining model).\n",
            "- This IS NOT expected if you are initializing BertModel from the checkpoint of a model that you expect to be exactly identical (initializing a BertForSequenceClassification model from a BertForSequenceClassification model).\n"
          ]
        }
      ]
    },
    {
      "cell_type": "markdown",
      "source": [
        "## 切割url\n",
        "1.  將url的特殊字符去除，獲得剩餘單字詞的集合，例如:www.example.com => [www, example, com]。\n",
        "2.  使用已訓練好的tokenizer獲得單詞之token ID，將token集合放入bert 模型生成1維768長度的值\n",
        "3.  display mode預估訓練時間3分半"
      ],
      "metadata": {
        "id": "1yb85IiGRrbj"
      }
    },
    {
      "cell_type": "code",
      "source": [
        "def urlSplitBatch(urls):\n",
        "    url_parts = [re.sub(r'\\s+', ' ', re.sub(r'[^\\w\\s]', ' ', url)).split(' ') for url in urls]\n",
        "    tokens = [tokenizer.batch_encode_plus(parts, padding=True, truncation=True, return_tensors='pt') for parts in url_parts]\n",
        "    input_ids = [token[\"input_ids\"] for token in tokens]\n",
        "    url_vectors = []\n",
        "    for ids in input_ids:\n",
        "      with torch.no_grad():\n",
        "          ids = ids.to(device)\n",
        "          last_hidden_states = model(ids)[0]\n",
        "      url_vectors.append(last_hidden_states.mean(dim=[0, 1]).unsqueeze(0))\n",
        "\n",
        "    url_vectors = torch.cat(url_vectors, dim=0).to(device)\n",
        "    return url_vectors\n",
        "\n",
        "\n",
        "# 在主要迴圈中使用批次處理\n",
        "BATCH_SIZE = 100  # 你可以根據你的硬體配置和需求來調整批次的大小\n",
        "word_vector = []\n",
        "rows_to_drop = []\n",
        "total = len(re_df['url'])\n",
        "checkpoint = total // 100\n",
        "for i in range(0, total, BATCH_SIZE):\n",
        "  batch = re_df['url'][i:i+BATCH_SIZE]\n",
        "  try:\n",
        "    split_urls = urlSplitBatch(batch)  # 對整個批次進行split操作\n",
        "  except:\n",
        "    print(f\"第{i}批資料集發生錯誤，跳過並移除\")\n",
        "    rows_to_drop.extend(range(i, min(i+BATCH_SIZE, len(re_df['url']))))  # 若split操作失敗，將整個批次的索引加入要刪除的列表\n",
        "    continue\n",
        "\n",
        "  list_from_tensor = split_urls.tolist()\n",
        "  word_vector.extend(list_from_tensor)\n",
        "\n",
        "  if (i + BATCH_SIZE) % checkpoint == 0:\n",
        "      print(\"已完成：{:.0f}%\".format((i + BATCH_SIZE) / len(re_df['url']) * 100))"
      ],
      "metadata": {
        "id": "pmPZI8jL_pKm",
        "outputId": "f83654f9-ff73-4765-f7b2-91d0f917d522",
        "colab": {
          "base_uri": "https://localhost:8080/"
        }
      },
      "execution_count": 31,
      "outputs": [
        {
          "output_type": "stream",
          "name": "stdout",
          "text": [
            "已完成：1%\n",
            "已完成：2%\n",
            "已完成：3%\n",
            "已完成：4%\n",
            "已完成：5%\n",
            "已完成：6%\n",
            "已完成：7%\n",
            "已完成：8%\n",
            "已完成：9%\n",
            "已完成：10%\n",
            "已完成：11%\n",
            "已完成：12%\n",
            "已完成：13%\n",
            "已完成：14%\n",
            "已完成：15%\n",
            "已完成：16%\n",
            "已完成：17%\n",
            "已完成：18%\n",
            "已完成：19%\n",
            "已完成：20%\n",
            "已完成：21%\n",
            "已完成：22%\n",
            "已完成：23%\n",
            "已完成：24%\n",
            "已完成：25%\n",
            "已完成：26%\n",
            "已完成：27%\n",
            "已完成：28%\n",
            "已完成：29%\n",
            "已完成：30%\n",
            "已完成：31%\n",
            "已完成：32%\n",
            "已完成：33%\n",
            "已完成：34%\n",
            "已完成：35%\n",
            "已完成：36%\n",
            "已完成：37%\n",
            "已完成：38%\n",
            "已完成：39%\n",
            "已完成：40%\n",
            "已完成：41%\n",
            "已完成：42%\n",
            "已完成：43%\n",
            "已完成：44%\n",
            "已完成：45%\n",
            "已完成：46%\n",
            "已完成：47%\n",
            "已完成：48%\n",
            "已完成：49%\n",
            "已完成：50%\n",
            "已完成：51%\n",
            "已完成：52%\n",
            "已完成：53%\n",
            "已完成：54%\n",
            "已完成：55%\n",
            "已完成：56%\n",
            "已完成：57%\n",
            "已完成：58%\n",
            "已完成：59%\n",
            "已完成：60%\n",
            "已完成：61%\n",
            "已完成：62%\n",
            "已完成：63%\n",
            "已完成：64%\n",
            "已完成：65%\n",
            "已完成：66%\n",
            "已完成：67%\n",
            "已完成：68%\n",
            "已完成：69%\n",
            "已完成：70%\n",
            "已完成：71%\n",
            "已完成：72%\n",
            "已完成：73%\n",
            "已完成：74%\n",
            "已完成：75%\n",
            "已完成：76%\n",
            "已完成：77%\n",
            "已完成：78%\n",
            "已完成：79%\n",
            "已完成：80%\n",
            "已完成：81%\n",
            "已完成：82%\n",
            "已完成：83%\n",
            "已完成：84%\n",
            "已完成：85%\n",
            "已完成：86%\n",
            "已完成：87%\n",
            "已完成：88%\n",
            "已完成：89%\n",
            "已完成：90%\n",
            "已完成：91%\n",
            "已完成：92%\n",
            "已完成：93%\n",
            "已完成：94%\n",
            "已完成：95%\n",
            "已完成：96%\n",
            "已完成：97%\n",
            "已完成：98%\n",
            "已完成：99%\n",
            "已完成：100%\n"
          ]
        }
      ]
    },
    {
      "cell_type": "markdown",
      "source": [
        "## 切分成3種特徵\n",
        "1.  純單字詞矩陣\n",
        "2.  純原url之特徵矩陣\n",
        "3.  上面兩種之結合"
      ],
      "metadata": {
        "id": "3wSRMHRETCic"
      }
    },
    {
      "cell_type": "code",
      "source": [
        "word_vector_array = word_vector\n",
        "feature_array = re_df.drop(['url', 'type'], axis=1).to_numpy()\n",
        "merged_array = np.hstack((feature_array, word_vector_array))\n",
        "\n",
        "target = pd.get_dummies(re_df['type'], columns=['type'])"
      ],
      "metadata": {
        "id": "Zch7sbk1ll2C"
      },
      "execution_count": 32,
      "outputs": []
    },
    {
      "cell_type": "markdown",
      "source": [
        "## scikit-learn 模型訓練\n",
        "使用決策樹和隨機森林分別對3種特徵進行訓練"
      ],
      "metadata": {
        "id": "eGakIY8tUtZU"
      }
    },
    {
      "cell_type": "code",
      "source": [
        "feature_arrays = [feature_array, word_vector_array, merged_array]\n",
        "feature_name = [\"feature_array\", \"word_vector_array\", \"merged_array\"]\n",
        "models = [DecisionTreeClassifier(), RandomForestClassifier(),XGBClassifier(use_label_encoder=False, eval_metric='mlogloss', tree_method='gpu_hist')]\n",
        "\n",
        "print(\"{:<20s} {:<20s} {:<10s}\".format(\"特徵\", \"模型\", \"準確率\"))\n",
        "print(\"=\"*50)\n",
        "\n",
        "for i,features in enumerate(feature_arrays):\n",
        "    X_train, X_test, y_train, y_test = train_test_split(features, target, test_size=0.2, random_state=42)\n",
        "    \n",
        "    for model in models:\n",
        "        classifier = model\n",
        "\n",
        "        classifier.fit(X_train, y_train)\n",
        "\n",
        "        y_pred = classifier.predict(X_test)\n",
        "\n",
        "        accuracy = classifier.score(X_test, y_test)\n",
        "\n",
        "        print(\"{:<20s} {:<20s} {:.4f}\".format(feature_name[i], model.__class__.__name__, accuracy))\n",
        "\n",
        "print(\"=\"*50)"
      ],
      "metadata": {
        "id": "Xjq8z1DvS52O",
        "outputId": "37cf1097-8a89-493e-fc8f-d3eb183e03f4",
        "colab": {
          "base_uri": "https://localhost:8080/"
        }
      },
      "execution_count": 34,
      "outputs": [
        {
          "output_type": "stream",
          "name": "stderr",
          "text": [
            "/usr/local/lib/python3.10/dist-packages/xgboost/sklearn.py:1395: UserWarning: `use_label_encoder` is deprecated in 1.7.0.\n",
            "  warnings.warn(\"`use_label_encoder` is deprecated in 1.7.0.\")\n"
          ]
        },
        {
          "output_type": "stream",
          "name": "stdout",
          "text": [
            "特徵                   模型                   準確率       \n",
            "==================================================\n",
            "feature_array        DecisionTreeClassifier 0.8060\n",
            "feature_array        RandomForestClassifier 0.8420\n",
            "feature_array        XGBClassifier        0.8405\n",
            "word_vector_array    DecisionTreeClassifier 0.6200\n",
            "word_vector_array    RandomForestClassifier 0.5555\n",
            "word_vector_array    XGBClassifier        0.7355\n",
            "merged_array         DecisionTreeClassifier 0.8010\n",
            "merged_array         RandomForestClassifier 0.6920\n",
            "merged_array         XGBClassifier        0.8680\n",
            "==================================================\n"
          ]
        }
      ]
    },
    {
      "cell_type": "markdown",
      "source": [
        "## 神經網路\n",
        "使用神經網路對三種資料集進行訓練"
      ],
      "metadata": {
        "id": "ILMuGYqGU6R-"
      }
    },
    {
      "cell_type": "code",
      "source": [
        "class FeatureNet(nn.Module):\n",
        "    def __init__(self, x_len):\n",
        "        super(FeatureNet, self).__init__()\n",
        "        self.fc1 = nn.Linear(x_len, 128)\n",
        "        self.fc2 = nn.Linear(128, 256)\n",
        "        self.fc3 = nn.Linear(256, 4)\n",
        "\n",
        "    def forward(self, x):\n",
        "        x = torch.relu(self.fc1(x))\n",
        "        x = torch.relu(self.fc2(x))\n",
        "        x = torch.log_softmax(self.fc3(x), dim=1)\n",
        "        return x\n",
        "class WordNet(nn.Module):\n",
        "    def __init__(self, x_len):\n",
        "        super(WordNet, self).__init__()\n",
        "        self.fc1 = nn.Linear(x_len, 600)\n",
        "        self.bn1 = nn.BatchNorm1d(600)\n",
        "        self.fc2 = nn.Linear(600, 400)\n",
        "        self.bn2 = nn.BatchNorm1d(400)\n",
        "        self.fc3 = nn.Linear(400, 200)\n",
        "        self.bn3 = nn.BatchNorm1d(200)\n",
        "        self.fc4 = nn.Linear(200, 100)\n",
        "        self.dropout = nn.Dropout(0.5)\n",
        "        self.fc5 = nn.Linear(100, 4)\n",
        "\n",
        "    def forward(self, x):\n",
        "        x = F.relu(self.bn1(self.fc1(x)))\n",
        "        x = self.dropout(x)\n",
        "        x = F.relu(self.bn2(self.fc2(x)))\n",
        "        x = self.dropout(x)\n",
        "        x = F.relu(self.bn3(self.fc3(x)))\n",
        "        x = self.dropout(x)\n",
        "        x = F.relu(self.fc4(x))\n",
        "        x = torch.log_softmax(self.fc5(x), dim=1)  # 使用 LogSoftmax\n",
        "        return x"
      ],
      "metadata": {
        "id": "cN92PAb3UsXl"
      },
      "execution_count": 35,
      "outputs": []
    },
    {
      "cell_type": "code",
      "source": [
        "mymodels = [FeatureNet(len(feature_array[0])), WordNet(len(word_vector_array[0])), WordNet(len(merged_array[0]))]\n",
        "feature_names = [\"Feature Array\", \"Word Vector Array\", \"Merged Array\"]\n",
        "Epoch = 10\n",
        "loss_results = {}\n",
        "accuracy_results = {}\n",
        "\n",
        "for model, feature_name, features in zip(mymodels, feature_names, feature_arrays):\n",
        "  print(f\"\\nTraining model with: {feature_name}\\n\")\n",
        "  features_train, features_test, labels_train, labels_test = train_test_split(features, target.values, test_size=0.2, random_state=42)\n",
        "\n",
        "  # numpy轉換tensors\n",
        "  features_train = torch.tensor(features_train, dtype=torch.float32)\n",
        "  labels_train = torch.tensor(labels_train, dtype=torch.float32)\n",
        "  features_test = torch.tensor(features_test, dtype=torch.float32)\n",
        "  labels_test = torch.tensor(labels_test, dtype=torch.float32)\n",
        "\n",
        "  train_dataset = TensorDataset(features_train, labels_train)\n",
        "  test_dataset = TensorDataset(features_test, labels_test)\n",
        "\n",
        "  batch_size = 64\n",
        "  train_dataloader = DataLoader(train_dataset, batch_size=batch_size, shuffle=True)\n",
        "  test_dataloader = DataLoader(test_dataset, batch_size=batch_size, shuffle=False)\n",
        "\n",
        "  net = model.to(device)\n",
        "  criterion = nn.NLLLoss()\n",
        "  optimizer = optim.Adam(net.parameters())\n",
        "  \n",
        "  losses = []\n",
        "  accuracies = []\n",
        "\n",
        "  for epoch in range(Epoch):\n",
        "    running_loss = 0.0\n",
        "    for i, data in enumerate(train_dataloader):\n",
        "      inputs, labels = data\n",
        "      inputs = inputs.to(device)\n",
        "      labels = labels.argmax(dim=1).to(device)\n",
        "      outputs = net(inputs)\n",
        "\n",
        "      optimizer.zero_grad()\n",
        "      loss = criterion(outputs, labels)\n",
        "      loss.backward()\n",
        "      optimizer.step()\n",
        "\n",
        "      running_loss += loss.item()\n",
        "      if (i + 1) % 10 == 0:    # 每10批次打印一次\n",
        "        print(f'[{feature_name}] Epoch {epoch + 1}, Batch {i + 1}, Average Loss: {running_loss / (i + 1)}')\n",
        "\n",
        "    avg_loss = running_loss / (i + 1)\n",
        "    losses.append(avg_loss)\n",
        "\n",
        "    # Test the model\n",
        "    net.eval()  # It's important to set the model to evaluation mode\n",
        "    correct = 0\n",
        "    total = 0\n",
        "    with torch.no_grad():\n",
        "      for data in test_dataloader:\n",
        "        inputs, labels = data\n",
        "        inputs = inputs.to(device)\n",
        "        labels = labels.argmax(dim=1).to(device)\n",
        "        outputs = net(inputs)\n",
        "        _, predicted = torch.max(outputs.data, 1)\n",
        "        total += labels.size(0)\n",
        "        correct += (predicted == labels).sum().item()\n",
        "\n",
        "    accuracy = correct / total\n",
        "    accuracies.append(accuracy)\n",
        "    print(f'[{feature_name}] Epoch {epoch + 1}, Accuracy: {accuracy}')\n",
        "\n",
        "    net.train()  # Reset the model to training mode\n",
        "\n",
        "  # Save the average loss and accuracy for this feature\n",
        "  loss_results[feature_name] = losses\n",
        "  accuracy_results[feature_name] = accuracies\n",
        "\n",
        "print('Finished Training')"
      ],
      "metadata": {
        "id": "kZvziQftcbK5",
        "outputId": "8f9ed376-13b2-472c-8d40-183bc1e7cf39",
        "colab": {
          "base_uri": "https://localhost:8080/"
        }
      },
      "execution_count": 36,
      "outputs": [
        {
          "output_type": "stream",
          "name": "stdout",
          "text": [
            "\n",
            "Training model with: Feature Array\n",
            "\n",
            "[Feature Array] Epoch 1, Batch 10, Average Loss: 1.6733483672142029\n",
            "[Feature Array] Epoch 1, Batch 20, Average Loss: 1.5936881959438325\n",
            "[Feature Array] Epoch 1, Batch 30, Average Loss: 1.4947837392489116\n",
            "[Feature Array] Epoch 1, Batch 40, Average Loss: 1.4316794455051423\n",
            "[Feature Array] Epoch 1, Batch 50, Average Loss: 1.3958583307266235\n",
            "[Feature Array] Epoch 1, Batch 60, Average Loss: 1.3937048037846884\n",
            "[Feature Array] Epoch 1, Batch 70, Average Loss: 1.3671878593308584\n",
            "[Feature Array] Epoch 1, Batch 80, Average Loss: 1.3478222623467446\n",
            "[Feature Array] Epoch 1, Batch 90, Average Loss: 1.3284379230605232\n",
            "[Feature Array] Epoch 1, Batch 100, Average Loss: 1.304980064034462\n",
            "[Feature Array] Epoch 1, Batch 110, Average Loss: 1.2885906311598692\n",
            "[Feature Array] Epoch 1, Batch 120, Average Loss: 1.2711945856610933\n",
            "[Feature Array] Epoch 1, Accuracy: 0.611\n",
            "[Feature Array] Epoch 2, Batch 10, Average Loss: 1.0915963530540467\n",
            "[Feature Array] Epoch 2, Batch 20, Average Loss: 1.0750975131988525\n",
            "[Feature Array] Epoch 2, Batch 30, Average Loss: 1.0648829599221548\n",
            "[Feature Array] Epoch 2, Batch 40, Average Loss: 1.0488320931792259\n",
            "[Feature Array] Epoch 2, Batch 50, Average Loss: 1.0499456715583801\n",
            "[Feature Array] Epoch 2, Batch 60, Average Loss: 1.034703157345454\n",
            "[Feature Array] Epoch 2, Batch 70, Average Loss: 1.0299675464630127\n",
            "[Feature Array] Epoch 2, Batch 80, Average Loss: 1.0260057680308818\n",
            "[Feature Array] Epoch 2, Batch 90, Average Loss: 1.015513894955317\n",
            "[Feature Array] Epoch 2, Batch 100, Average Loss: 1.0106801629066466\n",
            "[Feature Array] Epoch 2, Batch 110, Average Loss: 1.0034581531177869\n",
            "[Feature Array] Epoch 2, Batch 120, Average Loss: 0.9968691592415174\n",
            "[Feature Array] Epoch 2, Accuracy: 0.605\n",
            "[Feature Array] Epoch 3, Batch 10, Average Loss: 0.9003432512283325\n",
            "[Feature Array] Epoch 3, Batch 20, Average Loss: 0.8892072290182114\n",
            "[Feature Array] Epoch 3, Batch 30, Average Loss: 0.8766015787919362\n",
            "[Feature Array] Epoch 3, Batch 40, Average Loss: 0.8763635888695717\n",
            "[Feature Array] Epoch 3, Batch 50, Average Loss: 0.8633069670200348\n",
            "[Feature Array] Epoch 3, Batch 60, Average Loss: 0.8669005046288173\n",
            "[Feature Array] Epoch 3, Batch 70, Average Loss: 0.862196593625205\n",
            "[Feature Array] Epoch 3, Batch 80, Average Loss: 0.8583787262439728\n",
            "[Feature Array] Epoch 3, Batch 90, Average Loss: 0.8520799040794372\n",
            "[Feature Array] Epoch 3, Batch 100, Average Loss: 0.8522245317697525\n",
            "[Feature Array] Epoch 3, Batch 110, Average Loss: 0.8457908012650229\n",
            "[Feature Array] Epoch 3, Batch 120, Average Loss: 0.8411136075854302\n",
            "[Feature Array] Epoch 3, Accuracy: 0.6885\n",
            "[Feature Array] Epoch 4, Batch 10, Average Loss: 0.7856331408023834\n",
            "[Feature Array] Epoch 4, Batch 20, Average Loss: 0.7971850752830505\n",
            "[Feature Array] Epoch 4, Batch 30, Average Loss: 0.8153483688831329\n",
            "[Feature Array] Epoch 4, Batch 40, Average Loss: 0.8106106266379356\n",
            "[Feature Array] Epoch 4, Batch 50, Average Loss: 0.829355263710022\n",
            "[Feature Array] Epoch 4, Batch 60, Average Loss: 0.818486217657725\n",
            "[Feature Array] Epoch 4, Batch 70, Average Loss: 0.8118542015552521\n",
            "[Feature Array] Epoch 4, Batch 80, Average Loss: 0.8015960648655891\n",
            "[Feature Array] Epoch 4, Batch 90, Average Loss: 0.7884349160724216\n",
            "[Feature Array] Epoch 4, Batch 100, Average Loss: 0.7835724014043808\n",
            "[Feature Array] Epoch 4, Batch 110, Average Loss: 0.7804915379394185\n",
            "[Feature Array] Epoch 4, Batch 120, Average Loss: 0.7799200122555097\n",
            "[Feature Array] Epoch 4, Accuracy: 0.7025\n",
            "[Feature Array] Epoch 5, Batch 10, Average Loss: 0.757284414768219\n",
            "[Feature Array] Epoch 5, Batch 20, Average Loss: 0.7526642739772796\n",
            "[Feature Array] Epoch 5, Batch 30, Average Loss: 0.7627227822939555\n",
            "[Feature Array] Epoch 5, Batch 40, Average Loss: 0.7798717737197876\n",
            "[Feature Array] Epoch 5, Batch 50, Average Loss: 0.7906944870948791\n",
            "[Feature Array] Epoch 5, Batch 60, Average Loss: 0.7832858661810557\n",
            "[Feature Array] Epoch 5, Batch 70, Average Loss: 0.7795777014323644\n",
            "[Feature Array] Epoch 5, Batch 80, Average Loss: 0.7725354380905628\n",
            "[Feature Array] Epoch 5, Batch 90, Average Loss: 0.767614969280031\n",
            "[Feature Array] Epoch 5, Batch 100, Average Loss: 0.7630691713094712\n",
            "[Feature Array] Epoch 5, Batch 110, Average Loss: 0.7562994019551711\n",
            "[Feature Array] Epoch 5, Batch 120, Average Loss: 0.7518983677029609\n",
            "[Feature Array] Epoch 5, Accuracy: 0.7015\n",
            "[Feature Array] Epoch 6, Batch 10, Average Loss: 0.6583335340023041\n",
            "[Feature Array] Epoch 6, Batch 20, Average Loss: 0.7121972680091858\n",
            "[Feature Array] Epoch 6, Batch 30, Average Loss: 0.7256687839825948\n",
            "[Feature Array] Epoch 6, Batch 40, Average Loss: 0.7141512677073478\n",
            "[Feature Array] Epoch 6, Batch 50, Average Loss: 0.7037298595905304\n",
            "[Feature Array] Epoch 6, Batch 60, Average Loss: 0.7009486685196559\n",
            "[Feature Array] Epoch 6, Batch 70, Average Loss: 0.7036976652485983\n",
            "[Feature Array] Epoch 6, Batch 80, Average Loss: 0.6991460658609867\n",
            "[Feature Array] Epoch 6, Batch 90, Average Loss: 0.703277728954951\n",
            "[Feature Array] Epoch 6, Batch 100, Average Loss: 0.7026488548517227\n",
            "[Feature Array] Epoch 6, Batch 110, Average Loss: 0.7015254735946655\n",
            "[Feature Array] Epoch 6, Batch 120, Average Loss: 0.7027856374780337\n",
            "[Feature Array] Epoch 6, Accuracy: 0.7285\n",
            "[Feature Array] Epoch 7, Batch 10, Average Loss: 0.6947097241878509\n",
            "[Feature Array] Epoch 7, Batch 20, Average Loss: 0.67500801384449\n",
            "[Feature Array] Epoch 7, Batch 30, Average Loss: 0.682275801897049\n",
            "[Feature Array] Epoch 7, Batch 40, Average Loss: 0.6794933453202248\n",
            "[Feature Array] Epoch 7, Batch 50, Average Loss: 0.6821225917339325\n",
            "[Feature Array] Epoch 7, Batch 60, Average Loss: 0.6703858385483424\n",
            "[Feature Array] Epoch 7, Batch 70, Average Loss: 0.6805134066513606\n",
            "[Feature Array] Epoch 7, Batch 80, Average Loss: 0.6801294542849063\n",
            "[Feature Array] Epoch 7, Batch 90, Average Loss: 0.6825546463330586\n",
            "[Feature Array] Epoch 7, Batch 100, Average Loss: 0.6851710218191147\n",
            "[Feature Array] Epoch 7, Batch 110, Average Loss: 0.6876344366507097\n",
            "[Feature Array] Epoch 7, Batch 120, Average Loss: 0.6891729190945626\n",
            "[Feature Array] Epoch 7, Accuracy: 0.7405\n",
            "[Feature Array] Epoch 8, Batch 10, Average Loss: 0.7157431244850159\n",
            "[Feature Array] Epoch 8, Batch 20, Average Loss: 0.7309863194823265\n",
            "[Feature Array] Epoch 8, Batch 30, Average Loss: 0.7170100857814153\n",
            "[Feature Array] Epoch 8, Batch 40, Average Loss: 0.7034437827765941\n",
            "[Feature Array] Epoch 8, Batch 50, Average Loss: 0.6920968466997146\n",
            "[Feature Array] Epoch 8, Batch 60, Average Loss: 0.6789131248990695\n",
            "[Feature Array] Epoch 8, Batch 70, Average Loss: 0.6726844664130892\n",
            "[Feature Array] Epoch 8, Batch 80, Average Loss: 0.672986201569438\n",
            "[Feature Array] Epoch 8, Batch 90, Average Loss: 0.6725611630413267\n",
            "[Feature Array] Epoch 8, Batch 100, Average Loss: 0.6681284126639366\n",
            "[Feature Array] Epoch 8, Batch 110, Average Loss: 0.6645443531599912\n",
            "[Feature Array] Epoch 8, Batch 120, Average Loss: 0.6618964418768882\n",
            "[Feature Array] Epoch 8, Accuracy: 0.759\n",
            "[Feature Array] Epoch 9, Batch 10, Average Loss: 0.6098847270011902\n",
            "[Feature Array] Epoch 9, Batch 20, Average Loss: 0.6369715854525566\n",
            "[Feature Array] Epoch 9, Batch 30, Average Loss: 0.6390570292870204\n",
            "[Feature Array] Epoch 9, Batch 40, Average Loss: 0.6330376587808132\n",
            "[Feature Array] Epoch 9, Batch 50, Average Loss: 0.6448882472515106\n",
            "[Feature Array] Epoch 9, Batch 60, Average Loss: 0.6393249263366063\n",
            "[Feature Array] Epoch 9, Batch 70, Average Loss: 0.6418149198804582\n",
            "[Feature Array] Epoch 9, Batch 80, Average Loss: 0.6354322161525487\n",
            "[Feature Array] Epoch 9, Batch 90, Average Loss: 0.6392745792865753\n",
            "[Feature Array] Epoch 9, Batch 100, Average Loss: 0.638929716348648\n",
            "[Feature Array] Epoch 9, Batch 110, Average Loss: 0.6424317224459215\n",
            "[Feature Array] Epoch 9, Batch 120, Average Loss: 0.6471001456181208\n",
            "[Feature Array] Epoch 9, Accuracy: 0.7655\n",
            "[Feature Array] Epoch 10, Batch 10, Average Loss: 0.5748024761676789\n",
            "[Feature Array] Epoch 10, Batch 20, Average Loss: 0.6046850591897964\n",
            "[Feature Array] Epoch 10, Batch 30, Average Loss: 0.6216328382492066\n",
            "[Feature Array] Epoch 10, Batch 40, Average Loss: 0.6277644895017147\n",
            "[Feature Array] Epoch 10, Batch 50, Average Loss: 0.629573667049408\n",
            "[Feature Array] Epoch 10, Batch 60, Average Loss: 0.6230232591430346\n",
            "[Feature Array] Epoch 10, Batch 70, Average Loss: 0.6242046215704509\n",
            "[Feature Array] Epoch 10, Batch 80, Average Loss: 0.6235722742974759\n",
            "[Feature Array] Epoch 10, Batch 90, Average Loss: 0.62038022213512\n",
            "[Feature Array] Epoch 10, Batch 100, Average Loss: 0.6220334279537201\n",
            "[Feature Array] Epoch 10, Batch 110, Average Loss: 0.6227585700425234\n",
            "[Feature Array] Epoch 10, Batch 120, Average Loss: 0.6288071736693382\n",
            "[Feature Array] Epoch 10, Accuracy: 0.766\n",
            "\n",
            "Training model with: Word Vector Array\n",
            "\n",
            "[Word Vector Array] Epoch 1, Batch 10, Average Loss: 1.3578977823257445\n",
            "[Word Vector Array] Epoch 1, Batch 20, Average Loss: 1.30491002202034\n",
            "[Word Vector Array] Epoch 1, Batch 30, Average Loss: 1.2632056713104247\n",
            "[Word Vector Array] Epoch 1, Batch 40, Average Loss: 1.2248152554035188\n",
            "[Word Vector Array] Epoch 1, Batch 50, Average Loss: 1.187427396774292\n",
            "[Word Vector Array] Epoch 1, Batch 60, Average Loss: 1.1552271783351897\n",
            "[Word Vector Array] Epoch 1, Batch 70, Average Loss: 1.1240456862109047\n",
            "[Word Vector Array] Epoch 1, Batch 80, Average Loss: 1.095882337540388\n",
            "[Word Vector Array] Epoch 1, Batch 90, Average Loss: 1.0730630543496873\n",
            "[Word Vector Array] Epoch 1, Batch 100, Average Loss: 1.053134087920189\n",
            "[Word Vector Array] Epoch 1, Batch 110, Average Loss: 1.0393245144323868\n",
            "[Word Vector Array] Epoch 1, Batch 120, Average Loss: 1.022798188527425\n",
            "[Word Vector Array] Epoch 1, Accuracy: 0.7345\n",
            "[Word Vector Array] Epoch 2, Batch 10, Average Loss: 0.7489777147769928\n",
            "[Word Vector Array] Epoch 2, Batch 20, Average Loss: 0.7930601239204407\n",
            "[Word Vector Array] Epoch 2, Batch 30, Average Loss: 0.789303982257843\n",
            "[Word Vector Array] Epoch 2, Batch 40, Average Loss: 0.775918361544609\n",
            "[Word Vector Array] Epoch 2, Batch 50, Average Loss: 0.7752363562583924\n",
            "[Word Vector Array] Epoch 2, Batch 60, Average Loss: 0.7701554775238038\n",
            "[Word Vector Array] Epoch 2, Batch 70, Average Loss: 0.7686310061386653\n",
            "[Word Vector Array] Epoch 2, Batch 80, Average Loss: 0.7709812983870507\n",
            "[Word Vector Array] Epoch 2, Batch 90, Average Loss: 0.7667141139507294\n",
            "[Word Vector Array] Epoch 2, Batch 100, Average Loss: 0.7624708008766174\n",
            "[Word Vector Array] Epoch 2, Batch 110, Average Loss: 0.7613880092447455\n",
            "[Word Vector Array] Epoch 2, Batch 120, Average Loss: 0.7527020126581192\n",
            "[Word Vector Array] Epoch 2, Accuracy: 0.737\n",
            "[Word Vector Array] Epoch 3, Batch 10, Average Loss: 0.7499875724315643\n",
            "[Word Vector Array] Epoch 3, Batch 20, Average Loss: 0.7066770032048225\n",
            "[Word Vector Array] Epoch 3, Batch 30, Average Loss: 0.6871409396330516\n",
            "[Word Vector Array] Epoch 3, Batch 40, Average Loss: 0.696875824034214\n",
            "[Word Vector Array] Epoch 3, Batch 50, Average Loss: 0.6893193781375885\n",
            "[Word Vector Array] Epoch 3, Batch 60, Average Loss: 0.6925062696139018\n",
            "[Word Vector Array] Epoch 3, Batch 70, Average Loss: 0.6892527111939022\n",
            "[Word Vector Array] Epoch 3, Batch 80, Average Loss: 0.6878723338246345\n",
            "[Word Vector Array] Epoch 3, Batch 90, Average Loss: 0.6835515313678318\n",
            "[Word Vector Array] Epoch 3, Batch 100, Average Loss: 0.6801759022474289\n",
            "[Word Vector Array] Epoch 3, Batch 110, Average Loss: 0.6856129524382678\n",
            "[Word Vector Array] Epoch 3, Batch 120, Average Loss: 0.6873240617414316\n",
            "[Word Vector Array] Epoch 3, Accuracy: 0.7655\n",
            "[Word Vector Array] Epoch 4, Batch 10, Average Loss: 0.6873446464538574\n",
            "[Word Vector Array] Epoch 4, Batch 20, Average Loss: 0.686064875125885\n",
            "[Word Vector Array] Epoch 4, Batch 30, Average Loss: 0.6794023911158243\n",
            "[Word Vector Array] Epoch 4, Batch 40, Average Loss: 0.6693425327539444\n",
            "[Word Vector Array] Epoch 4, Batch 50, Average Loss: 0.650745450258255\n",
            "[Word Vector Array] Epoch 4, Batch 60, Average Loss: 0.6386344209313393\n",
            "[Word Vector Array] Epoch 4, Batch 70, Average Loss: 0.6430277398654393\n",
            "[Word Vector Array] Epoch 4, Batch 80, Average Loss: 0.6347749814391136\n",
            "[Word Vector Array] Epoch 4, Batch 90, Average Loss: 0.6367831892437406\n",
            "[Word Vector Array] Epoch 4, Batch 100, Average Loss: 0.6331664988398552\n",
            "[Word Vector Array] Epoch 4, Batch 110, Average Loss: 0.6355343274094841\n",
            "[Word Vector Array] Epoch 4, Batch 120, Average Loss: 0.6344575581451257\n",
            "[Word Vector Array] Epoch 4, Accuracy: 0.7875\n",
            "[Word Vector Array] Epoch 5, Batch 10, Average Loss: 0.6816005647182465\n",
            "[Word Vector Array] Epoch 5, Batch 20, Average Loss: 0.6499820560216903\n",
            "[Word Vector Array] Epoch 5, Batch 30, Average Loss: 0.6451789806286494\n",
            "[Word Vector Array] Epoch 5, Batch 40, Average Loss: 0.6466560825705528\n",
            "[Word Vector Array] Epoch 5, Batch 50, Average Loss: 0.6356488209962845\n",
            "[Word Vector Array] Epoch 5, Batch 60, Average Loss: 0.6349748690923055\n",
            "[Word Vector Array] Epoch 5, Batch 70, Average Loss: 0.6221030460936683\n",
            "[Word Vector Array] Epoch 5, Batch 80, Average Loss: 0.6189034920185804\n",
            "[Word Vector Array] Epoch 5, Batch 90, Average Loss: 0.6144267678260803\n",
            "[Word Vector Array] Epoch 5, Batch 100, Average Loss: 0.6110836350917817\n",
            "[Word Vector Array] Epoch 5, Batch 110, Average Loss: 0.6151587196371772\n",
            "[Word Vector Array] Epoch 5, Batch 120, Average Loss: 0.6170198820531368\n",
            "[Word Vector Array] Epoch 5, Accuracy: 0.7725\n",
            "[Word Vector Array] Epoch 6, Batch 10, Average Loss: 0.6287091493606567\n",
            "[Word Vector Array] Epoch 6, Batch 20, Average Loss: 0.6167326003313065\n",
            "[Word Vector Array] Epoch 6, Batch 30, Average Loss: 0.5932881285746893\n",
            "[Word Vector Array] Epoch 6, Batch 40, Average Loss: 0.5928382940590382\n",
            "[Word Vector Array] Epoch 6, Batch 50, Average Loss: 0.5963836336135864\n",
            "[Word Vector Array] Epoch 6, Batch 60, Average Loss: 0.5949507842461268\n",
            "[Word Vector Array] Epoch 6, Batch 70, Average Loss: 0.5908434527260916\n",
            "[Word Vector Array] Epoch 6, Batch 80, Average Loss: 0.5960539050400258\n",
            "[Word Vector Array] Epoch 6, Batch 90, Average Loss: 0.5941315260198381\n",
            "[Word Vector Array] Epoch 6, Batch 100, Average Loss: 0.5898671260476113\n",
            "[Word Vector Array] Epoch 6, Batch 110, Average Loss: 0.5982231018218127\n",
            "[Word Vector Array] Epoch 6, Batch 120, Average Loss: 0.5981565887729327\n",
            "[Word Vector Array] Epoch 6, Accuracy: 0.8\n",
            "[Word Vector Array] Epoch 7, Batch 10, Average Loss: 0.5167093515396118\n",
            "[Word Vector Array] Epoch 7, Batch 20, Average Loss: 0.574671919643879\n",
            "[Word Vector Array] Epoch 7, Batch 30, Average Loss: 0.5912430346012115\n",
            "[Word Vector Array] Epoch 7, Batch 40, Average Loss: 0.5927164644002915\n",
            "[Word Vector Array] Epoch 7, Batch 50, Average Loss: 0.5884935110807419\n",
            "[Word Vector Array] Epoch 7, Batch 60, Average Loss: 0.5815891077121099\n",
            "[Word Vector Array] Epoch 7, Batch 70, Average Loss: 0.5780996322631836\n",
            "[Word Vector Array] Epoch 7, Batch 80, Average Loss: 0.5830397639423609\n",
            "[Word Vector Array] Epoch 7, Batch 90, Average Loss: 0.5775153024329079\n",
            "[Word Vector Array] Epoch 7, Batch 100, Average Loss: 0.577104381620884\n",
            "[Word Vector Array] Epoch 7, Batch 110, Average Loss: 0.5795640509236942\n",
            "[Word Vector Array] Epoch 7, Batch 120, Average Loss: 0.5797331186632315\n",
            "[Word Vector Array] Epoch 7, Accuracy: 0.789\n",
            "[Word Vector Array] Epoch 8, Batch 10, Average Loss: 0.5846450001001358\n",
            "[Word Vector Array] Epoch 8, Batch 20, Average Loss: 0.5606107175350189\n",
            "[Word Vector Array] Epoch 8, Batch 30, Average Loss: 0.5394731253385544\n",
            "[Word Vector Array] Epoch 8, Batch 40, Average Loss: 0.556969516724348\n",
            "[Word Vector Array] Epoch 8, Batch 50, Average Loss: 0.5479219365119934\n",
            "[Word Vector Array] Epoch 8, Batch 60, Average Loss: 0.5471121529738109\n",
            "[Word Vector Array] Epoch 8, Batch 70, Average Loss: 0.5524675982339041\n",
            "[Word Vector Array] Epoch 8, Batch 80, Average Loss: 0.546731897816062\n",
            "[Word Vector Array] Epoch 8, Batch 90, Average Loss: 0.5497745490736432\n",
            "[Word Vector Array] Epoch 8, Batch 100, Average Loss: 0.5505825611948967\n",
            "[Word Vector Array] Epoch 8, Batch 110, Average Loss: 0.5520486723292958\n",
            "[Word Vector Array] Epoch 8, Batch 120, Average Loss: 0.5567494151492913\n",
            "[Word Vector Array] Epoch 8, Accuracy: 0.7965\n",
            "[Word Vector Array] Epoch 9, Batch 10, Average Loss: 0.5352191239595413\n",
            "[Word Vector Array] Epoch 9, Batch 20, Average Loss: 0.5317679077386857\n",
            "[Word Vector Array] Epoch 9, Batch 30, Average Loss: 0.5291782498359681\n",
            "[Word Vector Array] Epoch 9, Batch 40, Average Loss: 0.5300635367631912\n",
            "[Word Vector Array] Epoch 9, Batch 50, Average Loss: 0.5324338328838348\n",
            "[Word Vector Array] Epoch 9, Batch 60, Average Loss: 0.5259106184045473\n",
            "[Word Vector Array] Epoch 9, Batch 70, Average Loss: 0.5334914871624538\n",
            "[Word Vector Array] Epoch 9, Batch 80, Average Loss: 0.5256120722740889\n",
            "[Word Vector Array] Epoch 9, Batch 90, Average Loss: 0.5249796211719513\n",
            "[Word Vector Array] Epoch 9, Batch 100, Average Loss: 0.5281275737285615\n",
            "[Word Vector Array] Epoch 9, Batch 110, Average Loss: 0.5265401412140239\n",
            "[Word Vector Array] Epoch 9, Batch 120, Average Loss: 0.5273784838616848\n",
            "[Word Vector Array] Epoch 9, Accuracy: 0.782\n",
            "[Word Vector Array] Epoch 10, Batch 10, Average Loss: 0.572188425064087\n",
            "[Word Vector Array] Epoch 10, Batch 20, Average Loss: 0.5466400384902954\n",
            "[Word Vector Array] Epoch 10, Batch 30, Average Loss: 0.5533556838830312\n",
            "[Word Vector Array] Epoch 10, Batch 40, Average Loss: 0.5337060816586018\n",
            "[Word Vector Array] Epoch 10, Batch 50, Average Loss: 0.5353966271877288\n",
            "[Word Vector Array] Epoch 10, Batch 60, Average Loss: 0.5250154346227646\n",
            "[Word Vector Array] Epoch 10, Batch 70, Average Loss: 0.5256214150360652\n",
            "[Word Vector Array] Epoch 10, Batch 80, Average Loss: 0.5316880442202091\n",
            "[Word Vector Array] Epoch 10, Batch 90, Average Loss: 0.5356250123845206\n",
            "[Word Vector Array] Epoch 10, Batch 100, Average Loss: 0.5337850087881089\n",
            "[Word Vector Array] Epoch 10, Batch 110, Average Loss: 0.5375950222665613\n",
            "[Word Vector Array] Epoch 10, Batch 120, Average Loss: 0.5370096758008003\n",
            "[Word Vector Array] Epoch 10, Accuracy: 0.828\n",
            "\n",
            "Training model with: Merged Array\n",
            "\n",
            "[Merged Array] Epoch 1, Batch 10, Average Loss: 1.3446882486343383\n",
            "[Merged Array] Epoch 1, Batch 20, Average Loss: 1.3062097191810609\n",
            "[Merged Array] Epoch 1, Batch 30, Average Loss: 1.254833984375\n",
            "[Merged Array] Epoch 1, Batch 40, Average Loss: 1.2059504866600037\n",
            "[Merged Array] Epoch 1, Batch 50, Average Loss: 1.1660321938991547\n",
            "[Merged Array] Epoch 1, Batch 60, Average Loss: 1.1150206824143727\n",
            "[Merged Array] Epoch 1, Batch 70, Average Loss: 1.0780589742319924\n",
            "[Merged Array] Epoch 1, Batch 80, Average Loss: 1.042656870931387\n",
            "[Merged Array] Epoch 1, Batch 90, Average Loss: 1.008786956469218\n",
            "[Merged Array] Epoch 1, Batch 100, Average Loss: 0.9736416739225388\n",
            "[Merged Array] Epoch 1, Batch 110, Average Loss: 0.9454706820574674\n",
            "[Merged Array] Epoch 1, Batch 120, Average Loss: 0.9309285322825114\n",
            "[Merged Array] Epoch 1, Accuracy: 0.7335\n",
            "[Merged Array] Epoch 2, Batch 10, Average Loss: 0.6833133578300477\n",
            "[Merged Array] Epoch 2, Batch 20, Average Loss: 0.6605485558509827\n",
            "[Merged Array] Epoch 2, Batch 30, Average Loss: 0.6629974842071533\n",
            "[Merged Array] Epoch 2, Batch 40, Average Loss: 0.6414518691599369\n",
            "[Merged Array] Epoch 2, Batch 50, Average Loss: 0.6414979928731919\n",
            "[Merged Array] Epoch 2, Batch 60, Average Loss: 0.6344682022929191\n",
            "[Merged Array] Epoch 2, Batch 70, Average Loss: 0.6269060007163456\n",
            "[Merged Array] Epoch 2, Batch 80, Average Loss: 0.6150812722742558\n",
            "[Merged Array] Epoch 2, Batch 90, Average Loss: 0.6129086875253253\n",
            "[Merged Array] Epoch 2, Batch 100, Average Loss: 0.6118146803975105\n",
            "[Merged Array] Epoch 2, Batch 110, Average Loss: 0.6093587691133673\n",
            "[Merged Array] Epoch 2, Batch 120, Average Loss: 0.6043036259710789\n",
            "[Merged Array] Epoch 2, Accuracy: 0.7855\n",
            "[Merged Array] Epoch 3, Batch 10, Average Loss: 0.521339374780655\n",
            "[Merged Array] Epoch 3, Batch 20, Average Loss: 0.5545718669891357\n",
            "[Merged Array] Epoch 3, Batch 30, Average Loss: 0.5676205078760783\n",
            "[Merged Array] Epoch 3, Batch 40, Average Loss: 0.5525845274329185\n",
            "[Merged Array] Epoch 3, Batch 50, Average Loss: 0.5583520102500915\n",
            "[Merged Array] Epoch 3, Batch 60, Average Loss: 0.5537565221389135\n",
            "[Merged Array] Epoch 3, Batch 70, Average Loss: 0.5599137893744878\n",
            "[Merged Array] Epoch 3, Batch 80, Average Loss: 0.5601405318826437\n",
            "[Merged Array] Epoch 3, Batch 90, Average Loss: 0.55765912897057\n",
            "[Merged Array] Epoch 3, Batch 100, Average Loss: 0.552510467171669\n",
            "[Merged Array] Epoch 3, Batch 110, Average Loss: 0.5465805565769022\n",
            "[Merged Array] Epoch 3, Batch 120, Average Loss: 0.5429007711509863\n",
            "[Merged Array] Epoch 3, Accuracy: 0.827\n",
            "[Merged Array] Epoch 4, Batch 10, Average Loss: 0.5435388892889023\n",
            "[Merged Array] Epoch 4, Batch 20, Average Loss: 0.4901295706629753\n",
            "[Merged Array] Epoch 4, Batch 30, Average Loss: 0.4741937667131424\n",
            "[Merged Array] Epoch 4, Batch 40, Average Loss: 0.48077278211712837\n",
            "[Merged Array] Epoch 4, Batch 50, Average Loss: 0.47789598882198336\n",
            "[Merged Array] Epoch 4, Batch 60, Average Loss: 0.48947732100884117\n",
            "[Merged Array] Epoch 4, Batch 70, Average Loss: 0.4891407655818122\n",
            "[Merged Array] Epoch 4, Batch 80, Average Loss: 0.500317894667387\n",
            "[Merged Array] Epoch 4, Batch 90, Average Loss: 0.49612668719556596\n",
            "[Merged Array] Epoch 4, Batch 100, Average Loss: 0.4927907660603523\n",
            "[Merged Array] Epoch 4, Batch 110, Average Loss: 0.4978422866626219\n",
            "[Merged Array] Epoch 4, Batch 120, Average Loss: 0.49538987105091414\n",
            "[Merged Array] Epoch 4, Accuracy: 0.8505\n",
            "[Merged Array] Epoch 5, Batch 10, Average Loss: 0.4928859263658524\n",
            "[Merged Array] Epoch 5, Batch 20, Average Loss: 0.47588002383708955\n",
            "[Merged Array] Epoch 5, Batch 30, Average Loss: 0.48724814752737683\n",
            "[Merged Array] Epoch 5, Batch 40, Average Loss: 0.4801351621747017\n",
            "[Merged Array] Epoch 5, Batch 50, Average Loss: 0.4786200529336929\n",
            "[Merged Array] Epoch 5, Batch 60, Average Loss: 0.47268513987461724\n",
            "[Merged Array] Epoch 5, Batch 70, Average Loss: 0.4841391069548471\n",
            "[Merged Array] Epoch 5, Batch 80, Average Loss: 0.4841349542140961\n",
            "[Merged Array] Epoch 5, Batch 90, Average Loss: 0.4856134613355001\n",
            "[Merged Array] Epoch 5, Batch 100, Average Loss: 0.4836959859728813\n",
            "[Merged Array] Epoch 5, Batch 110, Average Loss: 0.48354016081853346\n",
            "[Merged Array] Epoch 5, Batch 120, Average Loss: 0.47780430416266123\n",
            "[Merged Array] Epoch 5, Accuracy: 0.846\n",
            "[Merged Array] Epoch 6, Batch 10, Average Loss: 0.47919222712516785\n",
            "[Merged Array] Epoch 6, Batch 20, Average Loss: 0.5153675392270088\n",
            "[Merged Array] Epoch 6, Batch 30, Average Loss: 0.5006406823794047\n",
            "[Merged Array] Epoch 6, Batch 40, Average Loss: 0.4881630510091782\n",
            "[Merged Array] Epoch 6, Batch 50, Average Loss: 0.4780505695939064\n",
            "[Merged Array] Epoch 6, Batch 60, Average Loss: 0.462419564028581\n",
            "[Merged Array] Epoch 6, Batch 70, Average Loss: 0.4584295085498265\n",
            "[Merged Array] Epoch 6, Batch 80, Average Loss: 0.4601768426597118\n",
            "[Merged Array] Epoch 6, Batch 90, Average Loss: 0.45713043544027543\n",
            "[Merged Array] Epoch 6, Batch 100, Average Loss: 0.4557988741993904\n",
            "[Merged Array] Epoch 6, Batch 110, Average Loss: 0.45791415761817583\n",
            "[Merged Array] Epoch 6, Batch 120, Average Loss: 0.4527871529261271\n",
            "[Merged Array] Epoch 6, Accuracy: 0.8725\n",
            "[Merged Array] Epoch 7, Batch 10, Average Loss: 0.41476339995861056\n",
            "[Merged Array] Epoch 7, Batch 20, Average Loss: 0.4374368071556091\n",
            "[Merged Array] Epoch 7, Batch 30, Average Loss: 0.4383571366469065\n",
            "[Merged Array] Epoch 7, Batch 40, Average Loss: 0.4452981691807508\n",
            "[Merged Array] Epoch 7, Batch 50, Average Loss: 0.4344412037730217\n",
            "[Merged Array] Epoch 7, Batch 60, Average Loss: 0.4385412154098352\n",
            "[Merged Array] Epoch 7, Batch 70, Average Loss: 0.448568933563573\n",
            "[Merged Array] Epoch 7, Batch 80, Average Loss: 0.4486605176702142\n",
            "[Merged Array] Epoch 7, Batch 90, Average Loss: 0.4463370136088795\n",
            "[Merged Array] Epoch 7, Batch 100, Average Loss: 0.4501184003055096\n",
            "[Merged Array] Epoch 7, Batch 110, Average Loss: 0.45289161706512626\n",
            "[Merged Array] Epoch 7, Batch 120, Average Loss: 0.4494608070701361\n",
            "[Merged Array] Epoch 7, Accuracy: 0.863\n",
            "[Merged Array] Epoch 8, Batch 10, Average Loss: 0.3962543249130249\n",
            "[Merged Array] Epoch 8, Batch 20, Average Loss: 0.41547234579920767\n",
            "[Merged Array] Epoch 8, Batch 30, Average Loss: 0.39725768665472666\n",
            "[Merged Array] Epoch 8, Batch 40, Average Loss: 0.3952981472015381\n",
            "[Merged Array] Epoch 8, Batch 50, Average Loss: 0.40418310821056364\n",
            "[Merged Array] Epoch 8, Batch 60, Average Loss: 0.4146502753098806\n",
            "[Merged Array] Epoch 8, Batch 70, Average Loss: 0.4195055770022528\n",
            "[Merged Array] Epoch 8, Batch 80, Average Loss: 0.4193198636174202\n",
            "[Merged Array] Epoch 8, Batch 90, Average Loss: 0.4167912430233426\n",
            "[Merged Array] Epoch 8, Batch 100, Average Loss: 0.4140865436196327\n",
            "[Merged Array] Epoch 8, Batch 110, Average Loss: 0.4188846980983561\n",
            "[Merged Array] Epoch 8, Batch 120, Average Loss: 0.4172138767937819\n",
            "[Merged Array] Epoch 8, Accuracy: 0.867\n",
            "[Merged Array] Epoch 9, Batch 10, Average Loss: 0.36797128021717074\n",
            "[Merged Array] Epoch 9, Batch 20, Average Loss: 0.3778010368347168\n",
            "[Merged Array] Epoch 9, Batch 30, Average Loss: 0.39236766993999483\n",
            "[Merged Array] Epoch 9, Batch 40, Average Loss: 0.4010046124458313\n",
            "[Merged Array] Epoch 9, Batch 50, Average Loss: 0.41029479503631594\n",
            "[Merged Array] Epoch 9, Batch 60, Average Loss: 0.4111143117149671\n",
            "[Merged Array] Epoch 9, Batch 70, Average Loss: 0.4104624399117061\n",
            "[Merged Array] Epoch 9, Batch 80, Average Loss: 0.41082255989313127\n",
            "[Merged Array] Epoch 9, Batch 90, Average Loss: 0.40928372111585404\n",
            "[Merged Array] Epoch 9, Batch 100, Average Loss: 0.40729930490255356\n",
            "[Merged Array] Epoch 9, Batch 110, Average Loss: 0.4077838052402843\n",
            "[Merged Array] Epoch 9, Batch 120, Average Loss: 0.40941759645938874\n",
            "[Merged Array] Epoch 9, Accuracy: 0.863\n",
            "[Merged Array] Epoch 10, Batch 10, Average Loss: 0.3918249770998955\n",
            "[Merged Array] Epoch 10, Batch 20, Average Loss: 0.41543136462569236\n",
            "[Merged Array] Epoch 10, Batch 30, Average Loss: 0.4108284537990888\n",
            "[Merged Array] Epoch 10, Batch 40, Average Loss: 0.414052576944232\n",
            "[Merged Array] Epoch 10, Batch 50, Average Loss: 0.41788015693426134\n",
            "[Merged Array] Epoch 10, Batch 60, Average Loss: 0.413032649209102\n",
            "[Merged Array] Epoch 10, Batch 70, Average Loss: 0.4101175846798079\n",
            "[Merged Array] Epoch 10, Batch 80, Average Loss: 0.40512911435216664\n",
            "[Merged Array] Epoch 10, Batch 90, Average Loss: 0.40391942146751614\n",
            "[Merged Array] Epoch 10, Batch 100, Average Loss: 0.40272055700421333\n",
            "[Merged Array] Epoch 10, Batch 110, Average Loss: 0.4032991687005216\n",
            "[Merged Array] Epoch 10, Batch 120, Average Loss: 0.4022529851645231\n",
            "[Merged Array] Epoch 10, Accuracy: 0.872\n",
            "Finished Training\n"
          ]
        }
      ]
    },
    {
      "cell_type": "code",
      "source": [
        "# Draw losses of all features in one graph\n",
        "plt.figure(figsize=(12, 6))\n",
        "plt.subplot(1, 2, 1)\n",
        "for feature_name, losses in loss_results.items():\n",
        "    plt.plot(losses, label=feature_name)\n",
        "plt.title('Model Loss Over Epochs')\n",
        "plt.xlabel('Epoch')\n",
        "plt.ylabel('Loss')\n",
        "plt.legend()\n",
        "\n",
        "# Draw accuracies of all features in one graph\n",
        "plt.subplot(1, 2, 2)\n",
        "for feature_name, accuracies in accuracy_results.items():\n",
        "    plt.plot(accuracies, label=feature_name)\n",
        "plt.title('Model Accuracy Over Epochs')\n",
        "plt.xlabel('Epoch')\n",
        "plt.ylabel('Accuracy')\n",
        "plt.legend()\n",
        "\n",
        "plt.show()"
      ],
      "metadata": {
        "id": "e-KeDpuhhiz0",
        "outputId": "7ea5c627-e94a-47f9-8ef0-6497e8e855fe",
        "colab": {
          "base_uri": "https://localhost:8080/",
          "height": 564
        }
      },
      "execution_count": 37,
      "outputs": [
        {
          "output_type": "display_data",
          "data": {
            "text/plain": [
              "<Figure size 1200x600 with 2 Axes>"
            ],
            "image/png": "[encoded data removed]"
          },
          "metadata": {}
        }
      ]
    }
  ]
}