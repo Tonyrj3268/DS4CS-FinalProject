{
  "nbformat": 4,
  "nbformat_minor": 0,
  "metadata": {
    "colab": {
      "provenance": [],
      "gpuType": "T4",
      "include_colab_link": true
    },
    "kernelspec": {
      "name": "python3",
      "display_name": "Python 3"
    },
    "language_info": {
      "name": "python"
    },
    "accelerator": "GPU",
    "widgets": {
      "application/vnd.jupyter.widget-state+json": {
        "a31c0d0851794612b9465338d6a598b2": {
          "model_module": "@jupyter-widgets/controls",
          "model_name": "HBoxModel",
          "model_module_version": "1.5.0",
          "state": {
            "_dom_classes": [],
            "_model_module": "@jupyter-widgets/controls",
            "_model_module_version": "1.5.0",
            "_model_name": "HBoxModel",
            "_view_count": null,
            "_view_module": "@jupyter-widgets/controls",
            "_view_module_version": "1.5.0",
            "_view_name": "HBoxView",
            "box_style": "",
            "children": [
              "IPY_MODEL_190fee4cecca4a0d8685aa10d5ede73b",
              "IPY_MODEL_62ac2d95ffc54ff883459b52cc41b0db",
              "IPY_MODEL_cbc1774ee8ac4a719df6658951ff9b71"
            ],
            "layout": "IPY_MODEL_0b75f56463984ddca9aa75a535cbadde"
          }
        },
        "190fee4cecca4a0d8685aa10d5ede73b": {
          "model_module": "@jupyter-widgets/controls",
          "model_name": "HTMLModel",
          "model_module_version": "1.5.0",
          "state": {
            "_dom_classes": [],
            "_model_module": "@jupyter-widgets/controls",
            "_model_module_version": "1.5.0",
            "_model_name": "HTMLModel",
            "_view_count": null,
            "_view_module": "@jupyter-widgets/controls",
            "_view_module_version": "1.5.0",
            "_view_name": "HTMLView",
            "description": "",
            "description_tooltip": null,
            "layout": "IPY_MODEL_401beb8ee44b438f9ef22a3b8061f29d",
            "placeholder": "​",
            "style": "IPY_MODEL_ae2fde41f2214e95a068ef3eb00b799b",
            "value": "Downloading (…)solve/main/vocab.txt: 100%"
          }
        },
        "62ac2d95ffc54ff883459b52cc41b0db": {
          "model_module": "@jupyter-widgets/controls",
          "model_name": "FloatProgressModel",
          "model_module_version": "1.5.0",
          "state": {
            "_dom_classes": [],
            "_model_module": "@jupyter-widgets/controls",
            "_model_module_version": "1.5.0",
            "_model_name": "FloatProgressModel",
            "_view_count": null,
            "_view_module": "@jupyter-widgets/controls",
            "_view_module_version": "1.5.0",
            "_view_name": "ProgressView",
            "bar_style": "success",
            "description": "",
            "description_tooltip": null,
            "layout": "IPY_MODEL_de6900069b3b446ba9f0bd5d9d6407a4",
            "max": 231508,
            "min": 0,
            "orientation": "horizontal",
            "style": "IPY_MODEL_e273bb33f10a45408d956e0138502277",
            "value": 231508
          }
        },
        "cbc1774ee8ac4a719df6658951ff9b71": {
          "model_module": "@jupyter-widgets/controls",
          "model_name": "HTMLModel",
          "model_module_version": "1.5.0",
          "state": {
            "_dom_classes": [],
            "_model_module": "@jupyter-widgets/controls",
            "_model_module_version": "1.5.0",
            "_model_name": "HTMLModel",
            "_view_count": null,
            "_view_module": "@jupyter-widgets/controls",
            "_view_module_version": "1.5.0",
            "_view_name": "HTMLView",
            "description": "",
            "description_tooltip": null,
            "layout": "IPY_MODEL_2e3cecd2800e4f50adddeb39e1237e46",
            "placeholder": "​",
            "style": "IPY_MODEL_cd88f1de85f84b6ab4c79fcfe72bbb51",
            "value": " 232k/232k [00:00&lt;00:00, 491kB/s]"
          }
        },
        "0b75f56463984ddca9aa75a535cbadde": {
          "model_module": "@jupyter-widgets/base",
          "model_name": "LayoutModel",
          "model_module_version": "1.2.0",
          "state": {
            "_model_module": "@jupyter-widgets/base",
            "_model_module_version": "1.2.0",
            "_model_name": "LayoutModel",
            "_view_count": null,
            "_view_module": "@jupyter-widgets/base",
            "_view_module_version": "1.2.0",
            "_view_name": "LayoutView",
            "align_content": null,
            "align_items": null,
            "align_self": null,
            "border": null,
            "bottom": null,
            "display": null,
            "flex": null,
            "flex_flow": null,
            "grid_area": null,
            "grid_auto_columns": null,
            "grid_auto_flow": null,
            "grid_auto_rows": null,
            "grid_column": null,
            "grid_gap": null,
            "grid_row": null,
            "grid_template_areas": null,
            "grid_template_columns": null,
            "grid_template_rows": null,
            "height": null,
            "justify_content": null,
            "justify_items": null,
            "left": null,
            "margin": null,
            "max_height": null,
            "max_width": null,
            "min_height": null,
            "min_width": null,
            "object_fit": null,
            "object_position": null,
            "order": null,
            "overflow": null,
            "overflow_x": null,
            "overflow_y": null,
            "padding": null,
            "right": null,
            "top": null,
            "visibility": null,
            "width": null
          }
        },
        "401beb8ee44b438f9ef22a3b8061f29d": {
          "model_module": "@jupyter-widgets/base",
          "model_name": "LayoutModel",
          "model_module_version": "1.2.0",
          "state": {
            "_model_module": "@jupyter-widgets/base",
            "_model_module_version": "1.2.0",
            "_model_name": "LayoutModel",
            "_view_count": null,
            "_view_module": "@jupyter-widgets/base",
            "_view_module_version": "1.2.0",
            "_view_name": "LayoutView",
            "align_content": null,
            "align_items": null,
            "align_self": null,
            "border": null,
            "bottom": null,
            "display": null,
            "flex": null,
            "flex_flow": null,
            "grid_area": null,
            "grid_auto_columns": null,
            "grid_auto_flow": null,
            "grid_auto_rows": null,
            "grid_column": null,
            "grid_gap": null,
            "grid_row": null,
            "grid_template_areas": null,
            "grid_template_columns": null,
            "grid_template_rows": null,
            "height": null,
            "justify_content": null,
            "justify_items": null,
            "left": null,
            "margin": null,
            "max_height": null,
            "max_width": null,
            "min_height": null,
            "min_width": null,
            "object_fit": null,
            "object_position": null,
            "order": null,
            "overflow": null,
            "overflow_x": null,
            "overflow_y": null,
            "padding": null,
            "right": null,
            "top": null,
            "visibility": null,
            "width": null
          }
        },
        "ae2fde41f2214e95a068ef3eb00b799b": {
          "model_module": "@jupyter-widgets/controls",
          "model_name": "DescriptionStyleModel",
          "model_module_version": "1.5.0",
          "state": {
            "_model_module": "@jupyter-widgets/controls",
            "_model_module_version": "1.5.0",
            "_model_name": "DescriptionStyleModel",
            "_view_count": null,
            "_view_module": "@jupyter-widgets/base",
            "_view_module_version": "1.2.0",
            "_view_name": "StyleView",
            "description_width": ""
          }
        },
        "de6900069b3b446ba9f0bd5d9d6407a4": {
          "model_module": "@jupyter-widgets/base",
          "model_name": "LayoutModel",
          "model_module_version": "1.2.0",
          "state": {
            "_model_module": "@jupyter-widgets/base",
            "_model_module_version": "1.2.0",
            "_model_name": "LayoutModel",
            "_view_count": null,
            "_view_module": "@jupyter-widgets/base",
            "_view_module_version": "1.2.0",
            "_view_name": "LayoutView",
            "align_content": null,
            "align_items": null,
            "align_self": null,
            "border": null,
            "bottom": null,
            "display": null,
            "flex": null,
            "flex_flow": null,
            "grid_area": null,
            "grid_auto_columns": null,
            "grid_auto_flow": null,
            "grid_auto_rows": null,
            "grid_column": null,
            "grid_gap": null,
            "grid_row": null,
            "grid_template_areas": null,
            "grid_template_columns": null,
            "grid_template_rows": null,
            "height": null,
            "justify_content": null,
            "justify_items": null,
            "left": null,
            "margin": null,
            "max_height": null,
            "max_width": null,
            "min_height": null,
            "min_width": null,
            "object_fit": null,
            "object_position": null,
            "order": null,
            "overflow": null,
            "overflow_x": null,
            "overflow_y": null,
            "padding": null,
            "right": null,
            "top": null,
            "visibility": null,
            "width": null
          }
        },
        "e273bb33f10a45408d956e0138502277": {
          "model_module": "@jupyter-widgets/controls",
          "model_name": "ProgressStyleModel",
          "model_module_version": "1.5.0",
          "state": {
            "_model_module": "@jupyter-widgets/controls",
            "_model_module_version": "1.5.0",
            "_model_name": "ProgressStyleModel",
            "_view_count": null,
            "_view_module": "@jupyter-widgets/base",
            "_view_module_version": "1.2.0",
            "_view_name": "StyleView",
            "bar_color": null,
            "description_width": ""
          }
        },
        "2e3cecd2800e4f50adddeb39e1237e46": {
          "model_module": "@jupyter-widgets/base",
          "model_name": "LayoutModel",
          "model_module_version": "1.2.0",
          "state": {
            "_model_module": "@jupyter-widgets/base",
            "_model_module_version": "1.2.0",
            "_model_name": "LayoutModel",
            "_view_count": null,
            "_view_module": "@jupyter-widgets/base",
            "_view_module_version": "1.2.0",
            "_view_name": "LayoutView",
            "align_content": null,
            "align_items": null,
            "align_self": null,
            "border": null,
            "bottom": null,
            "display": null,
            "flex": null,
            "flex_flow": null,
            "grid_area": null,
            "grid_auto_columns": null,
            "grid_auto_flow": null,
            "grid_auto_rows": null,
            "grid_column": null,
            "grid_gap": null,
            "grid_row": null,
            "grid_template_areas": null,
            "grid_template_columns": null,
            "grid_template_rows": null,
            "height": null,
            "justify_content": null,
            "justify_items": null,
            "left": null,
            "margin": null,
            "max_height": null,
            "max_width": null,
            "min_height": null,
            "min_width": null,
            "object_fit": null,
            "object_position": null,
            "order": null,
            "overflow": null,
            "overflow_x": null,
            "overflow_y": null,
            "padding": null,
            "right": null,
            "top": null,
            "visibility": null,
            "width": null
          }
        },
        "cd88f1de85f84b6ab4c79fcfe72bbb51": {
          "model_module": "@jupyter-widgets/controls",
          "model_name": "DescriptionStyleModel",
          "model_module_version": "1.5.0",
          "state": {
            "_model_module": "@jupyter-widgets/controls",
            "_model_module_version": "1.5.0",
            "_model_name": "DescriptionStyleModel",
            "_view_count": null,
            "_view_module": "@jupyter-widgets/base",
            "_view_module_version": "1.2.0",
            "_view_name": "StyleView",
            "description_width": ""
          }
        },
        "dc1f5e522f024b469e62cab26b3870b9": {
          "model_module": "@jupyter-widgets/controls",
          "model_name": "HBoxModel",
          "model_module_version": "1.5.0",
          "state": {
            "_dom_classes": [],
            "_model_module": "@jupyter-widgets/controls",
            "_model_module_version": "1.5.0",
            "_model_name": "HBoxModel",
            "_view_count": null,
            "_view_module": "@jupyter-widgets/controls",
            "_view_module_version": "1.5.0",
            "_view_name": "HBoxView",
            "box_style": "",
            "children": [
              "IPY_MODEL_337dda20844d4688a39c1e6d3a315417",
              "IPY_MODEL_c88459fa782648029c202fef08e618b2",
              "IPY_MODEL_e4a0508253c047738013f2b5b16fe557"
            ],
            "layout": "IPY_MODEL_9f84d74b65e6441cb9adf29bb833bcb3"
          }
        },
        "337dda20844d4688a39c1e6d3a315417": {
          "model_module": "@jupyter-widgets/controls",
          "model_name": "HTMLModel",
          "model_module_version": "1.5.0",
          "state": {
            "_dom_classes": [],
            "_model_module": "@jupyter-widgets/controls",
            "_model_module_version": "1.5.0",
            "_model_name": "HTMLModel",
            "_view_count": null,
            "_view_module": "@jupyter-widgets/controls",
            "_view_module_version": "1.5.0",
            "_view_name": "HTMLView",
            "description": "",
            "description_tooltip": null,
            "layout": "IPY_MODEL_dd685645819c42238ccb39bbe94cb5d1",
            "placeholder": "​",
            "style": "IPY_MODEL_91a5aaf515cd49e5b5afb1e2d9b6f942",
            "value": "Downloading (…)okenizer_config.json: 100%"
          }
        },
        "c88459fa782648029c202fef08e618b2": {
          "model_module": "@jupyter-widgets/controls",
          "model_name": "FloatProgressModel",
          "model_module_version": "1.5.0",
          "state": {
            "_dom_classes": [],
            "_model_module": "@jupyter-widgets/controls",
            "_model_module_version": "1.5.0",
            "_model_name": "FloatProgressModel",
            "_view_count": null,
            "_view_module": "@jupyter-widgets/controls",
            "_view_module_version": "1.5.0",
            "_view_name": "ProgressView",
            "bar_style": "success",
            "description": "",
            "description_tooltip": null,
            "layout": "IPY_MODEL_f3b81d65ceb543b0acb3a8858db41337",
            "max": 28,
            "min": 0,
            "orientation": "horizontal",
            "style": "IPY_MODEL_0404349144444a3c81242dc6722ba86a",
            "value": 28
          }
        },
        "e4a0508253c047738013f2b5b16fe557": {
          "model_module": "@jupyter-widgets/controls",
          "model_name": "HTMLModel",
          "model_module_version": "1.5.0",
          "state": {
            "_dom_classes": [],
            "_model_module": "@jupyter-widgets/controls",
            "_model_module_version": "1.5.0",
            "_model_name": "HTMLModel",
            "_view_count": null,
            "_view_module": "@jupyter-widgets/controls",
            "_view_module_version": "1.5.0",
            "_view_name": "HTMLView",
            "description": "",
            "description_tooltip": null,
            "layout": "IPY_MODEL_cd850487cc434271bb212f3a1758ad7f",
            "placeholder": "​",
            "style": "IPY_MODEL_024fb7ae91e44feca2b96269087726ce",
            "value": " 28.0/28.0 [00:00&lt;00:00, 600B/s]"
          }
        },
        "9f84d74b65e6441cb9adf29bb833bcb3": {
          "model_module": "@jupyter-widgets/base",
          "model_name": "LayoutModel",
          "model_module_version": "1.2.0",
          "state": {
            "_model_module": "@jupyter-widgets/base",
            "_model_module_version": "1.2.0",
            "_model_name": "LayoutModel",
            "_view_count": null,
            "_view_module": "@jupyter-widgets/base",
            "_view_module_version": "1.2.0",
            "_view_name": "LayoutView",
            "align_content": null,
            "align_items": null,
            "align_self": null,
            "border": null,
            "bottom": null,
            "display": null,
            "flex": null,
            "flex_flow": null,
            "grid_area": null,
            "grid_auto_columns": null,
            "grid_auto_flow": null,
            "grid_auto_rows": null,
            "grid_column": null,
            "grid_gap": null,
            "grid_row": null,
            "grid_template_areas": null,
            "grid_template_columns": null,
            "grid_template_rows": null,
            "height": null,
            "justify_content": null,
            "justify_items": null,
            "left": null,
            "margin": null,
            "max_height": null,
            "max_width": null,
            "min_height": null,
            "min_width": null,
            "object_fit": null,
            "object_position": null,
            "order": null,
            "overflow": null,
            "overflow_x": null,
            "overflow_y": null,
            "padding": null,
            "right": null,
            "top": null,
            "visibility": null,
            "width": null
          }
        },
        "dd685645819c42238ccb39bbe94cb5d1": {
          "model_module": "@jupyter-widgets/base",
          "model_name": "LayoutModel",
          "model_module_version": "1.2.0",
          "state": {
            "_model_module": "@jupyter-widgets/base",
            "_model_module_version": "1.2.0",
            "_model_name": "LayoutModel",
            "_view_count": null,
            "_view_module": "@jupyter-widgets/base",
            "_view_module_version": "1.2.0",
            "_view_name": "LayoutView",
            "align_content": null,
            "align_items": null,
            "align_self": null,
            "border": null,
            "bottom": null,
            "display": null,
            "flex": null,
            "flex_flow": null,
            "grid_area": null,
            "grid_auto_columns": null,
            "grid_auto_flow": null,
            "grid_auto_rows": null,
            "grid_column": null,
            "grid_gap": null,
            "grid_row": null,
            "grid_template_areas": null,
            "grid_template_columns": null,
            "grid_template_rows": null,
            "height": null,
            "justify_content": null,
            "justify_items": null,
            "left": null,
            "margin": null,
            "max_height": null,
            "max_width": null,
            "min_height": null,
            "min_width": null,
            "object_fit": null,
            "object_position": null,
            "order": null,
            "overflow": null,
            "overflow_x": null,
            "overflow_y": null,
            "padding": null,
            "right": null,
            "top": null,
            "visibility": null,
            "width": null
          }
        },
        "91a5aaf515cd49e5b5afb1e2d9b6f942": {
          "model_module": "@jupyter-widgets/controls",
          "model_name": "DescriptionStyleModel",
          "model_module_version": "1.5.0",
          "state": {
            "_model_module": "@jupyter-widgets/controls",
            "_model_module_version": "1.5.0",
            "_model_name": "DescriptionStyleModel",
            "_view_count": null,
            "_view_module": "@jupyter-widgets/base",
            "_view_module_version": "1.2.0",
            "_view_name": "StyleView",
            "description_width": ""
          }
        },
        "f3b81d65ceb543b0acb3a8858db41337": {
          "model_module": "@jupyter-widgets/base",
          "model_name": "LayoutModel",
          "model_module_version": "1.2.0",
          "state": {
            "_model_module": "@jupyter-widgets/base",
            "_model_module_version": "1.2.0",
            "_model_name": "LayoutModel",
            "_view_count": null,
            "_view_module": "@jupyter-widgets/base",
            "_view_module_version": "1.2.0",
            "_view_name": "LayoutView",
            "align_content": null,
            "align_items": null,
            "align_self": null,
            "border": null,
            "bottom": null,
            "display": null,
            "flex": null,
            "flex_flow": null,
            "grid_area": null,
            "grid_auto_columns": null,
            "grid_auto_flow": null,
            "grid_auto_rows": null,
            "grid_column": null,
            "grid_gap": null,
            "grid_row": null,
            "grid_template_areas": null,
            "grid_template_columns": null,
            "grid_template_rows": null,
            "height": null,
            "justify_content": null,
            "justify_items": null,
            "left": null,
            "margin": null,
            "max_height": null,
            "max_width": null,
            "min_height": null,
            "min_width": null,
            "object_fit": null,
            "object_position": null,
            "order": null,
            "overflow": null,
            "overflow_x": null,
            "overflow_y": null,
            "padding": null,
            "right": null,
            "top": null,
            "visibility": null,
            "width": null
          }
        },
        "0404349144444a3c81242dc6722ba86a": {
          "model_module": "@jupyter-widgets/controls",
          "model_name": "ProgressStyleModel",
          "model_module_version": "1.5.0",
          "state": {
            "_model_module": "@jupyter-widgets/controls",
            "_model_module_version": "1.5.0",
            "_model_name": "ProgressStyleModel",
            "_view_count": null,
            "_view_module": "@jupyter-widgets/base",
            "_view_module_version": "1.2.0",
            "_view_name": "StyleView",
            "bar_color": null,
            "description_width": ""
          }
        },
        "cd850487cc434271bb212f3a1758ad7f": {
          "model_module": "@jupyter-widgets/base",
          "model_name": "LayoutModel",
          "model_module_version": "1.2.0",
          "state": {
            "_model_module": "@jupyter-widgets/base",
            "_model_module_version": "1.2.0",
            "_model_name": "LayoutModel",
            "_view_count": null,
            "_view_module": "@jupyter-widgets/base",
            "_view_module_version": "1.2.0",
            "_view_name": "LayoutView",
            "align_content": null,
            "align_items": null,
            "align_self": null,
            "border": null,
            "bottom": null,
            "display": null,
            "flex": null,
            "flex_flow": null,
            "grid_area": null,
            "grid_auto_columns": null,
            "grid_auto_flow": null,
            "grid_auto_rows": null,
            "grid_column": null,
            "grid_gap": null,
            "grid_row": null,
            "grid_template_areas": null,
            "grid_template_columns": null,
            "grid_template_rows": null,
            "height": null,
            "justify_content": null,
            "justify_items": null,
            "left": null,
            "margin": null,
            "max_height": null,
            "max_width": null,
            "min_height": null,
            "min_width": null,
            "object_fit": null,
            "object_position": null,
            "order": null,
            "overflow": null,
            "overflow_x": null,
            "overflow_y": null,
            "padding": null,
            "right": null,
            "top": null,
            "visibility": null,
            "width": null
          }
        },
        "024fb7ae91e44feca2b96269087726ce": {
          "model_module": "@jupyter-widgets/controls",
          "model_name": "DescriptionStyleModel",
          "model_module_version": "1.5.0",
          "state": {
            "_model_module": "@jupyter-widgets/controls",
            "_model_module_version": "1.5.0",
            "_model_name": "DescriptionStyleModel",
            "_view_count": null,
            "_view_module": "@jupyter-widgets/base",
            "_view_module_version": "1.2.0",
            "_view_name": "StyleView",
            "description_width": ""
          }
        },
        "eb48a24861f94aa095e6b20350951815": {
          "model_module": "@jupyter-widgets/controls",
          "model_name": "HBoxModel",
          "model_module_version": "1.5.0",
          "state": {
            "_dom_classes": [],
            "_model_module": "@jupyter-widgets/controls",
            "_model_module_version": "1.5.0",
            "_model_name": "HBoxModel",
            "_view_count": null,
            "_view_module": "@jupyter-widgets/controls",
            "_view_module_version": "1.5.0",
            "_view_name": "HBoxView",
            "box_style": "",
            "children": [
              "IPY_MODEL_825a6f88953d4ec68a589d8dce2980a5",
              "IPY_MODEL_64482cfe442c44f0921ba0c2bab1b2fc",
              "IPY_MODEL_44b1ba55d804466f8f45f686e74cd2f9"
            ],
            "layout": "IPY_MODEL_ca215d5545594b59bb9d667288db0971"
          }
        },
        "825a6f88953d4ec68a589d8dce2980a5": {
          "model_module": "@jupyter-widgets/controls",
          "model_name": "HTMLModel",
          "model_module_version": "1.5.0",
          "state": {
            "_dom_classes": [],
            "_model_module": "@jupyter-widgets/controls",
            "_model_module_version": "1.5.0",
            "_model_name": "HTMLModel",
            "_view_count": null,
            "_view_module": "@jupyter-widgets/controls",
            "_view_module_version": "1.5.0",
            "_view_name": "HTMLView",
            "description": "",
            "description_tooltip": null,
            "layout": "IPY_MODEL_92b88a7c91e54ddfb178cc4040e30768",
            "placeholder": "​",
            "style": "IPY_MODEL_fa1f9e50a11144359fdc0d7c1a8367c0",
            "value": "Downloading (…)lve/main/config.json: 100%"
          }
        },
        "64482cfe442c44f0921ba0c2bab1b2fc": {
          "model_module": "@jupyter-widgets/controls",
          "model_name": "FloatProgressModel",
          "model_module_version": "1.5.0",
          "state": {
            "_dom_classes": [],
            "_model_module": "@jupyter-widgets/controls",
            "_model_module_version": "1.5.0",
            "_model_name": "FloatProgressModel",
            "_view_count": null,
            "_view_module": "@jupyter-widgets/controls",
            "_view_module_version": "1.5.0",
            "_view_name": "ProgressView",
            "bar_style": "success",
            "description": "",
            "description_tooltip": null,
            "layout": "IPY_MODEL_7b61e3354b80468ab323c45125b27e52",
            "max": 570,
            "min": 0,
            "orientation": "horizontal",
            "style": "IPY_MODEL_7f8bf792b9fa4befa3c68cebae1c767d",
            "value": 570
          }
        },
        "44b1ba55d804466f8f45f686e74cd2f9": {
          "model_module": "@jupyter-widgets/controls",
          "model_name": "HTMLModel",
          "model_module_version": "1.5.0",
          "state": {
            "_dom_classes": [],
            "_model_module": "@jupyter-widgets/controls",
            "_model_module_version": "1.5.0",
            "_model_name": "HTMLModel",
            "_view_count": null,
            "_view_module": "@jupyter-widgets/controls",
            "_view_module_version": "1.5.0",
            "_view_name": "HTMLView",
            "description": "",
            "description_tooltip": null,
            "layout": "IPY_MODEL_88fa07f05adc41d591fac2120b99da93",
            "placeholder": "​",
            "style": "IPY_MODEL_5889cc304398496b87f3c0b7f0bbc7c4",
            "value": " 570/570 [00:00&lt;00:00, 17.6kB/s]"
          }
        },
        "ca215d5545594b59bb9d667288db0971": {
          "model_module": "@jupyter-widgets/base",
          "model_name": "LayoutModel",
          "model_module_version": "1.2.0",
          "state": {
            "_model_module": "@jupyter-widgets/base",
            "_model_module_version": "1.2.0",
            "_model_name": "LayoutModel",
            "_view_count": null,
            "_view_module": "@jupyter-widgets/base",
            "_view_module_version": "1.2.0",
            "_view_name": "LayoutView",
            "align_content": null,
            "align_items": null,
            "align_self": null,
            "border": null,
            "bottom": null,
            "display": null,
            "flex": null,
            "flex_flow": null,
            "grid_area": null,
            "grid_auto_columns": null,
            "grid_auto_flow": null,
            "grid_auto_rows": null,
            "grid_column": null,
            "grid_gap": null,
            "grid_row": null,
            "grid_template_areas": null,
            "grid_template_columns": null,
            "grid_template_rows": null,
            "height": null,
            "justify_content": null,
            "justify_items": null,
            "left": null,
            "margin": null,
            "max_height": null,
            "max_width": null,
            "min_height": null,
            "min_width": null,
            "object_fit": null,
            "object_position": null,
            "order": null,
            "overflow": null,
            "overflow_x": null,
            "overflow_y": null,
            "padding": null,
            "right": null,
            "top": null,
            "visibility": null,
            "width": null
          }
        },
        "92b88a7c91e54ddfb178cc4040e30768": {
          "model_module": "@jupyter-widgets/base",
          "model_name": "LayoutModel",
          "model_module_version": "1.2.0",
          "state": {
            "_model_module": "@jupyter-widgets/base",
            "_model_module_version": "1.2.0",
            "_model_name": "LayoutModel",
            "_view_count": null,
            "_view_module": "@jupyter-widgets/base",
            "_view_module_version": "1.2.0",
            "_view_name": "LayoutView",
            "align_content": null,
            "align_items": null,
            "align_self": null,
            "border": null,
            "bottom": null,
            "display": null,
            "flex": null,
            "flex_flow": null,
            "grid_area": null,
            "grid_auto_columns": null,
            "grid_auto_flow": null,
            "grid_auto_rows": null,
            "grid_column": null,
            "grid_gap": null,
            "grid_row": null,
            "grid_template_areas": null,
            "grid_template_columns": null,
            "grid_template_rows": null,
            "height": null,
            "justify_content": null,
            "justify_items": null,
            "left": null,
            "margin": null,
            "max_height": null,
            "max_width": null,
            "min_height": null,
            "min_width": null,
            "object_fit": null,
            "object_position": null,
            "order": null,
            "overflow": null,
            "overflow_x": null,
            "overflow_y": null,
            "padding": null,
            "right": null,
            "top": null,
            "visibility": null,
            "width": null
          }
        },
        "fa1f9e50a11144359fdc0d7c1a8367c0": {
          "model_module": "@jupyter-widgets/controls",
          "model_name": "DescriptionStyleModel",
          "model_module_version": "1.5.0",
          "state": {
            "_model_module": "@jupyter-widgets/controls",
            "_model_module_version": "1.5.0",
            "_model_name": "DescriptionStyleModel",
            "_view_count": null,
            "_view_module": "@jupyter-widgets/base",
            "_view_module_version": "1.2.0",
            "_view_name": "StyleView",
            "description_width": ""
          }
        },
        "7b61e3354b80468ab323c45125b27e52": {
          "model_module": "@jupyter-widgets/base",
          "model_name": "LayoutModel",
          "model_module_version": "1.2.0",
          "state": {
            "_model_module": "@jupyter-widgets/base",
            "_model_module_version": "1.2.0",
            "_model_name": "LayoutModel",
            "_view_count": null,
            "_view_module": "@jupyter-widgets/base",
            "_view_module_version": "1.2.0",
            "_view_name": "LayoutView",
            "align_content": null,
            "align_items": null,
            "align_self": null,
            "border": null,
            "bottom": null,
            "display": null,
            "flex": null,
            "flex_flow": null,
            "grid_area": null,
            "grid_auto_columns": null,
            "grid_auto_flow": null,
            "grid_auto_rows": null,
            "grid_column": null,
            "grid_gap": null,
            "grid_row": null,
            "grid_template_areas": null,
            "grid_template_columns": null,
            "grid_template_rows": null,
            "height": null,
            "justify_content": null,
            "justify_items": null,
            "left": null,
            "margin": null,
            "max_height": null,
            "max_width": null,
            "min_height": null,
            "min_width": null,
            "object_fit": null,
            "object_position": null,
            "order": null,
            "overflow": null,
            "overflow_x": null,
            "overflow_y": null,
            "padding": null,
            "right": null,
            "top": null,
            "visibility": null,
            "width": null
          }
        },
        "7f8bf792b9fa4befa3c68cebae1c767d": {
          "model_module": "@jupyter-widgets/controls",
          "model_name": "ProgressStyleModel",
          "model_module_version": "1.5.0",
          "state": {
            "_model_module": "@jupyter-widgets/controls",
            "_model_module_version": "1.5.0",
            "_model_name": "ProgressStyleModel",
            "_view_count": null,
            "_view_module": "@jupyter-widgets/base",
            "_view_module_version": "1.2.0",
            "_view_name": "StyleView",
            "bar_color": null,
            "description_width": ""
          }
        },
        "88fa07f05adc41d591fac2120b99da93": {
          "model_module": "@jupyter-widgets/base",
          "model_name": "LayoutModel",
          "model_module_version": "1.2.0",
          "state": {
            "_model_module": "@jupyter-widgets/base",
            "_model_module_version": "1.2.0",
            "_model_name": "LayoutModel",
            "_view_count": null,
            "_view_module": "@jupyter-widgets/base",
            "_view_module_version": "1.2.0",
            "_view_name": "LayoutView",
            "align_content": null,
            "align_items": null,
            "align_self": null,
            "border": null,
            "bottom": null,
            "display": null,
            "flex": null,
            "flex_flow": null,
            "grid_area": null,
            "grid_auto_columns": null,
            "grid_auto_flow": null,
            "grid_auto_rows": null,
            "grid_column": null,
            "grid_gap": null,
            "grid_row": null,
            "grid_template_areas": null,
            "grid_template_columns": null,
            "grid_template_rows": null,
            "height": null,
            "justify_content": null,
            "justify_items": null,
            "left": null,
            "margin": null,
            "max_height": null,
            "max_width": null,
            "min_height": null,
            "min_width": null,
            "object_fit": null,
            "object_position": null,
            "order": null,
            "overflow": null,
            "overflow_x": null,
            "overflow_y": null,
            "padding": null,
            "right": null,
            "top": null,
            "visibility": null,
            "width": null
          }
        },
        "5889cc304398496b87f3c0b7f0bbc7c4": {
          "model_module": "@jupyter-widgets/controls",
          "model_name": "DescriptionStyleModel",
          "model_module_version": "1.5.0",
          "state": {
            "_model_module": "@jupyter-widgets/controls",
            "_model_module_version": "1.5.0",
            "_model_name": "DescriptionStyleModel",
            "_view_count": null,
            "_view_module": "@jupyter-widgets/base",
            "_view_module_version": "1.2.0",
            "_view_name": "StyleView",
            "description_width": ""
          }
        },
        "5da5026ccf3f4942a358cba914087df5": {
          "model_module": "@jupyter-widgets/controls",
          "model_name": "HBoxModel",
          "model_module_version": "1.5.0",
          "state": {
            "_dom_classes": [],
            "_model_module": "@jupyter-widgets/controls",
            "_model_module_version": "1.5.0",
            "_model_name": "HBoxModel",
            "_view_count": null,
            "_view_module": "@jupyter-widgets/controls",
            "_view_module_version": "1.5.0",
            "_view_name": "HBoxView",
            "box_style": "",
            "children": [
              "IPY_MODEL_ae9d85b2545e498483f00fa1d83ff2e0",
              "IPY_MODEL_8b11a8d326b94044ba0ad0d53034247c",
              "IPY_MODEL_aa758a722b9543a79556051a25529260"
            ],
            "layout": "IPY_MODEL_214e1c254ee44ff9ba357201960fad13"
          }
        },
        "ae9d85b2545e498483f00fa1d83ff2e0": {
          "model_module": "@jupyter-widgets/controls",
          "model_name": "HTMLModel",
          "model_module_version": "1.5.0",
          "state": {
            "_dom_classes": [],
            "_model_module": "@jupyter-widgets/controls",
            "_model_module_version": "1.5.0",
            "_model_name": "HTMLModel",
            "_view_count": null,
            "_view_module": "@jupyter-widgets/controls",
            "_view_module_version": "1.5.0",
            "_view_name": "HTMLView",
            "description": "",
            "description_tooltip": null,
            "layout": "IPY_MODEL_1e7a3c9b2b1f4f279d2d190f52b44be4",
            "placeholder": "​",
            "style": "IPY_MODEL_ab37cd274fb24f879cc6d6e6ebf91972",
            "value": "Downloading model.safetensors: 100%"
          }
        },
        "8b11a8d326b94044ba0ad0d53034247c": {
          "model_module": "@jupyter-widgets/controls",
          "model_name": "FloatProgressModel",
          "model_module_version": "1.5.0",
          "state": {
            "_dom_classes": [],
            "_model_module": "@jupyter-widgets/controls",
            "_model_module_version": "1.5.0",
            "_model_name": "FloatProgressModel",
            "_view_count": null,
            "_view_module": "@jupyter-widgets/controls",
            "_view_module_version": "1.5.0",
            "_view_name": "ProgressView",
            "bar_style": "success",
            "description": "",
            "description_tooltip": null,
            "layout": "IPY_MODEL_e8b94ffa525d4051991b7267fa458e11",
            "max": 440449768,
            "min": 0,
            "orientation": "horizontal",
            "style": "IPY_MODEL_518d5291d7424d26b779281d88f4416a",
            "value": 440449768
          }
        },
        "aa758a722b9543a79556051a25529260": {
          "model_module": "@jupyter-widgets/controls",
          "model_name": "HTMLModel",
          "model_module_version": "1.5.0",
          "state": {
            "_dom_classes": [],
            "_model_module": "@jupyter-widgets/controls",
            "_model_module_version": "1.5.0",
            "_model_name": "HTMLModel",
            "_view_count": null,
            "_view_module": "@jupyter-widgets/controls",
            "_view_module_version": "1.5.0",
            "_view_name": "HTMLView",
            "description": "",
            "description_tooltip": null,
            "layout": "IPY_MODEL_2fc0d392df2b411aa460ebf971e12339",
            "placeholder": "​",
            "style": "IPY_MODEL_d4a4a60ea4be4a12ab588cbad56cf4d5",
            "value": " 440M/440M [00:02&lt;00:00, 218MB/s]"
          }
        },
        "214e1c254ee44ff9ba357201960fad13": {
          "model_module": "@jupyter-widgets/base",
          "model_name": "LayoutModel",
          "model_module_version": "1.2.0",
          "state": {
            "_model_module": "@jupyter-widgets/base",
            "_model_module_version": "1.2.0",
            "_model_name": "LayoutModel",
            "_view_count": null,
            "_view_module": "@jupyter-widgets/base",
            "_view_module_version": "1.2.0",
            "_view_name": "LayoutView",
            "align_content": null,
            "align_items": null,
            "align_self": null,
            "border": null,
            "bottom": null,
            "display": null,
            "flex": null,
            "flex_flow": null,
            "grid_area": null,
            "grid_auto_columns": null,
            "grid_auto_flow": null,
            "grid_auto_rows": null,
            "grid_column": null,
            "grid_gap": null,
            "grid_row": null,
            "grid_template_areas": null,
            "grid_template_columns": null,
            "grid_template_rows": null,
            "height": null,
            "justify_content": null,
            "justify_items": null,
            "left": null,
            "margin": null,
            "max_height": null,
            "max_width": null,
            "min_height": null,
            "min_width": null,
            "object_fit": null,
            "object_position": null,
            "order": null,
            "overflow": null,
            "overflow_x": null,
            "overflow_y": null,
            "padding": null,
            "right": null,
            "top": null,
            "visibility": null,
            "width": null
          }
        },
        "1e7a3c9b2b1f4f279d2d190f52b44be4": {
          "model_module": "@jupyter-widgets/base",
          "model_name": "LayoutModel",
          "model_module_version": "1.2.0",
          "state": {
            "_model_module": "@jupyter-widgets/base",
            "_model_module_version": "1.2.0",
            "_model_name": "LayoutModel",
            "_view_count": null,
            "_view_module": "@jupyter-widgets/base",
            "_view_module_version": "1.2.0",
            "_view_name": "LayoutView",
            "align_content": null,
            "align_items": null,
            "align_self": null,
            "border": null,
            "bottom": null,
            "display": null,
            "flex": null,
            "flex_flow": null,
            "grid_area": null,
            "grid_auto_columns": null,
            "grid_auto_flow": null,
            "grid_auto_rows": null,
            "grid_column": null,
            "grid_gap": null,
            "grid_row": null,
            "grid_template_areas": null,
            "grid_template_columns": null,
            "grid_template_rows": null,
            "height": null,
            "justify_content": null,
            "justify_items": null,
            "left": null,
            "margin": null,
            "max_height": null,
            "max_width": null,
            "min_height": null,
            "min_width": null,
            "object_fit": null,
            "object_position": null,
            "order": null,
            "overflow": null,
            "overflow_x": null,
            "overflow_y": null,
            "padding": null,
            "right": null,
            "top": null,
            "visibility": null,
            "width": null
          }
        },
        "ab37cd274fb24f879cc6d6e6ebf91972": {
          "model_module": "@jupyter-widgets/controls",
          "model_name": "DescriptionStyleModel",
          "model_module_version": "1.5.0",
          "state": {
            "_model_module": "@jupyter-widgets/controls",
            "_model_module_version": "1.5.0",
            "_model_name": "DescriptionStyleModel",
            "_view_count": null,
            "_view_module": "@jupyter-widgets/base",
            "_view_module_version": "1.2.0",
            "_view_name": "StyleView",
            "description_width": ""
          }
        },
        "e8b94ffa525d4051991b7267fa458e11": {
          "model_module": "@jupyter-widgets/base",
          "model_name": "LayoutModel",
          "model_module_version": "1.2.0",
          "state": {
            "_model_module": "@jupyter-widgets/base",
            "_model_module_version": "1.2.0",
            "_model_name": "LayoutModel",
            "_view_count": null,
            "_view_module": "@jupyter-widgets/base",
            "_view_module_version": "1.2.0",
            "_view_name": "LayoutView",
            "align_content": null,
            "align_items": null,
            "align_self": null,
            "border": null,
            "bottom": null,
            "display": null,
            "flex": null,
            "flex_flow": null,
            "grid_area": null,
            "grid_auto_columns": null,
            "grid_auto_flow": null,
            "grid_auto_rows": null,
            "grid_column": null,
            "grid_gap": null,
            "grid_row": null,
            "grid_template_areas": null,
            "grid_template_columns": null,
            "grid_template_rows": null,
            "height": null,
            "justify_content": null,
            "justify_items": null,
            "left": null,
            "margin": null,
            "max_height": null,
            "max_width": null,
            "min_height": null,
            "min_width": null,
            "object_fit": null,
            "object_position": null,
            "order": null,
            "overflow": null,
            "overflow_x": null,
            "overflow_y": null,
            "padding": null,
            "right": null,
            "top": null,
            "visibility": null,
            "width": null
          }
        },
        "518d5291d7424d26b779281d88f4416a": {
          "model_module": "@jupyter-widgets/controls",
          "model_name": "ProgressStyleModel",
          "model_module_version": "1.5.0",
          "state": {
            "_model_module": "@jupyter-widgets/controls",
            "_model_module_version": "1.5.0",
            "_model_name": "ProgressStyleModel",
            "_view_count": null,
            "_view_module": "@jupyter-widgets/base",
            "_view_module_version": "1.2.0",
            "_view_name": "StyleView",
            "bar_color": null,
            "description_width": ""
          }
        },
        "2fc0d392df2b411aa460ebf971e12339": {
          "model_module": "@jupyter-widgets/base",
          "model_name": "LayoutModel",
          "model_module_version": "1.2.0",
          "state": {
            "_model_module": "@jupyter-widgets/base",
            "_model_module_version": "1.2.0",
            "_model_name": "LayoutModel",
            "_view_count": null,
            "_view_module": "@jupyter-widgets/base",
            "_view_module_version": "1.2.0",
            "_view_name": "LayoutView",
            "align_content": null,
            "align_items": null,
            "align_self": null,
            "border": null,
            "bottom": null,
            "display": null,
            "flex": null,
            "flex_flow": null,
            "grid_area": null,
            "grid_auto_columns": null,
            "grid_auto_flow": null,
            "grid_auto_rows": null,
            "grid_column": null,
            "grid_gap": null,
            "grid_row": null,
            "grid_template_areas": null,
            "grid_template_columns": null,
            "grid_template_rows": null,
            "height": null,
            "justify_content": null,
            "justify_items": null,
            "left": null,
            "margin": null,
            "max_height": null,
            "max_width": null,
            "min_height": null,
            "min_width": null,
            "object_fit": null,
            "object_position": null,
            "order": null,
            "overflow": null,
            "overflow_x": null,
            "overflow_y": null,
            "padding": null,
            "right": null,
            "top": null,
            "visibility": null,
            "width": null
          }
        },
        "d4a4a60ea4be4a12ab588cbad56cf4d5": {
          "model_module": "@jupyter-widgets/controls",
          "model_name": "DescriptionStyleModel",
          "model_module_version": "1.5.0",
          "state": {
            "_model_module": "@jupyter-widgets/controls",
            "_model_module_version": "1.5.0",
            "_model_name": "DescriptionStyleModel",
            "_view_count": null,
            "_view_module": "@jupyter-widgets/base",
            "_view_module_version": "1.2.0",
            "_view_name": "StyleView",
            "description_width": ""
          }
        }
      }
    }
  },
  "cells": [
    {
      "cell_type": "markdown",
      "metadata": {
        "id": "view-in-github",
        "colab_type": "text"
      },
      "source": [
        "<a href=\"https://colab.research.google.com/github/Tonyrj3268/DS4CS-FinalProject/blob/main/%E6%96%B0%E5%9E%8B%E6%BC%94%E7%AE%97%E6%B3%95.ipynb\" target=\"_parent\"><img src=\"https://colab.research.google.com/assets/colab-badge.svg\" alt=\"Open In Colab\"/></a>"
      ]
    },
    {
      "cell_type": "markdown",
      "source": [
        "\n",
        "\n",
        "# **Member**\n",
        "*   林家誠, 109306066, MIS\n",
        "*   陳彥竹, 1093060xx, MIS\n",
        "\n"
      ],
      "metadata": {
        "id": "xADABvyDhjn7"
      }
    },
    {
      "cell_type": "markdown",
      "source": [
        "# **Title**\n",
        "**url之分析...**"
      ],
      "metadata": {
        "id": "OBefV9KkiOuO"
      }
    },
    {
      "cell_type": "markdown",
      "source": [
        "# **Problem Definition**\n",
        "**Problem Definition**"
      ],
      "metadata": {
        "id": "muEdhK26ia_J"
      }
    },
    {
      "cell_type": "markdown",
      "source": [
        "# **Dataset**\n",
        "**Dataset**\n",
        "**介紹**\n"
      ],
      "metadata": {
        "id": "nrJ6HyyiioMg"
      }
    },
    {
      "cell_type": "markdown",
      "source": [
        "\n",
        "# **description of your models**\n",
        "**models**\n",
        "**介紹**\n"
      ],
      "metadata": {
        "id": "5bWAvB0mi5qh"
      }
    },
    {
      "cell_type": "markdown",
      "source": [
        "\n",
        "# **result**\n",
        "**介紹**\n"
      ],
      "metadata": {
        "id": "yr_8W-b3jEn1"
      }
    },
    {
      "cell_type": "markdown",
      "source": [
        "\n",
        "# **discussion**\n",
        "**介紹**\n"
      ],
      "metadata": {
        "id": "x3ux5SxujH7W"
      }
    },
    {
      "cell_type": "markdown",
      "source": [
        "# 程式碼"
      ],
      "metadata": {
        "id": "ophiuqXajOnI"
      }
    },
    {
      "cell_type": "markdown",
      "source": [
        "## 安裝套件"
      ],
      "metadata": {
        "id": "NzxcafCMjRva"
      }
    },
    {
      "cell_type": "code",
      "source": [
        "!pip install transformers\n",
        "!pip install imbalanced-learn"
      ],
      "metadata": {
        "colab": {
          "base_uri": "https://localhost:8080/"
        },
        "id": "1sV7PnE-qGrM",
        "outputId": "ebc255fb-0546-4606-d40f-0afcc2542bb3"
      },
      "execution_count": 1,
      "outputs": [
        {
          "output_type": "stream",
          "name": "stdout",
          "text": [
            "Looking in indexes: https://pypi.org/simple, https://us-python.pkg.dev/colab-wheels/public/simple/\n",
            "Collecting transformers\n",
            "  Downloading transformers-4.30.2-py3-none-any.whl (7.2 MB)\n",
            "\u001b[2K     \u001b[90m━━━━━━━━━━━━━━━━━━━━━━━━━━━━━━━━━━━━━━━━\u001b[0m \u001b[32m7.2/7.2 MB\u001b[0m \u001b[31m89.7 MB/s\u001b[0m eta \u001b[36m0:00:00\u001b[0m\n",
            "\u001b[?25hRequirement already satisfied: filelock in /usr/local/lib/python3.10/dist-packages (from transformers) (3.12.0)\n",
            "Collecting huggingface-hub<1.0,>=0.14.1 (from transformers)\n",
            "  Downloading huggingface_hub-0.15.1-py3-none-any.whl (236 kB)\n",
            "\u001b[2K     \u001b[90m━━━━━━━━━━━━━━━━━━━━━━━━━━━━━━━━━━━━━━\u001b[0m \u001b[32m236.8/236.8 kB\u001b[0m \u001b[31m27.9 MB/s\u001b[0m eta \u001b[36m0:00:00\u001b[0m\n",
            "\u001b[?25hRequirement already satisfied: numpy>=1.17 in /usr/local/lib/python3.10/dist-packages (from transformers) (1.22.4)\n",
            "Requirement already satisfied: packaging>=20.0 in /usr/local/lib/python3.10/dist-packages (from transformers) (23.1)\n",
            "Requirement already satisfied: pyyaml>=5.1 in /usr/local/lib/python3.10/dist-packages (from transformers) (6.0)\n",
            "Requirement already satisfied: regex!=2019.12.17 in /usr/local/lib/python3.10/dist-packages (from transformers) (2022.10.31)\n",
            "Requirement already satisfied: requests in /usr/local/lib/python3.10/dist-packages (from transformers) (2.27.1)\n",
            "Collecting tokenizers!=0.11.3,<0.14,>=0.11.1 (from transformers)\n",
            "  Downloading tokenizers-0.13.3-cp310-cp310-manylinux_2_17_x86_64.manylinux2014_x86_64.whl (7.8 MB)\n",
            "\u001b[2K     \u001b[90m━━━━━━━━━━━━━━━━━━━━━━━━━━━━━━━━━━━━━━━━\u001b[0m \u001b[32m7.8/7.8 MB\u001b[0m \u001b[31m81.6 MB/s\u001b[0m eta \u001b[36m0:00:00\u001b[0m\n",
            "\u001b[?25hCollecting safetensors>=0.3.1 (from transformers)\n",
            "  Downloading safetensors-0.3.1-cp310-cp310-manylinux_2_17_x86_64.manylinux2014_x86_64.whl (1.3 MB)\n",
            "\u001b[2K     \u001b[90m━━━━━━━━━━━━━━━━━━━━━━━━━━━━━━━━━━━━━━━━\u001b[0m \u001b[32m1.3/1.3 MB\u001b[0m \u001b[31m85.5 MB/s\u001b[0m eta \u001b[36m0:00:00\u001b[0m\n",
            "\u001b[?25hRequirement already satisfied: tqdm>=4.27 in /usr/local/lib/python3.10/dist-packages (from transformers) (4.65.0)\n",
            "Requirement already satisfied: fsspec in /usr/local/lib/python3.10/dist-packages (from huggingface-hub<1.0,>=0.14.1->transformers) (2023.4.0)\n",
            "Requirement already satisfied: typing-extensions>=3.7.4.3 in /usr/local/lib/python3.10/dist-packages (from huggingface-hub<1.0,>=0.14.1->transformers) (4.5.0)\n",
            "Requirement already satisfied: urllib3<1.27,>=1.21.1 in /usr/local/lib/python3.10/dist-packages (from requests->transformers) (1.26.15)\n",
            "Requirement already satisfied: certifi>=2017.4.17 in /usr/local/lib/python3.10/dist-packages (from requests->transformers) (2022.12.7)\n",
            "Requirement already satisfied: charset-normalizer~=2.0.0 in /usr/local/lib/python3.10/dist-packages (from requests->transformers) (2.0.12)\n",
            "Requirement already satisfied: idna<4,>=2.5 in /usr/local/lib/python3.10/dist-packages (from requests->transformers) (3.4)\n",
            "Installing collected packages: tokenizers, safetensors, huggingface-hub, transformers\n",
            "Successfully installed huggingface-hub-0.15.1 safetensors-0.3.1 tokenizers-0.13.3 transformers-4.30.2\n",
            "Looking in indexes: https://pypi.org/simple, https://us-python.pkg.dev/colab-wheels/public/simple/\n",
            "Requirement already satisfied: imbalanced-learn in /usr/local/lib/python3.10/dist-packages (0.10.1)\n",
            "Requirement already satisfied: numpy>=1.17.3 in /usr/local/lib/python3.10/dist-packages (from imbalanced-learn) (1.22.4)\n",
            "Requirement already satisfied: scipy>=1.3.2 in /usr/local/lib/python3.10/dist-packages (from imbalanced-learn) (1.10.1)\n",
            "Requirement already satisfied: scikit-learn>=1.0.2 in /usr/local/lib/python3.10/dist-packages (from imbalanced-learn) (1.2.2)\n",
            "Requirement already satisfied: joblib>=1.1.1 in /usr/local/lib/python3.10/dist-packages (from imbalanced-learn) (1.2.0)\n",
            "Requirement already satisfied: threadpoolctl>=2.0.0 in /usr/local/lib/python3.10/dist-packages (from imbalanced-learn) (3.1.0)\n"
          ]
        }
      ]
    },
    {
      "cell_type": "markdown",
      "source": [
        "## 下載和解壓檔案"
      ],
      "metadata": {
        "id": "CIp1guiRn8xy"
      }
    },
    {
      "cell_type": "code",
      "source": [
        "import requests\n",
        "import zipfile\n",
        "\n",
        "url = 'https://github.com/Tonyrj3268/DS4CS-FinalProject/raw/main/archive.zip'\n",
        "response = requests.get(url)\n",
        "with open('archive.zip', 'wb') as file:\n",
        "    file.write(response.content)\n",
        "with zipfile.ZipFile('archive.zip', 'r') as zip_ref:\n",
        "    zip_ref.extractall('/content/')"
      ],
      "metadata": {
        "id": "FF_Fi6vCjpd0"
      },
      "execution_count": 2,
      "outputs": []
    },
    {
      "cell_type": "markdown",
      "source": [
        "## 加載模組"
      ],
      "metadata": {
        "id": "il0Zip-7oYC_"
      }
    },
    {
      "cell_type": "code",
      "source": [
        "import pandas as pd\n",
        "import matplotlib.pyplot as plt\n",
        "import json\n",
        "import numpy as np\n",
        "import string\n",
        "from urllib.parse import urlparse\n",
        "import re\n",
        "from transformers import BertModel, BertTokenizer\n",
        "import torch\n",
        "from imblearn.under_sampling import RandomUnderSampler\n",
        "import torch.nn as nn\n",
        "import torch.optim as optim\n",
        "import torch.nn.functional as F\n",
        "from torch.utils.data import TensorDataset, DataLoader\n",
        "from sklearn.model_selection import train_test_split\n",
        "from sklearn.tree import DecisionTreeClassifier\n",
        "from sklearn.ensemble import RandomForestClassifier\n",
        "from xgboost import XGBClassifier"
      ],
      "metadata": {
        "id": "0E9CBIZaaZz4"
      },
      "execution_count": 3,
      "outputs": []
    },
    {
      "cell_type": "markdown",
      "source": [
        "## gpu check"
      ],
      "metadata": {
        "id": "7t6cjb9podig"
      }
    },
    {
      "cell_type": "code",
      "source": [
        "if torch.cuda.is_available():\n",
        "    device = torch.device('cuda')\n",
        "else:\n",
        "    device = torch.device('cpu')\n",
        "print(device)"
      ],
      "metadata": {
        "colab": {
          "base_uri": "https://localhost:8080/"
        },
        "id": "LMkCA5yGxSJu",
        "outputId": "aaa2d388-7521-48ff-e8f7-167ebe4e69df"
      },
      "execution_count": 4,
      "outputs": [
        {
          "output_type": "stream",
          "name": "stdout",
          "text": [
            "cuda\n"
          ]
        }
      ]
    },
    {
      "cell_type": "markdown",
      "source": [
        "## 分析資料集"
      ],
      "metadata": {
        "id": "aaqHtUIuotAQ"
      }
    },
    {
      "cell_type": "code",
      "source": [
        "df = pd.read_csv('/content/malicious_phish.csv')\n",
        "df.head()"
      ],
      "metadata": {
        "id": "Wgfc2NUvZT-B",
        "outputId": "199a7d73-a9dd-42a7-a511-a468e800600d",
        "colab": {
          "base_uri": "https://localhost:8080/",
          "height": 206
        }
      },
      "execution_count": 5,
      "outputs": [
        {
          "output_type": "execute_result",
          "data": {
            "text/plain": [
              "                                                 url        type\n",
              "0                                   br-icloud.com.br    phishing\n",
              "1                mp3raid.com/music/krizz_kaliko.html      benign\n",
              "2                    bopsecrets.org/rexroth/cr/1.htm      benign\n",
              "3  http://www.garage-pirenne.be/index.php?option=...  defacement\n",
              "4  http://adventure-nicaragua.net/index.php?optio...  defacement"
            ],
            "text/html": [
              "\n",
              "  <div id=\"df-7e62dbf5-7a10-4823-843e-c8ee2625be19\">\n",
              "    <div class=\"colab-df-container\">\n",
              "      <div>\n",
              "<style scoped>\n",
              "    .dataframe tbody tr th:only-of-type {\n",
              "        vertical-align: middle;\n",
              "    }\n",
              "\n",
              "    .dataframe tbody tr th {\n",
              "        vertical-align: top;\n",
              "    }\n",
              "\n",
              "    .dataframe thead th {\n",
              "        text-align: right;\n",
              "    }\n",
              "</style>\n",
              "<table border=\"1\" class=\"dataframe\">\n",
              "  <thead>\n",
              "    <tr style=\"text-align: right;\">\n",
              "      <th></th>\n",
              "      <th>url</th>\n",
              "      <th>type</th>\n",
              "    </tr>\n",
              "  </thead>\n",
              "  <tbody>\n",
              "    <tr>\n",
              "      <th>0</th>\n",
              "      <td>br-icloud.com.br</td>\n",
              "      <td>phishing</td>\n",
              "    </tr>\n",
              "    <tr>\n",
              "      <th>1</th>\n",
              "      <td>mp3raid.com/music/krizz_kaliko.html</td>\n",
              "      <td>benign</td>\n",
              "    </tr>\n",
              "    <tr>\n",
              "      <th>2</th>\n",
              "      <td>bopsecrets.org/rexroth/cr/1.htm</td>\n",
              "      <td>benign</td>\n",
              "    </tr>\n",
              "    <tr>\n",
              "      <th>3</th>\n",
              "      <td>http://www.garage-pirenne.be/index.php?option=...</td>\n",
              "      <td>defacement</td>\n",
              "    </tr>\n",
              "    <tr>\n",
              "      <th>4</th>\n",
              "      <td>http://adventure-nicaragua.net/index.php?optio...</td>\n",
              "      <td>defacement</td>\n",
              "    </tr>\n",
              "  </tbody>\n",
              "</table>\n",
              "</div>\n",
              "      <button class=\"colab-df-convert\" onclick=\"convertToInteractive('df-7e62dbf5-7a10-4823-843e-c8ee2625be19')\"\n",
              "              title=\"Convert this dataframe to an interactive table.\"\n",
              "              style=\"display:none;\">\n",
              "        \n",
              "  <svg xmlns=\"http://www.w3.org/2000/svg\" height=\"24px\"viewBox=\"0 0 24 24\"\n",
              "       width=\"24px\">\n",
              "    <path d=\"M0 0h24v24H0V0z\" fill=\"none\"/>\n",
              "    <path d=\"M18.56 5.44l.94 2.06.94-2.06 2.06-.94-2.06-.94-.94-2.06-.94 2.06-2.06.94zm-11 1L8.5 8.5l.94-2.06 2.06-.94-2.06-.94L8.5 2.5l-.94 2.06-2.06.94zm10 10l.94 2.06.94-2.06 2.06-.94-2.06-.94-.94-2.06-.94 2.06-2.06.94z\"/><path d=\"M17.41 7.96l-1.37-1.37c-.4-.4-.92-.59-1.43-.59-.52 0-1.04.2-1.43.59L10.3 9.45l-7.72 7.72c-.78.78-.78 2.05 0 2.83L4 21.41c.39.39.9.59 1.41.59.51 0 1.02-.2 1.41-.59l7.78-7.78 2.81-2.81c.8-.78.8-2.07 0-2.86zM5.41 20L4 18.59l7.72-7.72 1.47 1.35L5.41 20z\"/>\n",
              "  </svg>\n",
              "      </button>\n",
              "      \n",
              "  <style>\n",
              "    .colab-df-container {\n",
              "      display:flex;\n",
              "      flex-wrap:wrap;\n",
              "      gap: 12px;\n",
              "    }\n",
              "\n",
              "    .colab-df-convert {\n",
              "      background-color: #E8F0FE;\n",
              "      border: none;\n",
              "      border-radius: 50%;\n",
              "      cursor: pointer;\n",
              "      display: none;\n",
              "      fill: #1967D2;\n",
              "      height: 32px;\n",
              "      padding: 0 0 0 0;\n",
              "      width: 32px;\n",
              "    }\n",
              "\n",
              "    .colab-df-convert:hover {\n",
              "      background-color: #E2EBFA;\n",
              "      box-shadow: 0px 1px 2px rgba(60, 64, 67, 0.3), 0px 1px 3px 1px rgba(60, 64, 67, 0.15);\n",
              "      fill: #174EA6;\n",
              "    }\n",
              "\n",
              "    [theme=dark] .colab-df-convert {\n",
              "      background-color: #3B4455;\n",
              "      fill: #D2E3FC;\n",
              "    }\n",
              "\n",
              "    [theme=dark] .colab-df-convert:hover {\n",
              "      background-color: #434B5C;\n",
              "      box-shadow: 0px 1px 3px 1px rgba(0, 0, 0, 0.15);\n",
              "      filter: drop-shadow(0px 1px 2px rgba(0, 0, 0, 0.3));\n",
              "      fill: #FFFFFF;\n",
              "    }\n",
              "  </style>\n",
              "\n",
              "      <script>\n",
              "        const buttonEl =\n",
              "          document.querySelector('#df-7e62dbf5-7a10-4823-843e-c8ee2625be19 button.colab-df-convert');\n",
              "        buttonEl.style.display =\n",
              "          google.colab.kernel.accessAllowed ? 'block' : 'none';\n",
              "\n",
              "        async function convertToInteractive(key) {\n",
              "          const element = document.querySelector('#df-7e62dbf5-7a10-4823-843e-c8ee2625be19');\n",
              "          const dataTable =\n",
              "            await google.colab.kernel.invokeFunction('convertToInteractive',\n",
              "                                                     [key], {});\n",
              "          if (!dataTable) return;\n",
              "\n",
              "          const docLinkHtml = 'Like what you see? Visit the ' +\n",
              "            '<a target=\"_blank\" href=https://colab.research.google.com/notebooks/data_table.ipynb>data table notebook</a>'\n",
              "            + ' to learn more about interactive tables.';\n",
              "          element.innerHTML = '';\n",
              "          dataTable['output_type'] = 'display_data';\n",
              "          await google.colab.output.renderOutput(dataTable, element);\n",
              "          const docLink = document.createElement('div');\n",
              "          docLink.innerHTML = docLinkHtml;\n",
              "          element.appendChild(docLink);\n",
              "        }\n",
              "      </script>\n",
              "    </div>\n",
              "  </div>\n",
              "  "
            ]
          },
          "metadata": {},
          "execution_count": 5
        }
      ]
    },
    {
      "cell_type": "markdown",
      "source": [
        "由於資料集的label分配不均，且資料太過龐大(65萬筆)，使用欠採樣平衡數據集並且縮小訓練資料量，原本呈現之結果為欠採樣後之訓練數量。\n"
      ],
      "metadata": {
        "id": "u-T5-YLao4Q0"
      }
    },
    {
      "cell_type": "code",
      "source": [
        "category_counts = df['type'].value_counts()\n",
        "colors = ['red', 'green', 'blue', 'yellow']\n",
        "plt.bar(category_counts.index, category_counts.values, color=colors)\n",
        "plt.xlabel(\"Type\")\n",
        "plt.ylabel(\"Count\")\n",
        "plt.title(\"Distribution of Types\")\n",
        "plt.xticks(rotation='vertical')\n",
        "plt.show()"
      ],
      "metadata": {
        "colab": {
          "base_uri": "https://localhost:8080/",
          "height": 541
        },
        "id": "vRjaEcrOaiv-",
        "outputId": "07940554-fc34-49f8-8ae8-88119200f0bb"
      },
      "execution_count": 6,
      "outputs": [
        {
          "output_type": "display_data",
          "data": {
            "text/plain": [
              "<Figure size 640x480 with 1 Axes>"
            ],
            "image/png": "[encoded data removed]"
          },
          "metadata": {}
        }
      ]
    },
    {
      "cell_type": "code",
      "source": [
        "X = df[['url']]\n",
        "y = df['type']\n",
        "\n",
        "under_sampler = RandomUnderSampler(random_state=42)\n",
        "X_resampled, y_resampled = under_sampler.fit_resample(X, y)\n",
        "\n",
        "print(\"處理後的樣本數:\", len(X_resampled))\n",
        "print(\"處理後的樣本分佈:\")\n",
        "print(y_resampled.value_counts())\n",
        "\n",
        "re_df = pd.concat([X_resampled, y_resampled], axis=1)\n",
        "re_df = re_df.sample(n=10000, random_state=42)"
      ],
      "metadata": {
        "colab": {
          "base_uri": "https://localhost:8080/"
        },
        "id": "dAjkp1RmxCfH",
        "outputId": "cd0431f0-0344-4948-d2e9-2d53572cb579"
      },
      "execution_count": 7,
      "outputs": [
        {
          "output_type": "stream",
          "name": "stdout",
          "text": [
            "處理後的樣本數: 130080\n",
            "處理後的樣本分佈:\n",
            "benign        32520\n",
            "defacement    32520\n",
            "malware       32520\n",
            "phishing      32520\n",
            "Name: type, dtype: int64\n"
          ]
        }
      ]
    },
    {
      "cell_type": "markdown",
      "source": [
        "# 預處理"
      ],
      "metadata": {
        "id": "ljQyOnD6rtza"
      }
    },
    {
      "cell_type": "markdown",
      "source": [
        "## 特殊字符\n",
        "計算特殊字符之數量，若完全沒該字符出現，則捨棄此字符欄位。"
      ],
      "metadata": {
        "id": "MV5wXu2Vr0Jk"
      }
    },
    {
      "cell_type": "code",
      "source": [
        "special_chars = ['!', '@', '#', '$', '%', '^', '&', '*', '(', ')', '_', '-', '+', '=',\\\n",
        "         '{', '}', '[', ']', '|', '\\\\', ':', ';', '<', '>', ',', '.', '?', '/', '`', '~']  # 定义特殊字符列表\n",
        "\n",
        "for a in special_chars:\n",
        "    re_df[a] = re_df['url'].apply(lambda i: i.count(a))\n",
        "absent_chars = [char for char in special_chars if re_df[char].sum() == 0]\n",
        "re_df.drop(columns=absent_chars, inplace=True)"
      ],
      "metadata": {
        "id": "m07i2eg6bQu6"
      },
      "execution_count": 8,
      "outputs": []
    },
    {
      "cell_type": "markdown",
      "source": [
        "## https 檢查 & url長度計算\n",
        "檢查是否帶有https字串，如有則計為1。\n",
        "計算url之總長度"
      ],
      "metadata": {
        "id": "Dsp0AYDnsxt9"
      }
    },
    {
      "cell_type": "code",
      "source": [
        "def httpSecure(url):\n",
        "    http = urlparse(url).scheme\n",
        "    match = str(http)\n",
        "    if match=='https':\n",
        "        return 1\n",
        "    else:\n",
        "        return 0\n",
        "re_df['https'] = re_df['url'].apply(lambda i: httpSecure(i))\n",
        "re_df['url_len'] = re_df['url'].apply(lambda i: len(str(i)))"
      ],
      "metadata": {
        "id": "04JHQQ-_el1_"
      },
      "execution_count": 9,
      "outputs": []
    },
    {
      "cell_type": "code",
      "source": [
        "re_df.info()"
      ],
      "metadata": {
        "id": "PQir77QvAHc6",
        "outputId": "4efd0e1a-0787-40cd-8d64-bf325b6a4a50",
        "colab": {
          "base_uri": "https://localhost:8080/"
        }
      },
      "execution_count": 10,
      "outputs": [
        {
          "output_type": "stream",
          "name": "stdout",
          "text": [
            "<class 'pandas.core.frame.DataFrame'>\n",
            "Int64Index: 10000 entries, 115240 to 117856\n",
            "Data columns (total 32 columns):\n",
            " #   Column   Non-Null Count  Dtype \n",
            "---  ------   --------------  ----- \n",
            " 0   url      10000 non-null  object\n",
            " 1   type     10000 non-null  object\n",
            " 2   !        10000 non-null  int64 \n",
            " 3   @        10000 non-null  int64 \n",
            " 4   #        10000 non-null  int64 \n",
            " 5   $        10000 non-null  int64 \n",
            " 6   %        10000 non-null  int64 \n",
            " 7   ^        10000 non-null  int64 \n",
            " 8   &        10000 non-null  int64 \n",
            " 9   *        10000 non-null  int64 \n",
            " 10  (        10000 non-null  int64 \n",
            " 11  )        10000 non-null  int64 \n",
            " 12  _        10000 non-null  int64 \n",
            " 13  -        10000 non-null  int64 \n",
            " 14  +        10000 non-null  int64 \n",
            " 15  =        10000 non-null  int64 \n",
            " 16  {        10000 non-null  int64 \n",
            " 17  }        10000 non-null  int64 \n",
            " 18  [        10000 non-null  int64 \n",
            " 19  ]        10000 non-null  int64 \n",
            " 20  |        10000 non-null  int64 \n",
            " 21  \\        10000 non-null  int64 \n",
            " 22  :        10000 non-null  int64 \n",
            " 23  ;        10000 non-null  int64 \n",
            " 24  >        10000 non-null  int64 \n",
            " 25  ,        10000 non-null  int64 \n",
            " 26  .        10000 non-null  int64 \n",
            " 27  ?        10000 non-null  int64 \n",
            " 28  /        10000 non-null  int64 \n",
            " 29  ~        10000 non-null  int64 \n",
            " 30  https    10000 non-null  int64 \n",
            " 31  url_len  10000 non-null  int64 \n",
            "dtypes: int64(30), object(2)\n",
            "memory usage: 2.5+ MB\n"
          ]
        }
      ]
    },
    {
      "cell_type": "markdown",
      "source": [
        "## 加載bert模型"
      ],
      "metadata": {
        "id": "TjcxPcB5tT3N"
      }
    },
    {
      "cell_type": "code",
      "source": [
        "tokenizer = BertTokenizer.from_pretrained('bert-base-uncased')#bert-base-uncased\n",
        "model = BertModel.from_pretrained('bert-base-uncased').to(device)"
      ],
      "metadata": {
        "colab": {
          "base_uri": "https://localhost:8080/",
          "height": 217,
          "referenced_widgets": [
            "a31c0d0851794612b9465338d6a598b2",
            "190fee4cecca4a0d8685aa10d5ede73b",
            "62ac2d95ffc54ff883459b52cc41b0db",
            "cbc1774ee8ac4a719df6658951ff9b71",
            "0b75f56463984ddca9aa75a535cbadde",
            "401beb8ee44b438f9ef22a3b8061f29d",
            "ae2fde41f2214e95a068ef3eb00b799b",
            "de6900069b3b446ba9f0bd5d9d6407a4",
            "e273bb33f10a45408d956e0138502277",
            "2e3cecd2800e4f50adddeb39e1237e46",
            "cd88f1de85f84b6ab4c79fcfe72bbb51",
            "dc1f5e522f024b469e62cab26b3870b9",
            "337dda20844d4688a39c1e6d3a315417",
            "c88459fa782648029c202fef08e618b2",
            "e4a0508253c047738013f2b5b16fe557",
            "9f84d74b65e6441cb9adf29bb833bcb3",
            "dd685645819c42238ccb39bbe94cb5d1",
            "91a5aaf515cd49e5b5afb1e2d9b6f942",
            "f3b81d65ceb543b0acb3a8858db41337",
            "0404349144444a3c81242dc6722ba86a",
            "cd850487cc434271bb212f3a1758ad7f",
            "024fb7ae91e44feca2b96269087726ce",
            "eb48a24861f94aa095e6b20350951815",
            "825a6f88953d4ec68a589d8dce2980a5",
            "64482cfe442c44f0921ba0c2bab1b2fc",
            "44b1ba55d804466f8f45f686e74cd2f9",
            "ca215d5545594b59bb9d667288db0971",
            "92b88a7c91e54ddfb178cc4040e30768",
            "fa1f9e50a11144359fdc0d7c1a8367c0",
            "7b61e3354b80468ab323c45125b27e52",
            "7f8bf792b9fa4befa3c68cebae1c767d",
            "88fa07f05adc41d591fac2120b99da93",
            "5889cc304398496b87f3c0b7f0bbc7c4",
            "5da5026ccf3f4942a358cba914087df5",
            "ae9d85b2545e498483f00fa1d83ff2e0",
            "8b11a8d326b94044ba0ad0d53034247c",
            "aa758a722b9543a79556051a25529260",
            "214e1c254ee44ff9ba357201960fad13",
            "1e7a3c9b2b1f4f279d2d190f52b44be4",
            "ab37cd274fb24f879cc6d6e6ebf91972",
            "e8b94ffa525d4051991b7267fa458e11",
            "518d5291d7424d26b779281d88f4416a",
            "2fc0d392df2b411aa460ebf971e12339",
            "d4a4a60ea4be4a12ab588cbad56cf4d5"
          ]
        },
        "id": "mDzleYwdo7P9",
        "outputId": "85cdbc7d-8337-4efb-8968-e0dabdab90bb"
      },
      "execution_count": 11,
      "outputs": [
        {
          "output_type": "display_data",
          "data": {
            "text/plain": [
              "Downloading (…)solve/main/vocab.txt:   0%|          | 0.00/232k [00:00<?, ?B/s]"
            ],
            "application/vnd.jupyter.widget-view+json": {
              "version_major": 2,
              "version_minor": 0,
              "model_id": "a31c0d0851794612b9465338d6a598b2"
            }
          },
          "metadata": {}
        },
        {
          "output_type": "display_data",
          "data": {
            "text/plain": [
              "Downloading (…)okenizer_config.json:   0%|          | 0.00/28.0 [00:00<?, ?B/s]"
            ],
            "application/vnd.jupyter.widget-view+json": {
              "version_major": 2,
              "version_minor": 0,
              "model_id": "dc1f5e522f024b469e62cab26b3870b9"
            }
          },
          "metadata": {}
        },
        {
          "output_type": "display_data",
          "data": {
            "text/plain": [
              "Downloading (…)lve/main/config.json:   0%|          | 0.00/570 [00:00<?, ?B/s]"
            ],
            "application/vnd.jupyter.widget-view+json": {
              "version_major": 2,
              "version_minor": 0,
              "model_id": "eb48a24861f94aa095e6b20350951815"
            }
          },
          "metadata": {}
        },
        {
          "output_type": "display_data",
          "data": {
            "text/plain": [
              "Downloading model.safetensors:   0%|          | 0.00/440M [00:00<?, ?B/s]"
            ],
            "application/vnd.jupyter.widget-view+json": {
              "version_major": 2,
              "version_minor": 0,
              "model_id": "5da5026ccf3f4942a358cba914087df5"
            }
          },
          "metadata": {}
        },
        {
          "output_type": "stream",
          "name": "stderr",
          "text": [
            "Some weights of the model checkpoint at bert-base-uncased were not used when initializing BertModel: ['cls.predictions.transform.LayerNorm.bias', 'cls.predictions.bias', 'cls.predictions.transform.dense.bias', 'cls.predictions.transform.LayerNorm.weight', 'cls.seq_relationship.bias', 'cls.predictions.transform.dense.weight', 'cls.seq_relationship.weight']\n",
            "- This IS expected if you are initializing BertModel from the checkpoint of a model trained on another task or with another architecture (e.g. initializing a BertForSequenceClassification model from a BertForPreTraining model).\n",
            "- This IS NOT expected if you are initializing BertModel from the checkpoint of a model that you expect to be exactly identical (initializing a BertForSequenceClassification model from a BertForSequenceClassification model).\n"
          ]
        }
      ]
    },
    {
      "cell_type": "markdown",
      "source": [
        "## 切割url\n",
        "1.  將url的特殊字符去除，獲得剩餘單字詞的集合，例如:www.example.com => [www, example, com]。\n",
        "2.  使用已訓練好的tokenizer獲得單詞之token ID，將token集合放入bert 模型生成1維768長度的值\n",
        "3.  display mode預估訓練時間3分半"
      ],
      "metadata": {
        "id": "1yb85IiGRrbj"
      }
    },
    {
      "cell_type": "code",
      "source": [
        "def urlSplitBatch(urls):\n",
        "    url_parts = [re.sub(r'\\s+', ' ', re.sub(r'[^\\w\\s]', ' ', url)).split(' ') for url in urls]\n",
        "    tokens = [tokenizer.batch_encode_plus(parts, padding=True, truncation=True, return_tensors='pt') for parts in url_parts]\n",
        "    input_ids = [token[\"input_ids\"] for token in tokens]\n",
        "    url_vectors = []\n",
        "    for ids in input_ids:\n",
        "      with torch.no_grad():\n",
        "          ids = ids.to(device)\n",
        "          last_hidden_states = model(ids)[0]\n",
        "      url_vectors.append(last_hidden_states.mean(dim=[0, 1]).unsqueeze(0))\n",
        "\n",
        "    url_vectors = torch.cat(url_vectors, dim=0).to(device)\n",
        "    return url_vectors\n",
        "\n",
        "\n",
        "# 在主要迴圈中使用批次處理\n",
        "BATCH_SIZE = 1000 # 你可以根據你的硬體配置和需求來調整批次的大小\n",
        "word_vector = []\n",
        "rows_to_drop = []\n",
        "total = len(re_df['url'])\n",
        "checkpoint = total // 100\n",
        "for start in range(0, total, BATCH_SIZE):\n",
        "  end = min(start + BATCH_SIZE, total)\n",
        "  batch_indices = re_df.index[start:end]\n",
        "  batch = re_df['url'].loc[batch_indices]\n",
        "  try:\n",
        "    split_urls = urlSplitBatch(batch)  # 對整個批次進行split操作\n",
        "  except:\n",
        "    print(f\"第{start}批資料集發生錯誤，跳過並移除\")\n",
        "    rows_to_drop.extend(batch_indices)  # 若split操作失敗，將整個批次的索引加入要刪除的列表\n",
        "    continue\n",
        "\n",
        "  list_from_tensor = split_urls.tolist()\n",
        "  word_vector.extend(list_from_tensor)\n",
        "\n",
        "  if end % checkpoint == 0:\n",
        "      print(\"已完成：{:.0f}%\".format(end / total * 100))"
      ],
      "metadata": {
        "id": "pmPZI8jL_pKm",
        "outputId": "c01fefd8-6d3f-4df3-c0e5-363f71fd6b99",
        "colab": {
          "base_uri": "https://localhost:8080/"
        }
      },
      "execution_count": 12,
      "outputs": [
        {
          "output_type": "stream",
          "name": "stdout",
          "text": [
            "已完成：10%\n",
            "已完成：20%\n",
            "已完成：30%\n",
            "已完成：40%\n",
            "已完成：50%\n",
            "已完成：60%\n",
            "已完成：70%\n",
            "已完成：80%\n",
            "已完成：90%\n",
            "已完成：100%\n"
          ]
        }
      ]
    },
    {
      "cell_type": "code",
      "source": [
        "class AutoEncoder(nn.Module):\n",
        "    def __init__(self, input_dim, encoding_dim):\n",
        "        super(AutoEncoder, self).__init__()\n",
        "        mid_dim = (input_dim + encoding_dim) // 2  # add an intermediate layer with average dimension\n",
        "\n",
        "        # Encoder layers\n",
        "        self.encoder = nn.Sequential(\n",
        "            nn.Linear(input_dim, mid_dim),\n",
        "            nn.ReLU(),\n",
        "            nn.Linear(mid_dim, encoding_dim),\n",
        "            nn.ReLU()\n",
        "        )\n",
        "\n",
        "        # Decoder layers\n",
        "        self.decoder = nn.Sequential(\n",
        "            nn.Linear(encoding_dim, mid_dim),\n",
        "            nn.ReLU(),\n",
        "            nn.Linear(mid_dim, input_dim),\n",
        "        )\n",
        "\n",
        "    def forward(self, x):\n",
        "        x = torch.relu(self.encoder(x))\n",
        "        x = self.decoder(x)\n",
        "        return x\n"
      ],
      "metadata": {
        "id": "OKSB11P40-9y"
      },
      "execution_count": 13,
      "outputs": []
    },
    {
      "cell_type": "code",
      "source": [
        "input_dim = len(word_vector[0])  # number of features\n",
        "encoding_dim = 200  # desired dimension after encoding\n",
        "\n",
        "model = AutoEncoder(input_dim, encoding_dim).to(device)\n",
        "criterion = nn.MSELoss()\n",
        "optimizer = torch.optim.Adam(model.parameters())\n",
        "EPOCHES = 20\n",
        "\n",
        "features = torch.from_numpy(np.array(word_vector)).float().to(device)\n",
        "dataset = TensorDataset(features)\n",
        "data_loader = DataLoader(dataset, batch_size=128, shuffle=True)\n",
        "\n",
        "for epoch in range(EPOCHES):\n",
        "    for feature in data_loader:\n",
        "        # forward\n",
        "        outputs = model(feature[0])\n",
        "        loss = criterion(outputs, feature[0])\n",
        "\n",
        "        # backward and optimize\n",
        "        optimizer.zero_grad()\n",
        "        loss.backward()\n",
        "        optimizer.step()\n",
        "\n",
        "    print(f'Epoch [{epoch+1}/{EPOCHES}], Loss: {loss.item():.4f}')\n",
        "with torch.no_grad():\n",
        "    encoded_data = model.encoder(features)"
      ],
      "metadata": {
        "id": "daVnhdnL1FBc",
        "colab": {
          "base_uri": "https://localhost:8080/"
        },
        "outputId": "cc498bb6-82ef-40b7-94d9-b08d3ecd2d14"
      },
      "execution_count": 14,
      "outputs": [
        {
          "output_type": "stream",
          "name": "stdout",
          "text": [
            "Epoch [1/20], Loss: 0.0044\n",
            "Epoch [2/20], Loss: 0.0029\n",
            "Epoch [3/20], Loss: 0.0021\n",
            "Epoch [4/20], Loss: 0.0021\n",
            "Epoch [5/20], Loss: 0.0019\n",
            "Epoch [6/20], Loss: 0.0012\n",
            "Epoch [7/20], Loss: 0.0021\n",
            "Epoch [8/20], Loss: 0.0023\n",
            "Epoch [9/20], Loss: 0.0018\n",
            "Epoch [10/20], Loss: 0.0020\n",
            "Epoch [11/20], Loss: 0.0026\n",
            "Epoch [12/20], Loss: 0.0018\n",
            "Epoch [13/20], Loss: 0.0012\n",
            "Epoch [14/20], Loss: 0.0011\n",
            "Epoch [15/20], Loss: 0.0021\n",
            "Epoch [16/20], Loss: 0.0012\n",
            "Epoch [17/20], Loss: 0.0016\n",
            "Epoch [18/20], Loss: 0.0014\n",
            "Epoch [19/20], Loss: 0.0009\n",
            "Epoch [20/20], Loss: 0.0015\n"
          ]
        }
      ]
    },
    {
      "cell_type": "markdown",
      "source": [
        "## 切分成3種特徵\n",
        "1.  純單字詞矩陣\n",
        "2.  純原url之特徵矩陣\n",
        "3.  上面兩種之結合"
      ],
      "metadata": {
        "id": "3wSRMHRETCic"
      }
    },
    {
      "cell_type": "code",
      "source": [
        "word_vector_array = encoded_data.cpu()\n",
        "feature_array = re_df.drop(['url', 'type'], axis=1).drop(rows_to_drop).to_numpy()\n",
        "merged_array = np.hstack((feature_array, word_vector_array))\n",
        "\n",
        "target = pd.get_dummies(re_df['type'], columns=['type'])"
      ],
      "metadata": {
        "id": "Zch7sbk1ll2C"
      },
      "execution_count": 15,
      "outputs": []
    },
    {
      "cell_type": "code",
      "source": [
        "features_train, features_test, labels_train, labels_test = train_test_split(merged_array, target.values, test_size=0.2, random_state=42)\n",
        "features_train, features_val, labels_train, labels_val = train_test_split(features_train, labels_train, test_size=0.2, random_state=42)\n",
        "\n",
        "# numpy轉換tensors\n",
        "features_train = torch.tensor(features_train, dtype=torch.float32)\n",
        "labels_train = torch.tensor(labels_train, dtype=torch.float32)\n",
        "features_val = torch.tensor(features_val, dtype=torch.float32)\n",
        "labels_val = torch.tensor(labels_val, dtype=torch.float32)\n",
        "features_test = torch.tensor(features_test, dtype=torch.float32)\n",
        "labels_test = torch.tensor(labels_test, dtype=torch.float32)\n",
        "\n",
        "train_dataset = TensorDataset(features_train, labels_train)\n",
        "val_dataset = TensorDataset(features_val, labels_val)\n",
        "test_dataset = TensorDataset(features_test, labels_test)\n",
        "\n",
        "batch_size = 1\n",
        "train_dataloader = DataLoader(train_dataset, batch_size=batch_size, shuffle=True)\n",
        "test_dataloader = DataLoader(test_dataset, batch_size=batch_size, shuffle=False)\n",
        "val_dataloader = DataLoader(val_dataset, batch_size=batch_size, shuffle=False)\n",
        "\n",
        "fast_train_dataloader = DataLoader(train_dataset, batch_size=100, shuffle=True)\n",
        "fast_test_dataloader = DataLoader(test_dataset, batch_size=100, shuffle=False)\n",
        "fast_val_dataloader = DataLoader(val_dataset, batch_size=100, shuffle=False)"
      ],
      "metadata": {
        "id": "vVSKEwlLlGfh"
      },
      "execution_count": 16,
      "outputs": []
    },
    {
      "cell_type": "markdown",
      "source": [
        "## 神經網路\n",
        "使用神經網路對三種資料集進行訓練"
      ],
      "metadata": {
        "id": "ILMuGYqGU6R-"
      }
    },
    {
      "cell_type": "code",
      "source": [
        "class FeatureNet(nn.Module):\n",
        "    def __init__(self, x_len):\n",
        "        super(FeatureNet, self).__init__()\n",
        "        self.fc1 = nn.Linear(x_len, 128)\n",
        "        self.fc2 = nn.Linear(128, 256)\n",
        "        self.fc3 = nn.Linear(256, 4)\n",
        "\n",
        "    def forward(self, x):\n",
        "        x = torch.relu(self.fc1(x))\n",
        "        x = torch.relu(self.fc2(x))\n",
        "        x = torch.log_softmax(self.fc3(x), dim=1)\n",
        "        return x\n",
        "class WordNet(nn.Module):\n",
        "    def __init__(self, x_len):\n",
        "        super(WordNet, self).__init__()\n",
        "        self.fc1 = nn.Linear(x_len, 100)\n",
        "        self.fc2 = nn.Linear(100, 4)\n",
        "\n",
        "    def forward(self, x):\n",
        "        x = F.relu(self.fc1(x))\n",
        "        x = torch.log_softmax(self.fc2(x), dim=1)  # 使用 LogSoftmax\n",
        "        return x\n",
        "    def forward_act(self, x):\n",
        "        x = F.relu(self.fc1(x))\n",
        "        return x"
      ],
      "metadata": {
        "id": "cN92PAb3UsXl"
      },
      "execution_count": 17,
      "outputs": []
    },
    {
      "cell_type": "code",
      "source": [
        "class EarlyStopping:\n",
        "    def __init__(self, patience=5, verbose=False, delta=0):\n",
        "        self.patience = patience\n",
        "        self.verbose = verbose\n",
        "        self.counter = 0\n",
        "        self.best_score = None\n",
        "        self.early_stop = False\n",
        "        self.val_loss_min = np.Inf\n",
        "        self.delta = delta\n",
        "\n",
        "    def __call__(self, val_loss):\n",
        "        score = -val_loss\n",
        "\n",
        "        if self.best_score is None:\n",
        "            self.best_score = score\n",
        "        elif score < self.best_score + self.delta:\n",
        "            self.counter += 1\n",
        "            print(f'EarlyStopping counter: {self.counter} out of {self.patience}')\n",
        "            if self.counter >= self.patience:\n",
        "                self.early_stop = True\n",
        "        else:\n",
        "            self.best_score = score\n",
        "            self.counter = 0\n"
      ],
      "metadata": {
        "id": "iqGERTUXx0pe"
      },
      "execution_count": 18,
      "outputs": []
    },
    {
      "cell_type": "code",
      "source": [
        "def train_loop(dataloader, model, loss_fn, optimizer):\n",
        "    size = len(dataloader)\n",
        "    train_loss = 0\n",
        "    correct = 0\n",
        "    running_loss = 0\n",
        "    total = 0\n",
        "    for inputs, labels in dataloader:\n",
        "      inputs = inputs.to(device)\n",
        "      labels = labels.argmax(dim=1).to(device)\n",
        "      # Compute prediction and loss\n",
        "      outputs = model(inputs)\n",
        "\n",
        "      loss = loss_fn(outputs, labels)\n",
        "\n",
        "      optimizer.zero_grad()# 梯度初始化为零\n",
        "      loss.backward()# 反向传播求梯度\n",
        "      optimizer.step()# 更新所有参数\n",
        "\n",
        "      #計算數字機率分布\n",
        "      running_loss += loss.item()\n",
        "      _, predicted = torch.max(outputs, 1)\n",
        "      total += labels.size(0)\n",
        "      correct += (predicted == labels).sum().item()\n",
        "    avg_train_loss = running_loss / len(dataloader)\n",
        "    train_accuracy = correct / total\n",
        "\n",
        "    return avg_train_loss, train_accuracy\n",
        "def test_loop(dataloader, model, loss_fn):\n",
        "    size = len(dataloader)\n",
        "    test_loss = correct = 0\n",
        "\n",
        "    with torch.no_grad():\n",
        "        for inputs, labels in dataloader:\n",
        "            inputs = inputs.to(device)\n",
        "            labels = labels.argmax(dim=1).to(device)\n",
        "            outputs = model(inputs)\n",
        "\n",
        "            loss = loss_fn(outputs, labels)\n",
        "            test_loss += loss.item()\n",
        "\n",
        "    test_loss /= size\n",
        "\n",
        "    return test_loss\n",
        "def val_loop(dataloader, model, loss_fn):\n",
        "    running_loss = 0.0\n",
        "    total = 0\n",
        "    correct = 0\n",
        "    model.eval()  # Set the model to evaluation mode\n",
        "    with torch.no_grad():\n",
        "        for i, data in enumerate(dataloader):\n",
        "            inputs, labels = data\n",
        "            inputs = inputs.to(device)\n",
        "            labels = labels.argmax(dim=1).to(device)\n",
        "            outputs = model(inputs)\n",
        "            loss = loss_fn(outputs, labels)\n",
        "\n",
        "            running_loss += loss.item()\n",
        "            _, predicted = torch.max(outputs, 1)\n",
        "            total += labels.size(0)\n",
        "            correct += (predicted == labels).sum().item()\n",
        "\n",
        "    avg_val_loss = running_loss / len(dataloader)\n",
        "    train_accuracy = correct / total\n",
        "\n",
        "    return avg_val_loss, train_accuracy"
      ],
      "metadata": {
        "id": "FGfgoVAalxPn"
      },
      "execution_count": 19,
      "outputs": []
    },
    {
      "cell_type": "code",
      "source": [
        "def init_weights_kaiming_normal_(m):\n",
        "    if isinstance(m, nn.Linear):\n",
        "        torch.nn.init.kaiming_normal_(m.weight)\n",
        "        m.bias.data.fill_(0.01)"
      ],
      "metadata": {
        "id": "MH9bZmGmQwXU"
      },
      "execution_count": 20,
      "outputs": []
    },
    {
      "cell_type": "code",
      "source": [
        "model_wt = WordNet(len(merged_array[0]))\n",
        "model_wt.to(device)\n",
        "model_wt.apply(init_weights_kaiming_normal_)\n",
        "feature_arrays = merged_array\n",
        "Epoch = 5\n",
        "loss_results = {}\n",
        "accuracy_results = {}\n",
        "loss_results_val = {}\n",
        "accuracy_results_val = {}\n",
        "\n",
        "early_stopping = EarlyStopping(patience=5, verbose=True)\n",
        "criterion = nn.NLLLoss()\n",
        "optimizer = optim.Adam(model_wt.parameters())\n",
        "\n",
        "losses = []\n",
        "accuracies = []\n",
        "losses_val = []\n",
        "accuracies_val = []\n",
        "\n",
        "for epoch in range(Epoch):\n",
        "  loss, acc = train_loop(train_dataloader, model_wt, criterion, optimizer)\n",
        "  accuracies.append(acc)\n",
        "  losses.append(loss)\n",
        "  if epoch % 1 == 0:\n",
        "      print(f'Epoch {epoch + 1}, Training Loss: {loss}, Training Acc: {acc}')\n",
        "\n",
        "  val_loss, val_accuracy = val_loop(val_dataloader, model_wt, criterion)\n",
        "  accuracies_val.append(val_accuracy)\n",
        "  losses_val.append(val_loss)\n",
        "  print(f'Epoch {epoch + 1}, Validation Loss: {val_loss}, Validation Acc: {val_accuracy}')\n",
        "  # Check early stopping\n",
        "  early_stopping(val_loss)\n",
        "  if early_stopping.early_stop:\n",
        "      print(\"Early stopping\")\n",
        "      break\n",
        "loss_results[\"Weight Tuning\"] = losses\n",
        "accuracy_results[\"Weight Tuning\"] = accuracies\n",
        "loss_results_val[\"Weight Tuning\"] = losses_val\n",
        "accuracy_results_val[\"Weight Tuning\"] = accuracies_val"
      ],
      "metadata": {
        "id": "kZvziQftcbK5",
        "outputId": "bd728911-515d-46bd-e6b0-2e8320d05455",
        "colab": {
          "base_uri": "https://localhost:8080/"
        }
      },
      "execution_count": 21,
      "outputs": [
        {
          "output_type": "stream",
          "name": "stdout",
          "text": [
            "Epoch 1, Training Loss: 0.861405110294697, Training Acc: 0.6809375\n",
            "Epoch 1, Validation Loss: 0.6510107010712818, Validation Acc: 0.74375\n",
            "Epoch 2, Training Loss: 0.6270544006744493, Training Acc: 0.77265625\n",
            "Epoch 2, Validation Loss: 0.4823169459990777, Validation Acc: 0.809375\n",
            "Epoch 3, Training Loss: 0.5527607974541676, Training Acc: 0.79375\n",
            "Epoch 3, Validation Loss: 0.49570965833760966, Validation Acc: 0.808125\n",
            "EarlyStopping counter: 1 out of 5\n",
            "Epoch 4, Training Loss: 0.5003944899193462, Training Acc: 0.81390625\n",
            "Epoch 4, Validation Loss: 0.4628480229422712, Validation Acc: 0.829375\n",
            "Epoch 5, Training Loss: 0.45887289764019223, Training Acc: 0.826875\n",
            "Epoch 5, Validation Loss: 0.41688023903972066, Validation Acc: 0.835625\n"
          ]
        }
      ]
    },
    {
      "cell_type": "code",
      "source": [
        "false_index = []\n",
        "criterion = nn.NLLLoss()\n",
        "predicts = []\n",
        "labels = []\n",
        "losses = []\n",
        "model_wt.eval()\n",
        "for index, (X, y) in enumerate(train_dataloader):\n",
        "  y_pred = model_wt(X.to(device))\n",
        "  y = y.argmax(dim=1).to(device)\n",
        "\n",
        "  loss = criterion(y_pred, y)\n",
        "  losses.append(loss.item())\n",
        "\n",
        "  # pred_class = torch.argmax(y_pred, dim=1)\n",
        "  # true_class = y\n",
        "  predicts.append(y_pred)\n",
        "  labels.append(y)\n",
        "\n",
        "threshold = np.percentile(losses, 99.8)\n",
        "\n",
        "# 创建空的false_index列表\n",
        "false_index = []\n",
        "\n",
        "# 遍历losses列表，找出大于阈值的损失的索引\n",
        "for i, loss_value in enumerate(losses):\n",
        "    if loss_value > threshold:\n",
        "        false_index.append(i)\n",
        "print(\"Threshold:\", threshold)\n",
        "print(\"False indices:\", false_index)\n",
        "print(\"False length\", len(false_index))"
      ],
      "metadata": {
        "id": "-0x4BUkdrzHB",
        "outputId": "eb17ad64-0ae7-40b3-b053-9093c0b6b8ba",
        "colab": {
          "base_uri": "https://localhost:8080/"
        }
      },
      "execution_count": 22,
      "outputs": [
        {
          "output_type": "stream",
          "name": "stdout",
          "text": [
            "Threshold: 5.922213968276982\n",
            "False indices: [41, 146, 563, 1170, 1980, 2662, 3288, 3294, 3993, 4543, 5732, 6102, 6203]\n",
            "False length 13\n"
          ]
        }
      ]
    },
    {
      "cell_type": "code",
      "source": [
        "old_fc1 = model_wt.fc1\n",
        "old_weight = old_fc1.weight.data\n",
        "old_bias = old_fc1.bias.data\n",
        "old_fc2 = model_wt.fc2\n",
        "old_fc2_weight = old_fc2.weight.data\n",
        "old_fc2_bias = old_fc2.bias.data"
      ],
      "metadata": {
        "id": "dZ6l8_ZktgQb"
      },
      "execution_count": 23,
      "outputs": []
    },
    {
      "cell_type": "code",
      "source": [
        "import copy\n",
        "\n",
        "Found = False\n",
        "new_model = copy.deepcopy(model_wt)\n",
        "\n",
        "def activation(x):\n",
        "  return model_wt.forward_act(x)\n",
        "if len(false_index) > 0:\n",
        "  out = 100+3*len(false_index)\n",
        "  new_fc1 = nn.Linear(in_features=len(merged_array[0]), out_features=out)\n",
        "  new_fc1.weight.data[:100] = old_weight\n",
        "  new_fc1.bias.data[:100] = old_bias\n",
        "  new_fc2 = nn.Linear(in_features=out, out_features=4)\n",
        "  new_fc2.weight.data[:,:100] = old_fc2_weight\n",
        "  new_fc2.bias.data = old_fc2_bias\n",
        "features_train = features_train.to(device)\n",
        "for false_i,kappa_index in enumerate(false_index):\n",
        "  while not Found:\n",
        "    z = 1e-3\n",
        "    vec = torch.randn(len(merged_array[0]), 1)\n",
        "    norm = vec.norm(p=2, dim=0, keepdim=True)\n",
        "    unit_vec = vec / norm #64*1\n",
        "\n",
        "    for i in range(len(features_train)):\n",
        "      if i in false_index:\n",
        "        continue\n",
        "\n",
        "      H = ((unit_vec.reshape(1, len(merged_array[0])).to(device))@(features_train[i] - features_train[kappa_index]).reshape(len(merged_array[0]),1)).item()\n",
        "      if H != 0 and (z+H)*(z-H) < 0:\n",
        "        Found = True\n",
        "        continue\n",
        "      Found = False\n",
        "\n",
        "  gamma = unit_vec.reshape(1,len(merged_array[0])).to(device)\n",
        "  kappa = features_train[kappa_index].reshape(len(merged_array[0]),1)\n",
        "  b1 = z - (gamma @ kappa).item()\n",
        "  b2 = - (gamma @ kappa).item()\n",
        "  b3 = -z - (gamma @ kappa).item()\n",
        "\n",
        "  new_fc1.weight.data[100+3*(false_i):100+3*(false_i+1)] = gamma.repeat(3, 1)  # 将所有权重设置为1.0\n",
        "  new_fc1.bias.data[100+3*(false_i):100+3*(false_i+1)]= torch.tensor([b1, b2, b3])\n",
        "  for i in range(4):\n",
        "    total = 0\n",
        "    act = activation(features_train[kappa_index:kappa_index+1])\n",
        "    for j in range(100):\n",
        "      total += new_fc2.weight.data[i][j] * act[0][j]\n",
        "\n",
        "    new_fc2.weight.data[i,100+3*false_i:100+3*false_i+1] = new_fc2.weight.data[i:,100+3*false_i+2:100+3*false_i+3] = ((F.one_hot(labels[kappa_index], num_classes=4)[0][i] - new_fc2.bias[i]).item() - total) / z\n",
        "    new_fc2.weight.data[i,100+3*false_i+1:100+3*false_i+2] = -2 * (((F.one_hot(labels[kappa_index], num_classes=4)[0][i] - new_fc2.bias[i]).item() - total) / z)\n",
        "new_model.fc1 = new_fc1\n",
        "new_model.fc2 = new_fc2\n",
        "new_model = new_model.to(device)\n",
        "print(new_model)"
      ],
      "metadata": {
        "id": "kVi0utEHxdLR",
        "outputId": "c1f2ae04-5041-432a-c544-2d7eb9274b04",
        "colab": {
          "base_uri": "https://localhost:8080/"
        }
      },
      "execution_count": 24,
      "outputs": [
        {
          "output_type": "stream",
          "name": "stdout",
          "text": [
            "WordNet(\n",
            "  (fc1): Linear(in_features=230, out_features=139, bias=True)\n",
            "  (fc2): Linear(in_features=139, out_features=4, bias=True)\n",
            ")\n"
          ]
        }
      ]
    },
    {
      "cell_type": "code",
      "source": [
        "import random\n",
        "def netWorkTuning(origin_model, trainloader, testloader, epochs=5):\n",
        "  optimizer = optim.Adam(origin_model.parameters(), weight_decay=0)\n",
        "  criterion = nn.NLLLoss()\n",
        "  keep_nodes = []  # 用于记录移除的隐藏节点的索引\n",
        "  loss = 0\n",
        "  fc1_node_count = origin_model.fc1.out_features\n",
        "  print(f\"總共{fc1_node_count}個節點\")\n",
        "  fail = 0\n",
        "  model = copy.deepcopy(origin_model)\n",
        "  target_loss = test_loop(testloader, model, criterion)\n",
        "  print(f\"原本的Loss{target_loss}\")\n",
        "  node_index = 0\n",
        "  while node_index < 100:\n",
        "    # 复制当前模型以进行评估\n",
        "    temp_model = copy.deepcopy(model)\n",
        "\n",
        "    temp_fc1 = temp_model.fc1\n",
        "    temp_weights = temp_model.fc1.weight.data.clone().to(device)\n",
        "    temp_biases = temp_model.fc1.bias.data.clone().to(device)\n",
        "    # 將要移除的節點的權重和偏差設為0\n",
        "    temp_weights[node_index, :] = 0.0\n",
        "    temp_biases[node_index] = 0.0\n",
        "    temp_fc1.weight.data = temp_weights\n",
        "    temp_fc1.bias.data = temp_biases\n",
        "    temp_model.fc1 = temp_fc1\n",
        "    correct = 0\n",
        "    total = 0\n",
        "    losses = []\n",
        "    accuracies = []\n",
        "    losses_val = []\n",
        "    accuracies_val = []\n",
        "    for _ in range(epochs):\n",
        "      loss,acc = train_loop(trainloader, temp_model, criterion, optimizer)\n",
        "      accuracies.append(acc)\n",
        "      losses.append(loss)\n",
        "\n",
        "      val_loss, val_accuracy = val_loop(val_dataloader, temp_model, criterion)\n",
        "      accuracies_val.append(val_accuracy)\n",
        "      losses_val.append(val_loss)\n",
        "    loss = test_loop(testloader, temp_model, criterion)\n",
        "    if loss < target_loss:\n",
        "      target_loss = loss\n",
        "      model = temp_model\n",
        "      print(f\"移除第{node_index}個節點\")\n",
        "      print(f\"移除後的Loss:{target_loss}\")\n",
        "      node_index += 1  # 检查下一个隐藏节点\n",
        "    else:\n",
        "      node_index += 1  # 检查下一个隐藏节点\n",
        "\n",
        "  loss_results[\"Network Tuning\"] = losses\n",
        "  accuracy_results[\"Network Tuning\"] = accuracies\n",
        "  loss_results_val[\"Network Tuning\"] = losses_val\n",
        "  accuracy_results_val[\"Network Tuning\"] = accuracies_val\n",
        "  print(\"Done!\")\n",
        "  return model"
      ],
      "metadata": {
        "id": "sLU5QBIQQ25V"
      },
      "execution_count": 31,
      "outputs": []
    },
    {
      "cell_type": "code",
      "source": [
        "print(test_loop(fast_test_dataloader, model_wt, criterion))\n",
        "print(test_loop(fast_test_dataloader, new_model, criterion))\n",
        "net_model = netWorkTuning(new_model,fast_train_dataloader,fast_test_dataloader)\n",
        "print(test_loop(fast_test_dataloader, net_model, criterion))"
      ],
      "metadata": {
        "id": "wPpTOki0Q6Ez",
        "outputId": "12db5702-14d3-4060-8931-461889b03f11",
        "colab": {
          "base_uri": "https://localhost:8080/"
        }
      },
      "execution_count": 32,
      "outputs": [
        {
          "output_type": "stream",
          "name": "stdout",
          "text": [
            "0.41102377623319625\n",
            "0.4139149084687233\n",
            "總共139個節點\n",
            "原本的Loss0.4139149084687233\n",
            "移除第3個節點\n",
            "移除後的Loss:0.4139149054884911\n",
            "移除第6個節點\n",
            "移除後的Loss:0.41388932019472124\n",
            "移除第18個節點\n",
            "移除後的Loss:0.41382951438426974\n",
            "移除第21個節點\n",
            "移除後的Loss:0.413829405605793\n",
            "移除第25個節點\n",
            "移除後的Loss:0.40896076411008836\n",
            "移除第52個節點\n",
            "移除後的Loss:0.40894329398870466\n",
            "移除第69個節點\n",
            "移除後的Loss:0.40755239725112913\n",
            "移除第91個節點\n",
            "移除後的Loss:0.40738132447004316\n",
            "Done!\n",
            "0.40738132447004316\n"
          ]
        }
      ]
    },
    {
      "cell_type": "code",
      "source": [
        "# Draw losses of all features in one graph\n",
        "plt.figure(figsize=(12, 6))\n",
        "plt.subplot(1, 2, 1)\n",
        "for feature_name, losses in loss_results.items():\n",
        "    plt.plot(losses, label=feature_name)\n",
        "plt.title('Model Loss Over Epochs')\n",
        "plt.xlabel('Epoch')\n",
        "plt.ylabel('Loss')\n",
        "plt.legend()\n",
        "\n",
        "# Draw accuracies of all features in one graph\n",
        "plt.subplot(1, 2, 2)\n",
        "for feature_name, accuracies in accuracy_results.items():\n",
        "    plt.plot(accuracies, label=feature_name)\n",
        "plt.title('Model Accuracy Over Epochs')\n",
        "plt.xlabel('Epoch')\n",
        "plt.ylabel('Accuracy')\n",
        "plt.legend()\n",
        "\n",
        "plt.show()"
      ],
      "metadata": {
        "id": "e-KeDpuhhiz0",
        "outputId": "d7abd98c-fe1b-4852-99cf-d18741435d25",
        "colab": {
          "base_uri": "https://localhost:8080/",
          "height": 564
        }
      },
      "execution_count": 33,
      "outputs": [
        {
          "output_type": "display_data",
          "data": {
            "text/plain": [
              "<Figure size 1200x600 with 2 Axes>"
            ],
            "image/png": "[encoded data removed]"
          },
          "metadata": {}
        }
      ]
    }
  ]
}