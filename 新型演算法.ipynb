{
  "nbformat": 4,
  "nbformat_minor": 0,
  "metadata": {
    "colab": {
      "provenance": [],
      "gpuType": "T4",
      "include_colab_link": true
    },
    "kernelspec": {
      "name": "python3",
      "display_name": "Python 3"
    },
    "language_info": {
      "name": "python"
    },
    "accelerator": "GPU",
    "widgets": {
      "application/vnd.jupyter.widget-state+json": {
        "ede68c0aa8f74253a91d23460960500f": {
          "model_module": "@jupyter-widgets/controls",
          "model_name": "HBoxModel",
          "model_module_version": "1.5.0",
          "state": {
            "_dom_classes": [],
            "_model_module": "@jupyter-widgets/controls",
            "_model_module_version": "1.5.0",
            "_model_name": "HBoxModel",
            "_view_count": null,
            "_view_module": "@jupyter-widgets/controls",
            "_view_module_version": "1.5.0",
            "_view_name": "HBoxView",
            "box_style": "",
            "children": [
              "IPY_MODEL_7d892bf52df147adaae20115016306ea",
              "IPY_MODEL_47f71beff71d4175bb7ae025155c143c",
              "IPY_MODEL_8135971312cc49d5a3723dc56357c00b"
            ],
            "layout": "IPY_MODEL_08e516549b8b4fc7b8f8000cfb3a8587"
          }
        },
        "7d892bf52df147adaae20115016306ea": {
          "model_module": "@jupyter-widgets/controls",
          "model_name": "HTMLModel",
          "model_module_version": "1.5.0",
          "state": {
            "_dom_classes": [],
            "_model_module": "@jupyter-widgets/controls",
            "_model_module_version": "1.5.0",
            "_model_name": "HTMLModel",
            "_view_count": null,
            "_view_module": "@jupyter-widgets/controls",
            "_view_module_version": "1.5.0",
            "_view_name": "HTMLView",
            "description": "",
            "description_tooltip": null,
            "layout": "IPY_MODEL_7930245f88e843f6b17751817124bda5",
            "placeholder": "​",
            "style": "IPY_MODEL_805ebf4983024150a7e87847d01e5610",
            "value": "Downloading (…)solve/main/vocab.txt: 100%"
          }
        },
        "47f71beff71d4175bb7ae025155c143c": {
          "model_module": "@jupyter-widgets/controls",
          "model_name": "FloatProgressModel",
          "model_module_version": "1.5.0",
          "state": {
            "_dom_classes": [],
            "_model_module": "@jupyter-widgets/controls",
            "_model_module_version": "1.5.0",
            "_model_name": "FloatProgressModel",
            "_view_count": null,
            "_view_module": "@jupyter-widgets/controls",
            "_view_module_version": "1.5.0",
            "_view_name": "ProgressView",
            "bar_style": "success",
            "description": "",
            "description_tooltip": null,
            "layout": "IPY_MODEL_63c5d0bd89ac4b088816f4513503ea7e",
            "max": 231508,
            "min": 0,
            "orientation": "horizontal",
            "style": "IPY_MODEL_f0055a93b3754da0bc0d9b3a2c7dbaee",
            "value": 231508
          }
        },
        "8135971312cc49d5a3723dc56357c00b": {
          "model_module": "@jupyter-widgets/controls",
          "model_name": "HTMLModel",
          "model_module_version": "1.5.0",
          "state": {
            "_dom_classes": [],
            "_model_module": "@jupyter-widgets/controls",
            "_model_module_version": "1.5.0",
            "_model_name": "HTMLModel",
            "_view_count": null,
            "_view_module": "@jupyter-widgets/controls",
            "_view_module_version": "1.5.0",
            "_view_name": "HTMLView",
            "description": "",
            "description_tooltip": null,
            "layout": "IPY_MODEL_268b73e86bd648238dd89164ff70b1f7",
            "placeholder": "​",
            "style": "IPY_MODEL_01469407ffd84fe0b08a6b9552d3dace",
            "value": " 232k/232k [00:00&lt;00:00, 3.64MB/s]"
          }
        },
        "08e516549b8b4fc7b8f8000cfb3a8587": {
          "model_module": "@jupyter-widgets/base",
          "model_name": "LayoutModel",
          "model_module_version": "1.2.0",
          "state": {
            "_model_module": "@jupyter-widgets/base",
            "_model_module_version": "1.2.0",
            "_model_name": "LayoutModel",
            "_view_count": null,
            "_view_module": "@jupyter-widgets/base",
            "_view_module_version": "1.2.0",
            "_view_name": "LayoutView",
            "align_content": null,
            "align_items": null,
            "align_self": null,
            "border": null,
            "bottom": null,
            "display": null,
            "flex": null,
            "flex_flow": null,
            "grid_area": null,
            "grid_auto_columns": null,
            "grid_auto_flow": null,
            "grid_auto_rows": null,
            "grid_column": null,
            "grid_gap": null,
            "grid_row": null,
            "grid_template_areas": null,
            "grid_template_columns": null,
            "grid_template_rows": null,
            "height": null,
            "justify_content": null,
            "justify_items": null,
            "left": null,
            "margin": null,
            "max_height": null,
            "max_width": null,
            "min_height": null,
            "min_width": null,
            "object_fit": null,
            "object_position": null,
            "order": null,
            "overflow": null,
            "overflow_x": null,
            "overflow_y": null,
            "padding": null,
            "right": null,
            "top": null,
            "visibility": null,
            "width": null
          }
        },
        "7930245f88e843f6b17751817124bda5": {
          "model_module": "@jupyter-widgets/base",
          "model_name": "LayoutModel",
          "model_module_version": "1.2.0",
          "state": {
            "_model_module": "@jupyter-widgets/base",
            "_model_module_version": "1.2.0",
            "_model_name": "LayoutModel",
            "_view_count": null,
            "_view_module": "@jupyter-widgets/base",
            "_view_module_version": "1.2.0",
            "_view_name": "LayoutView",
            "align_content": null,
            "align_items": null,
            "align_self": null,
            "border": null,
            "bottom": null,
            "display": null,
            "flex": null,
            "flex_flow": null,
            "grid_area": null,
            "grid_auto_columns": null,
            "grid_auto_flow": null,
            "grid_auto_rows": null,
            "grid_column": null,
            "grid_gap": null,
            "grid_row": null,
            "grid_template_areas": null,
            "grid_template_columns": null,
            "grid_template_rows": null,
            "height": null,
            "justify_content": null,
            "justify_items": null,
            "left": null,
            "margin": null,
            "max_height": null,
            "max_width": null,
            "min_height": null,
            "min_width": null,
            "object_fit": null,
            "object_position": null,
            "order": null,
            "overflow": null,
            "overflow_x": null,
            "overflow_y": null,
            "padding": null,
            "right": null,
            "top": null,
            "visibility": null,
            "width": null
          }
        },
        "805ebf4983024150a7e87847d01e5610": {
          "model_module": "@jupyter-widgets/controls",
          "model_name": "DescriptionStyleModel",
          "model_module_version": "1.5.0",
          "state": {
            "_model_module": "@jupyter-widgets/controls",
            "_model_module_version": "1.5.0",
            "_model_name": "DescriptionStyleModel",
            "_view_count": null,
            "_view_module": "@jupyter-widgets/base",
            "_view_module_version": "1.2.0",
            "_view_name": "StyleView",
            "description_width": ""
          }
        },
        "63c5d0bd89ac4b088816f4513503ea7e": {
          "model_module": "@jupyter-widgets/base",
          "model_name": "LayoutModel",
          "model_module_version": "1.2.0",
          "state": {
            "_model_module": "@jupyter-widgets/base",
            "_model_module_version": "1.2.0",
            "_model_name": "LayoutModel",
            "_view_count": null,
            "_view_module": "@jupyter-widgets/base",
            "_view_module_version": "1.2.0",
            "_view_name": "LayoutView",
            "align_content": null,
            "align_items": null,
            "align_self": null,
            "border": null,
            "bottom": null,
            "display": null,
            "flex": null,
            "flex_flow": null,
            "grid_area": null,
            "grid_auto_columns": null,
            "grid_auto_flow": null,
            "grid_auto_rows": null,
            "grid_column": null,
            "grid_gap": null,
            "grid_row": null,
            "grid_template_areas": null,
            "grid_template_columns": null,
            "grid_template_rows": null,
            "height": null,
            "justify_content": null,
            "justify_items": null,
            "left": null,
            "margin": null,
            "max_height": null,
            "max_width": null,
            "min_height": null,
            "min_width": null,
            "object_fit": null,
            "object_position": null,
            "order": null,
            "overflow": null,
            "overflow_x": null,
            "overflow_y": null,
            "padding": null,
            "right": null,
            "top": null,
            "visibility": null,
            "width": null
          }
        },
        "f0055a93b3754da0bc0d9b3a2c7dbaee": {
          "model_module": "@jupyter-widgets/controls",
          "model_name": "ProgressStyleModel",
          "model_module_version": "1.5.0",
          "state": {
            "_model_module": "@jupyter-widgets/controls",
            "_model_module_version": "1.5.0",
            "_model_name": "ProgressStyleModel",
            "_view_count": null,
            "_view_module": "@jupyter-widgets/base",
            "_view_module_version": "1.2.0",
            "_view_name": "StyleView",
            "bar_color": null,
            "description_width": ""
          }
        },
        "268b73e86bd648238dd89164ff70b1f7": {
          "model_module": "@jupyter-widgets/base",
          "model_name": "LayoutModel",
          "model_module_version": "1.2.0",
          "state": {
            "_model_module": "@jupyter-widgets/base",
            "_model_module_version": "1.2.0",
            "_model_name": "LayoutModel",
            "_view_count": null,
            "_view_module": "@jupyter-widgets/base",
            "_view_module_version": "1.2.0",
            "_view_name": "LayoutView",
            "align_content": null,
            "align_items": null,
            "align_self": null,
            "border": null,
            "bottom": null,
            "display": null,
            "flex": null,
            "flex_flow": null,
            "grid_area": null,
            "grid_auto_columns": null,
            "grid_auto_flow": null,
            "grid_auto_rows": null,
            "grid_column": null,
            "grid_gap": null,
            "grid_row": null,
            "grid_template_areas": null,
            "grid_template_columns": null,
            "grid_template_rows": null,
            "height": null,
            "justify_content": null,
            "justify_items": null,
            "left": null,
            "margin": null,
            "max_height": null,
            "max_width": null,
            "min_height": null,
            "min_width": null,
            "object_fit": null,
            "object_position": null,
            "order": null,
            "overflow": null,
            "overflow_x": null,
            "overflow_y": null,
            "padding": null,
            "right": null,
            "top": null,
            "visibility": null,
            "width": null
          }
        },
        "01469407ffd84fe0b08a6b9552d3dace": {
          "model_module": "@jupyter-widgets/controls",
          "model_name": "DescriptionStyleModel",
          "model_module_version": "1.5.0",
          "state": {
            "_model_module": "@jupyter-widgets/controls",
            "_model_module_version": "1.5.0",
            "_model_name": "DescriptionStyleModel",
            "_view_count": null,
            "_view_module": "@jupyter-widgets/base",
            "_view_module_version": "1.2.0",
            "_view_name": "StyleView",
            "description_width": ""
          }
        },
        "140787392e774538972fc93ddc20ebcf": {
          "model_module": "@jupyter-widgets/controls",
          "model_name": "HBoxModel",
          "model_module_version": "1.5.0",
          "state": {
            "_dom_classes": [],
            "_model_module": "@jupyter-widgets/controls",
            "_model_module_version": "1.5.0",
            "_model_name": "HBoxModel",
            "_view_count": null,
            "_view_module": "@jupyter-widgets/controls",
            "_view_module_version": "1.5.0",
            "_view_name": "HBoxView",
            "box_style": "",
            "children": [
              "IPY_MODEL_e8e32ff53c9347f2b18e5ff20cfc1282",
              "IPY_MODEL_8314023208d846b997aa39532a4331b6",
              "IPY_MODEL_c11b22b161ea4cb2bd5f9e1986ae7ef0"
            ],
            "layout": "IPY_MODEL_833f10dde8d445078cd98e0c6d9a2e5e"
          }
        },
        "e8e32ff53c9347f2b18e5ff20cfc1282": {
          "model_module": "@jupyter-widgets/controls",
          "model_name": "HTMLModel",
          "model_module_version": "1.5.0",
          "state": {
            "_dom_classes": [],
            "_model_module": "@jupyter-widgets/controls",
            "_model_module_version": "1.5.0",
            "_model_name": "HTMLModel",
            "_view_count": null,
            "_view_module": "@jupyter-widgets/controls",
            "_view_module_version": "1.5.0",
            "_view_name": "HTMLView",
            "description": "",
            "description_tooltip": null,
            "layout": "IPY_MODEL_c40b3d71e80540c4ba798eabc4263f4e",
            "placeholder": "​",
            "style": "IPY_MODEL_becf6249a4c74ed4a4cef274e2a10c74",
            "value": "Downloading (…)okenizer_config.json: 100%"
          }
        },
        "8314023208d846b997aa39532a4331b6": {
          "model_module": "@jupyter-widgets/controls",
          "model_name": "FloatProgressModel",
          "model_module_version": "1.5.0",
          "state": {
            "_dom_classes": [],
            "_model_module": "@jupyter-widgets/controls",
            "_model_module_version": "1.5.0",
            "_model_name": "FloatProgressModel",
            "_view_count": null,
            "_view_module": "@jupyter-widgets/controls",
            "_view_module_version": "1.5.0",
            "_view_name": "ProgressView",
            "bar_style": "success",
            "description": "",
            "description_tooltip": null,
            "layout": "IPY_MODEL_c12f001a6a7d4321b885f45861bf747d",
            "max": 28,
            "min": 0,
            "orientation": "horizontal",
            "style": "IPY_MODEL_daf6d9dda9d04067ac6e20cf64dce1f2",
            "value": 28
          }
        },
        "c11b22b161ea4cb2bd5f9e1986ae7ef0": {
          "model_module": "@jupyter-widgets/controls",
          "model_name": "HTMLModel",
          "model_module_version": "1.5.0",
          "state": {
            "_dom_classes": [],
            "_model_module": "@jupyter-widgets/controls",
            "_model_module_version": "1.5.0",
            "_model_name": "HTMLModel",
            "_view_count": null,
            "_view_module": "@jupyter-widgets/controls",
            "_view_module_version": "1.5.0",
            "_view_name": "HTMLView",
            "description": "",
            "description_tooltip": null,
            "layout": "IPY_MODEL_2bc24589ad86412ca70402dcdb6e0521",
            "placeholder": "​",
            "style": "IPY_MODEL_206c36f40c0a47da87a6b4ae06102839",
            "value": " 28.0/28.0 [00:00&lt;00:00, 1.25kB/s]"
          }
        },
        "833f10dde8d445078cd98e0c6d9a2e5e": {
          "model_module": "@jupyter-widgets/base",
          "model_name": "LayoutModel",
          "model_module_version": "1.2.0",
          "state": {
            "_model_module": "@jupyter-widgets/base",
            "_model_module_version": "1.2.0",
            "_model_name": "LayoutModel",
            "_view_count": null,
            "_view_module": "@jupyter-widgets/base",
            "_view_module_version": "1.2.0",
            "_view_name": "LayoutView",
            "align_content": null,
            "align_items": null,
            "align_self": null,
            "border": null,
            "bottom": null,
            "display": null,
            "flex": null,
            "flex_flow": null,
            "grid_area": null,
            "grid_auto_columns": null,
            "grid_auto_flow": null,
            "grid_auto_rows": null,
            "grid_column": null,
            "grid_gap": null,
            "grid_row": null,
            "grid_template_areas": null,
            "grid_template_columns": null,
            "grid_template_rows": null,
            "height": null,
            "justify_content": null,
            "justify_items": null,
            "left": null,
            "margin": null,
            "max_height": null,
            "max_width": null,
            "min_height": null,
            "min_width": null,
            "object_fit": null,
            "object_position": null,
            "order": null,
            "overflow": null,
            "overflow_x": null,
            "overflow_y": null,
            "padding": null,
            "right": null,
            "top": null,
            "visibility": null,
            "width": null
          }
        },
        "c40b3d71e80540c4ba798eabc4263f4e": {
          "model_module": "@jupyter-widgets/base",
          "model_name": "LayoutModel",
          "model_module_version": "1.2.0",
          "state": {
            "_model_module": "@jupyter-widgets/base",
            "_model_module_version": "1.2.0",
            "_model_name": "LayoutModel",
            "_view_count": null,
            "_view_module": "@jupyter-widgets/base",
            "_view_module_version": "1.2.0",
            "_view_name": "LayoutView",
            "align_content": null,
            "align_items": null,
            "align_self": null,
            "border": null,
            "bottom": null,
            "display": null,
            "flex": null,
            "flex_flow": null,
            "grid_area": null,
            "grid_auto_columns": null,
            "grid_auto_flow": null,
            "grid_auto_rows": null,
            "grid_column": null,
            "grid_gap": null,
            "grid_row": null,
            "grid_template_areas": null,
            "grid_template_columns": null,
            "grid_template_rows": null,
            "height": null,
            "justify_content": null,
            "justify_items": null,
            "left": null,
            "margin": null,
            "max_height": null,
            "max_width": null,
            "min_height": null,
            "min_width": null,
            "object_fit": null,
            "object_position": null,
            "order": null,
            "overflow": null,
            "overflow_x": null,
            "overflow_y": null,
            "padding": null,
            "right": null,
            "top": null,
            "visibility": null,
            "width": null
          }
        },
        "becf6249a4c74ed4a4cef274e2a10c74": {
          "model_module": "@jupyter-widgets/controls",
          "model_name": "DescriptionStyleModel",
          "model_module_version": "1.5.0",
          "state": {
            "_model_module": "@jupyter-widgets/controls",
            "_model_module_version": "1.5.0",
            "_model_name": "DescriptionStyleModel",
            "_view_count": null,
            "_view_module": "@jupyter-widgets/base",
            "_view_module_version": "1.2.0",
            "_view_name": "StyleView",
            "description_width": ""
          }
        },
        "c12f001a6a7d4321b885f45861bf747d": {
          "model_module": "@jupyter-widgets/base",
          "model_name": "LayoutModel",
          "model_module_version": "1.2.0",
          "state": {
            "_model_module": "@jupyter-widgets/base",
            "_model_module_version": "1.2.0",
            "_model_name": "LayoutModel",
            "_view_count": null,
            "_view_module": "@jupyter-widgets/base",
            "_view_module_version": "1.2.0",
            "_view_name": "LayoutView",
            "align_content": null,
            "align_items": null,
            "align_self": null,
            "border": null,
            "bottom": null,
            "display": null,
            "flex": null,
            "flex_flow": null,
            "grid_area": null,
            "grid_auto_columns": null,
            "grid_auto_flow": null,
            "grid_auto_rows": null,
            "grid_column": null,
            "grid_gap": null,
            "grid_row": null,
            "grid_template_areas": null,
            "grid_template_columns": null,
            "grid_template_rows": null,
            "height": null,
            "justify_content": null,
            "justify_items": null,
            "left": null,
            "margin": null,
            "max_height": null,
            "max_width": null,
            "min_height": null,
            "min_width": null,
            "object_fit": null,
            "object_position": null,
            "order": null,
            "overflow": null,
            "overflow_x": null,
            "overflow_y": null,
            "padding": null,
            "right": null,
            "top": null,
            "visibility": null,
            "width": null
          }
        },
        "daf6d9dda9d04067ac6e20cf64dce1f2": {
          "model_module": "@jupyter-widgets/controls",
          "model_name": "ProgressStyleModel",
          "model_module_version": "1.5.0",
          "state": {
            "_model_module": "@jupyter-widgets/controls",
            "_model_module_version": "1.5.0",
            "_model_name": "ProgressStyleModel",
            "_view_count": null,
            "_view_module": "@jupyter-widgets/base",
            "_view_module_version": "1.2.0",
            "_view_name": "StyleView",
            "bar_color": null,
            "description_width": ""
          }
        },
        "2bc24589ad86412ca70402dcdb6e0521": {
          "model_module": "@jupyter-widgets/base",
          "model_name": "LayoutModel",
          "model_module_version": "1.2.0",
          "state": {
            "_model_module": "@jupyter-widgets/base",
            "_model_module_version": "1.2.0",
            "_model_name": "LayoutModel",
            "_view_count": null,
            "_view_module": "@jupyter-widgets/base",
            "_view_module_version": "1.2.0",
            "_view_name": "LayoutView",
            "align_content": null,
            "align_items": null,
            "align_self": null,
            "border": null,
            "bottom": null,
            "display": null,
            "flex": null,
            "flex_flow": null,
            "grid_area": null,
            "grid_auto_columns": null,
            "grid_auto_flow": null,
            "grid_auto_rows": null,
            "grid_column": null,
            "grid_gap": null,
            "grid_row": null,
            "grid_template_areas": null,
            "grid_template_columns": null,
            "grid_template_rows": null,
            "height": null,
            "justify_content": null,
            "justify_items": null,
            "left": null,
            "margin": null,
            "max_height": null,
            "max_width": null,
            "min_height": null,
            "min_width": null,
            "object_fit": null,
            "object_position": null,
            "order": null,
            "overflow": null,
            "overflow_x": null,
            "overflow_y": null,
            "padding": null,
            "right": null,
            "top": null,
            "visibility": null,
            "width": null
          }
        },
        "206c36f40c0a47da87a6b4ae06102839": {
          "model_module": "@jupyter-widgets/controls",
          "model_name": "DescriptionStyleModel",
          "model_module_version": "1.5.0",
          "state": {
            "_model_module": "@jupyter-widgets/controls",
            "_model_module_version": "1.5.0",
            "_model_name": "DescriptionStyleModel",
            "_view_count": null,
            "_view_module": "@jupyter-widgets/base",
            "_view_module_version": "1.2.0",
            "_view_name": "StyleView",
            "description_width": ""
          }
        },
        "4dbef77251df46b5897205c2c213f45b": {
          "model_module": "@jupyter-widgets/controls",
          "model_name": "HBoxModel",
          "model_module_version": "1.5.0",
          "state": {
            "_dom_classes": [],
            "_model_module": "@jupyter-widgets/controls",
            "_model_module_version": "1.5.0",
            "_model_name": "HBoxModel",
            "_view_count": null,
            "_view_module": "@jupyter-widgets/controls",
            "_view_module_version": "1.5.0",
            "_view_name": "HBoxView",
            "box_style": "",
            "children": [
              "IPY_MODEL_53b9a43f0bf74e9881eb8bc3e6031d05",
              "IPY_MODEL_ce54ed1a8795487ca7d7ab250beefd25",
              "IPY_MODEL_5086904deafc4aed9e193588026fb84a"
            ],
            "layout": "IPY_MODEL_54c644b853394f988abe0afce41a9150"
          }
        },
        "53b9a43f0bf74e9881eb8bc3e6031d05": {
          "model_module": "@jupyter-widgets/controls",
          "model_name": "HTMLModel",
          "model_module_version": "1.5.0",
          "state": {
            "_dom_classes": [],
            "_model_module": "@jupyter-widgets/controls",
            "_model_module_version": "1.5.0",
            "_model_name": "HTMLModel",
            "_view_count": null,
            "_view_module": "@jupyter-widgets/controls",
            "_view_module_version": "1.5.0",
            "_view_name": "HTMLView",
            "description": "",
            "description_tooltip": null,
            "layout": "IPY_MODEL_9cf98dc7d4a0486fa41985f6c5870a4b",
            "placeholder": "​",
            "style": "IPY_MODEL_c09fa972c9664fc48a399257eefe99d3",
            "value": "Downloading (…)lve/main/config.json: 100%"
          }
        },
        "ce54ed1a8795487ca7d7ab250beefd25": {
          "model_module": "@jupyter-widgets/controls",
          "model_name": "FloatProgressModel",
          "model_module_version": "1.5.0",
          "state": {
            "_dom_classes": [],
            "_model_module": "@jupyter-widgets/controls",
            "_model_module_version": "1.5.0",
            "_model_name": "FloatProgressModel",
            "_view_count": null,
            "_view_module": "@jupyter-widgets/controls",
            "_view_module_version": "1.5.0",
            "_view_name": "ProgressView",
            "bar_style": "success",
            "description": "",
            "description_tooltip": null,
            "layout": "IPY_MODEL_fa0c580948af4cf99e1922ae81f491ff",
            "max": 570,
            "min": 0,
            "orientation": "horizontal",
            "style": "IPY_MODEL_e9cc5c9f28f6470e8e8c1fdceff9f370",
            "value": 570
          }
        },
        "5086904deafc4aed9e193588026fb84a": {
          "model_module": "@jupyter-widgets/controls",
          "model_name": "HTMLModel",
          "model_module_version": "1.5.0",
          "state": {
            "_dom_classes": [],
            "_model_module": "@jupyter-widgets/controls",
            "_model_module_version": "1.5.0",
            "_model_name": "HTMLModel",
            "_view_count": null,
            "_view_module": "@jupyter-widgets/controls",
            "_view_module_version": "1.5.0",
            "_view_name": "HTMLView",
            "description": "",
            "description_tooltip": null,
            "layout": "IPY_MODEL_731a790202f34ddc90ea2e1c90dc9710",
            "placeholder": "​",
            "style": "IPY_MODEL_529c0bcf816849b98fadefeeb6f7463a",
            "value": " 570/570 [00:00&lt;00:00, 42.8kB/s]"
          }
        },
        "54c644b853394f988abe0afce41a9150": {
          "model_module": "@jupyter-widgets/base",
          "model_name": "LayoutModel",
          "model_module_version": "1.2.0",
          "state": {
            "_model_module": "@jupyter-widgets/base",
            "_model_module_version": "1.2.0",
            "_model_name": "LayoutModel",
            "_view_count": null,
            "_view_module": "@jupyter-widgets/base",
            "_view_module_version": "1.2.0",
            "_view_name": "LayoutView",
            "align_content": null,
            "align_items": null,
            "align_self": null,
            "border": null,
            "bottom": null,
            "display": null,
            "flex": null,
            "flex_flow": null,
            "grid_area": null,
            "grid_auto_columns": null,
            "grid_auto_flow": null,
            "grid_auto_rows": null,
            "grid_column": null,
            "grid_gap": null,
            "grid_row": null,
            "grid_template_areas": null,
            "grid_template_columns": null,
            "grid_template_rows": null,
            "height": null,
            "justify_content": null,
            "justify_items": null,
            "left": null,
            "margin": null,
            "max_height": null,
            "max_width": null,
            "min_height": null,
            "min_width": null,
            "object_fit": null,
            "object_position": null,
            "order": null,
            "overflow": null,
            "overflow_x": null,
            "overflow_y": null,
            "padding": null,
            "right": null,
            "top": null,
            "visibility": null,
            "width": null
          }
        },
        "9cf98dc7d4a0486fa41985f6c5870a4b": {
          "model_module": "@jupyter-widgets/base",
          "model_name": "LayoutModel",
          "model_module_version": "1.2.0",
          "state": {
            "_model_module": "@jupyter-widgets/base",
            "_model_module_version": "1.2.0",
            "_model_name": "LayoutModel",
            "_view_count": null,
            "_view_module": "@jupyter-widgets/base",
            "_view_module_version": "1.2.0",
            "_view_name": "LayoutView",
            "align_content": null,
            "align_items": null,
            "align_self": null,
            "border": null,
            "bottom": null,
            "display": null,
            "flex": null,
            "flex_flow": null,
            "grid_area": null,
            "grid_auto_columns": null,
            "grid_auto_flow": null,
            "grid_auto_rows": null,
            "grid_column": null,
            "grid_gap": null,
            "grid_row": null,
            "grid_template_areas": null,
            "grid_template_columns": null,
            "grid_template_rows": null,
            "height": null,
            "justify_content": null,
            "justify_items": null,
            "left": null,
            "margin": null,
            "max_height": null,
            "max_width": null,
            "min_height": null,
            "min_width": null,
            "object_fit": null,
            "object_position": null,
            "order": null,
            "overflow": null,
            "overflow_x": null,
            "overflow_y": null,
            "padding": null,
            "right": null,
            "top": null,
            "visibility": null,
            "width": null
          }
        },
        "c09fa972c9664fc48a399257eefe99d3": {
          "model_module": "@jupyter-widgets/controls",
          "model_name": "DescriptionStyleModel",
          "model_module_version": "1.5.0",
          "state": {
            "_model_module": "@jupyter-widgets/controls",
            "_model_module_version": "1.5.0",
            "_model_name": "DescriptionStyleModel",
            "_view_count": null,
            "_view_module": "@jupyter-widgets/base",
            "_view_module_version": "1.2.0",
            "_view_name": "StyleView",
            "description_width": ""
          }
        },
        "fa0c580948af4cf99e1922ae81f491ff": {
          "model_module": "@jupyter-widgets/base",
          "model_name": "LayoutModel",
          "model_module_version": "1.2.0",
          "state": {
            "_model_module": "@jupyter-widgets/base",
            "_model_module_version": "1.2.0",
            "_model_name": "LayoutModel",
            "_view_count": null,
            "_view_module": "@jupyter-widgets/base",
            "_view_module_version": "1.2.0",
            "_view_name": "LayoutView",
            "align_content": null,
            "align_items": null,
            "align_self": null,
            "border": null,
            "bottom": null,
            "display": null,
            "flex": null,
            "flex_flow": null,
            "grid_area": null,
            "grid_auto_columns": null,
            "grid_auto_flow": null,
            "grid_auto_rows": null,
            "grid_column": null,
            "grid_gap": null,
            "grid_row": null,
            "grid_template_areas": null,
            "grid_template_columns": null,
            "grid_template_rows": null,
            "height": null,
            "justify_content": null,
            "justify_items": null,
            "left": null,
            "margin": null,
            "max_height": null,
            "max_width": null,
            "min_height": null,
            "min_width": null,
            "object_fit": null,
            "object_position": null,
            "order": null,
            "overflow": null,
            "overflow_x": null,
            "overflow_y": null,
            "padding": null,
            "right": null,
            "top": null,
            "visibility": null,
            "width": null
          }
        },
        "e9cc5c9f28f6470e8e8c1fdceff9f370": {
          "model_module": "@jupyter-widgets/controls",
          "model_name": "ProgressStyleModel",
          "model_module_version": "1.5.0",
          "state": {
            "_model_module": "@jupyter-widgets/controls",
            "_model_module_version": "1.5.0",
            "_model_name": "ProgressStyleModel",
            "_view_count": null,
            "_view_module": "@jupyter-widgets/base",
            "_view_module_version": "1.2.0",
            "_view_name": "StyleView",
            "bar_color": null,
            "description_width": ""
          }
        },
        "731a790202f34ddc90ea2e1c90dc9710": {
          "model_module": "@jupyter-widgets/base",
          "model_name": "LayoutModel",
          "model_module_version": "1.2.0",
          "state": {
            "_model_module": "@jupyter-widgets/base",
            "_model_module_version": "1.2.0",
            "_model_name": "LayoutModel",
            "_view_count": null,
            "_view_module": "@jupyter-widgets/base",
            "_view_module_version": "1.2.0",
            "_view_name": "LayoutView",
            "align_content": null,
            "align_items": null,
            "align_self": null,
            "border": null,
            "bottom": null,
            "display": null,
            "flex": null,
            "flex_flow": null,
            "grid_area": null,
            "grid_auto_columns": null,
            "grid_auto_flow": null,
            "grid_auto_rows": null,
            "grid_column": null,
            "grid_gap": null,
            "grid_row": null,
            "grid_template_areas": null,
            "grid_template_columns": null,
            "grid_template_rows": null,
            "height": null,
            "justify_content": null,
            "justify_items": null,
            "left": null,
            "margin": null,
            "max_height": null,
            "max_width": null,
            "min_height": null,
            "min_width": null,
            "object_fit": null,
            "object_position": null,
            "order": null,
            "overflow": null,
            "overflow_x": null,
            "overflow_y": null,
            "padding": null,
            "right": null,
            "top": null,
            "visibility": null,
            "width": null
          }
        },
        "529c0bcf816849b98fadefeeb6f7463a": {
          "model_module": "@jupyter-widgets/controls",
          "model_name": "DescriptionStyleModel",
          "model_module_version": "1.5.0",
          "state": {
            "_model_module": "@jupyter-widgets/controls",
            "_model_module_version": "1.5.0",
            "_model_name": "DescriptionStyleModel",
            "_view_count": null,
            "_view_module": "@jupyter-widgets/base",
            "_view_module_version": "1.2.0",
            "_view_name": "StyleView",
            "description_width": ""
          }
        },
        "f8836de1a2854bf2b84b7889d1ab872c": {
          "model_module": "@jupyter-widgets/controls",
          "model_name": "HBoxModel",
          "model_module_version": "1.5.0",
          "state": {
            "_dom_classes": [],
            "_model_module": "@jupyter-widgets/controls",
            "_model_module_version": "1.5.0",
            "_model_name": "HBoxModel",
            "_view_count": null,
            "_view_module": "@jupyter-widgets/controls",
            "_view_module_version": "1.5.0",
            "_view_name": "HBoxView",
            "box_style": "",
            "children": [
              "IPY_MODEL_668ea2959ac948a98f967a9fb0f60aba",
              "IPY_MODEL_bc1e65741145475f89ebbf31fbbf8f7f",
              "IPY_MODEL_15b9d3d2233a4314a4f5bc911248dc8d"
            ],
            "layout": "IPY_MODEL_ee1bbfe4700f40379f820b2bbc5bc1a5"
          }
        },
        "668ea2959ac948a98f967a9fb0f60aba": {
          "model_module": "@jupyter-widgets/controls",
          "model_name": "HTMLModel",
          "model_module_version": "1.5.0",
          "state": {
            "_dom_classes": [],
            "_model_module": "@jupyter-widgets/controls",
            "_model_module_version": "1.5.0",
            "_model_name": "HTMLModel",
            "_view_count": null,
            "_view_module": "@jupyter-widgets/controls",
            "_view_module_version": "1.5.0",
            "_view_name": "HTMLView",
            "description": "",
            "description_tooltip": null,
            "layout": "IPY_MODEL_43c9f530354d4f0f85772df233856471",
            "placeholder": "​",
            "style": "IPY_MODEL_f30c427f86e84957ab071c779f07f3f7",
            "value": "Downloading model.safetensors: 100%"
          }
        },
        "bc1e65741145475f89ebbf31fbbf8f7f": {
          "model_module": "@jupyter-widgets/controls",
          "model_name": "FloatProgressModel",
          "model_module_version": "1.5.0",
          "state": {
            "_dom_classes": [],
            "_model_module": "@jupyter-widgets/controls",
            "_model_module_version": "1.5.0",
            "_model_name": "FloatProgressModel",
            "_view_count": null,
            "_view_module": "@jupyter-widgets/controls",
            "_view_module_version": "1.5.0",
            "_view_name": "ProgressView",
            "bar_style": "success",
            "description": "",
            "description_tooltip": null,
            "layout": "IPY_MODEL_218951441d38465493021f49bf5df854",
            "max": 440449768,
            "min": 0,
            "orientation": "horizontal",
            "style": "IPY_MODEL_44c2af3f45a245d781701cf55b8dcf73",
            "value": 440449768
          }
        },
        "15b9d3d2233a4314a4f5bc911248dc8d": {
          "model_module": "@jupyter-widgets/controls",
          "model_name": "HTMLModel",
          "model_module_version": "1.5.0",
          "state": {
            "_dom_classes": [],
            "_model_module": "@jupyter-widgets/controls",
            "_model_module_version": "1.5.0",
            "_model_name": "HTMLModel",
            "_view_count": null,
            "_view_module": "@jupyter-widgets/controls",
            "_view_module_version": "1.5.0",
            "_view_name": "HTMLView",
            "description": "",
            "description_tooltip": null,
            "layout": "IPY_MODEL_3688699354b244d38b644c11cb4f9c38",
            "placeholder": "​",
            "style": "IPY_MODEL_ad2b889165864345bb6f385d312002c7",
            "value": " 440M/440M [00:04&lt;00:00, 208MB/s]"
          }
        },
        "ee1bbfe4700f40379f820b2bbc5bc1a5": {
          "model_module": "@jupyter-widgets/base",
          "model_name": "LayoutModel",
          "model_module_version": "1.2.0",
          "state": {
            "_model_module": "@jupyter-widgets/base",
            "_model_module_version": "1.2.0",
            "_model_name": "LayoutModel",
            "_view_count": null,
            "_view_module": "@jupyter-widgets/base",
            "_view_module_version": "1.2.0",
            "_view_name": "LayoutView",
            "align_content": null,
            "align_items": null,
            "align_self": null,
            "border": null,
            "bottom": null,
            "display": null,
            "flex": null,
            "flex_flow": null,
            "grid_area": null,
            "grid_auto_columns": null,
            "grid_auto_flow": null,
            "grid_auto_rows": null,
            "grid_column": null,
            "grid_gap": null,
            "grid_row": null,
            "grid_template_areas": null,
            "grid_template_columns": null,
            "grid_template_rows": null,
            "height": null,
            "justify_content": null,
            "justify_items": null,
            "left": null,
            "margin": null,
            "max_height": null,
            "max_width": null,
            "min_height": null,
            "min_width": null,
            "object_fit": null,
            "object_position": null,
            "order": null,
            "overflow": null,
            "overflow_x": null,
            "overflow_y": null,
            "padding": null,
            "right": null,
            "top": null,
            "visibility": null,
            "width": null
          }
        },
        "43c9f530354d4f0f85772df233856471": {
          "model_module": "@jupyter-widgets/base",
          "model_name": "LayoutModel",
          "model_module_version": "1.2.0",
          "state": {
            "_model_module": "@jupyter-widgets/base",
            "_model_module_version": "1.2.0",
            "_model_name": "LayoutModel",
            "_view_count": null,
            "_view_module": "@jupyter-widgets/base",
            "_view_module_version": "1.2.0",
            "_view_name": "LayoutView",
            "align_content": null,
            "align_items": null,
            "align_self": null,
            "border": null,
            "bottom": null,
            "display": null,
            "flex": null,
            "flex_flow": null,
            "grid_area": null,
            "grid_auto_columns": null,
            "grid_auto_flow": null,
            "grid_auto_rows": null,
            "grid_column": null,
            "grid_gap": null,
            "grid_row": null,
            "grid_template_areas": null,
            "grid_template_columns": null,
            "grid_template_rows": null,
            "height": null,
            "justify_content": null,
            "justify_items": null,
            "left": null,
            "margin": null,
            "max_height": null,
            "max_width": null,
            "min_height": null,
            "min_width": null,
            "object_fit": null,
            "object_position": null,
            "order": null,
            "overflow": null,
            "overflow_x": null,
            "overflow_y": null,
            "padding": null,
            "right": null,
            "top": null,
            "visibility": null,
            "width": null
          }
        },
        "f30c427f86e84957ab071c779f07f3f7": {
          "model_module": "@jupyter-widgets/controls",
          "model_name": "DescriptionStyleModel",
          "model_module_version": "1.5.0",
          "state": {
            "_model_module": "@jupyter-widgets/controls",
            "_model_module_version": "1.5.0",
            "_model_name": "DescriptionStyleModel",
            "_view_count": null,
            "_view_module": "@jupyter-widgets/base",
            "_view_module_version": "1.2.0",
            "_view_name": "StyleView",
            "description_width": ""
          }
        },
        "218951441d38465493021f49bf5df854": {
          "model_module": "@jupyter-widgets/base",
          "model_name": "LayoutModel",
          "model_module_version": "1.2.0",
          "state": {
            "_model_module": "@jupyter-widgets/base",
            "_model_module_version": "1.2.0",
            "_model_name": "LayoutModel",
            "_view_count": null,
            "_view_module": "@jupyter-widgets/base",
            "_view_module_version": "1.2.0",
            "_view_name": "LayoutView",
            "align_content": null,
            "align_items": null,
            "align_self": null,
            "border": null,
            "bottom": null,
            "display": null,
            "flex": null,
            "flex_flow": null,
            "grid_area": null,
            "grid_auto_columns": null,
            "grid_auto_flow": null,
            "grid_auto_rows": null,
            "grid_column": null,
            "grid_gap": null,
            "grid_row": null,
            "grid_template_areas": null,
            "grid_template_columns": null,
            "grid_template_rows": null,
            "height": null,
            "justify_content": null,
            "justify_items": null,
            "left": null,
            "margin": null,
            "max_height": null,
            "max_width": null,
            "min_height": null,
            "min_width": null,
            "object_fit": null,
            "object_position": null,
            "order": null,
            "overflow": null,
            "overflow_x": null,
            "overflow_y": null,
            "padding": null,
            "right": null,
            "top": null,
            "visibility": null,
            "width": null
          }
        },
        "44c2af3f45a245d781701cf55b8dcf73": {
          "model_module": "@jupyter-widgets/controls",
          "model_name": "ProgressStyleModel",
          "model_module_version": "1.5.0",
          "state": {
            "_model_module": "@jupyter-widgets/controls",
            "_model_module_version": "1.5.0",
            "_model_name": "ProgressStyleModel",
            "_view_count": null,
            "_view_module": "@jupyter-widgets/base",
            "_view_module_version": "1.2.0",
            "_view_name": "StyleView",
            "bar_color": null,
            "description_width": ""
          }
        },
        "3688699354b244d38b644c11cb4f9c38": {
          "model_module": "@jupyter-widgets/base",
          "model_name": "LayoutModel",
          "model_module_version": "1.2.0",
          "state": {
            "_model_module": "@jupyter-widgets/base",
            "_model_module_version": "1.2.0",
            "_model_name": "LayoutModel",
            "_view_count": null,
            "_view_module": "@jupyter-widgets/base",
            "_view_module_version": "1.2.0",
            "_view_name": "LayoutView",
            "align_content": null,
            "align_items": null,
            "align_self": null,
            "border": null,
            "bottom": null,
            "display": null,
            "flex": null,
            "flex_flow": null,
            "grid_area": null,
            "grid_auto_columns": null,
            "grid_auto_flow": null,
            "grid_auto_rows": null,
            "grid_column": null,
            "grid_gap": null,
            "grid_row": null,
            "grid_template_areas": null,
            "grid_template_columns": null,
            "grid_template_rows": null,
            "height": null,
            "justify_content": null,
            "justify_items": null,
            "left": null,
            "margin": null,
            "max_height": null,
            "max_width": null,
            "min_height": null,
            "min_width": null,
            "object_fit": null,
            "object_position": null,
            "order": null,
            "overflow": null,
            "overflow_x": null,
            "overflow_y": null,
            "padding": null,
            "right": null,
            "top": null,
            "visibility": null,
            "width": null
          }
        },
        "ad2b889165864345bb6f385d312002c7": {
          "model_module": "@jupyter-widgets/controls",
          "model_name": "DescriptionStyleModel",
          "model_module_version": "1.5.0",
          "state": {
            "_model_module": "@jupyter-widgets/controls",
            "_model_module_version": "1.5.0",
            "_model_name": "DescriptionStyleModel",
            "_view_count": null,
            "_view_module": "@jupyter-widgets/base",
            "_view_module_version": "1.2.0",
            "_view_name": "StyleView",
            "description_width": ""
          }
        }
      }
    }
  },
  "cells": [
    {
      "cell_type": "markdown",
      "metadata": {
        "id": "view-in-github",
        "colab_type": "text"
      },
      "source": [
        "<a href=\"https://colab.research.google.com/github/Tonyrj3268/DS4CS-FinalProject/blob/main/%E6%96%B0%E5%9E%8B%E6%BC%94%E7%AE%97%E6%B3%95.ipynb\" target=\"_parent\"><img src=\"https://colab.research.google.com/assets/colab-badge.svg\" alt=\"Open In Colab\"/></a>"
      ]
    },
    {
      "cell_type": "markdown",
      "source": [
        "\n",
        "\n",
        "# **Member**\n",
        "*   林家誠, 109306066, MIS\n",
        "*   陳彥竹, 1093060xx, MIS\n",
        "\n"
      ],
      "metadata": {
        "id": "xADABvyDhjn7"
      }
    },
    {
      "cell_type": "markdown",
      "source": [
        "# **Title**\n",
        "**url之分析...**"
      ],
      "metadata": {
        "id": "OBefV9KkiOuO"
      }
    },
    {
      "cell_type": "markdown",
      "source": [
        "# **Problem Definition**\n",
        "**Problem Definition**"
      ],
      "metadata": {
        "id": "muEdhK26ia_J"
      }
    },
    {
      "cell_type": "markdown",
      "source": [
        "# **Dataset**\n",
        "**Dataset**\n",
        "**介紹**\n"
      ],
      "metadata": {
        "id": "nrJ6HyyiioMg"
      }
    },
    {
      "cell_type": "markdown",
      "source": [
        "\n",
        "# **description of your models**\n",
        "**models**\n",
        "**介紹**\n"
      ],
      "metadata": {
        "id": "5bWAvB0mi5qh"
      }
    },
    {
      "cell_type": "markdown",
      "source": [
        "\n",
        "# **result**\n",
        "**介紹**\n"
      ],
      "metadata": {
        "id": "yr_8W-b3jEn1"
      }
    },
    {
      "cell_type": "markdown",
      "source": [
        "\n",
        "# **discussion**\n",
        "**介紹**\n"
      ],
      "metadata": {
        "id": "x3ux5SxujH7W"
      }
    },
    {
      "cell_type": "markdown",
      "source": [
        "# 程式碼"
      ],
      "metadata": {
        "id": "ophiuqXajOnI"
      }
    },
    {
      "cell_type": "markdown",
      "source": [
        "## 安裝套件"
      ],
      "metadata": {
        "id": "NzxcafCMjRva"
      }
    },
    {
      "cell_type": "code",
      "source": [
        "!pip install transformers\n",
        "!pip install imbalanced-learn"
      ],
      "metadata": {
        "colab": {
          "base_uri": "https://localhost:8080/"
        },
        "id": "1sV7PnE-qGrM",
        "outputId": "69723bc3-ba5f-4ee5-ee91-5ccbd4cc126c"
      },
      "execution_count": 1,
      "outputs": [
        {
          "output_type": "stream",
          "name": "stdout",
          "text": [
            "Looking in indexes: https://pypi.org/simple, https://us-python.pkg.dev/colab-wheels/public/simple/\n",
            "Collecting transformers\n",
            "  Downloading transformers-4.30.1-py3-none-any.whl (7.2 MB)\n",
            "\u001b[2K     \u001b[90m━━━━━━━━━━━━━━━━━━━━━━━━━━━━━━━━━━━━━━━━\u001b[0m \u001b[32m7.2/7.2 MB\u001b[0m \u001b[31m69.7 MB/s\u001b[0m eta \u001b[36m0:00:00\u001b[0m\n",
            "\u001b[?25hRequirement already satisfied: filelock in /usr/local/lib/python3.10/dist-packages (from transformers) (3.12.0)\n",
            "Collecting huggingface-hub<1.0,>=0.14.1 (from transformers)\n",
            "  Downloading huggingface_hub-0.15.1-py3-none-any.whl (236 kB)\n",
            "\u001b[2K     \u001b[90m━━━━━━━━━━━━━━━━━━━━━━━━━━━━━━━━━━━━━━\u001b[0m \u001b[32m236.8/236.8 kB\u001b[0m \u001b[31m27.8 MB/s\u001b[0m eta \u001b[36m0:00:00\u001b[0m\n",
            "\u001b[?25hRequirement already satisfied: numpy>=1.17 in /usr/local/lib/python3.10/dist-packages (from transformers) (1.22.4)\n",
            "Requirement already satisfied: packaging>=20.0 in /usr/local/lib/python3.10/dist-packages (from transformers) (23.1)\n",
            "Requirement already satisfied: pyyaml>=5.1 in /usr/local/lib/python3.10/dist-packages (from transformers) (6.0)\n",
            "Requirement already satisfied: regex!=2019.12.17 in /usr/local/lib/python3.10/dist-packages (from transformers) (2022.10.31)\n",
            "Requirement already satisfied: requests in /usr/local/lib/python3.10/dist-packages (from transformers) (2.27.1)\n",
            "Collecting tokenizers!=0.11.3,<0.14,>=0.11.1 (from transformers)\n",
            "  Downloading tokenizers-0.13.3-cp310-cp310-manylinux_2_17_x86_64.manylinux2014_x86_64.whl (7.8 MB)\n",
            "\u001b[2K     \u001b[90m━━━━━━━━━━━━━━━━━━━━━━━━━━━━━━━━━━━━━━━━\u001b[0m \u001b[32m7.8/7.8 MB\u001b[0m \u001b[31m90.5 MB/s\u001b[0m eta \u001b[36m0:00:00\u001b[0m\n",
            "\u001b[?25hCollecting safetensors>=0.3.1 (from transformers)\n",
            "  Downloading safetensors-0.3.1-cp310-cp310-manylinux_2_17_x86_64.manylinux2014_x86_64.whl (1.3 MB)\n",
            "\u001b[2K     \u001b[90m━━━━━━━━━━━━━━━━━━━━━━━━━━━━━━━━━━━━━━━━\u001b[0m \u001b[32m1.3/1.3 MB\u001b[0m \u001b[31m84.2 MB/s\u001b[0m eta \u001b[36m0:00:00\u001b[0m\n",
            "\u001b[?25hRequirement already satisfied: tqdm>=4.27 in /usr/local/lib/python3.10/dist-packages (from transformers) (4.65.0)\n",
            "Requirement already satisfied: fsspec in /usr/local/lib/python3.10/dist-packages (from huggingface-hub<1.0,>=0.14.1->transformers) (2023.4.0)\n",
            "Requirement already satisfied: typing-extensions>=3.7.4.3 in /usr/local/lib/python3.10/dist-packages (from huggingface-hub<1.0,>=0.14.1->transformers) (4.5.0)\n",
            "Requirement already satisfied: urllib3<1.27,>=1.21.1 in /usr/local/lib/python3.10/dist-packages (from requests->transformers) (1.26.15)\n",
            "Requirement already satisfied: certifi>=2017.4.17 in /usr/local/lib/python3.10/dist-packages (from requests->transformers) (2022.12.7)\n",
            "Requirement already satisfied: charset-normalizer~=2.0.0 in /usr/local/lib/python3.10/dist-packages (from requests->transformers) (2.0.12)\n",
            "Requirement already satisfied: idna<4,>=2.5 in /usr/local/lib/python3.10/dist-packages (from requests->transformers) (3.4)\n",
            "Installing collected packages: tokenizers, safetensors, huggingface-hub, transformers\n",
            "Successfully installed huggingface-hub-0.15.1 safetensors-0.3.1 tokenizers-0.13.3 transformers-4.30.1\n",
            "Looking in indexes: https://pypi.org/simple, https://us-python.pkg.dev/colab-wheels/public/simple/\n",
            "Requirement already satisfied: imbalanced-learn in /usr/local/lib/python3.10/dist-packages (0.10.1)\n",
            "Requirement already satisfied: numpy>=1.17.3 in /usr/local/lib/python3.10/dist-packages (from imbalanced-learn) (1.22.4)\n",
            "Requirement already satisfied: scipy>=1.3.2 in /usr/local/lib/python3.10/dist-packages (from imbalanced-learn) (1.10.1)\n",
            "Requirement already satisfied: scikit-learn>=1.0.2 in /usr/local/lib/python3.10/dist-packages (from imbalanced-learn) (1.2.2)\n",
            "Requirement already satisfied: joblib>=1.1.1 in /usr/local/lib/python3.10/dist-packages (from imbalanced-learn) (1.2.0)\n",
            "Requirement already satisfied: threadpoolctl>=2.0.0 in /usr/local/lib/python3.10/dist-packages (from imbalanced-learn) (3.1.0)\n"
          ]
        }
      ]
    },
    {
      "cell_type": "markdown",
      "source": [
        "## 下載和解壓檔案"
      ],
      "metadata": {
        "id": "CIp1guiRn8xy"
      }
    },
    {
      "cell_type": "code",
      "source": [
        "import requests\n",
        "import zipfile\n",
        "\n",
        "url = 'https://github.com/Tonyrj3268/DS4CS-FinalProject/raw/main/archive.zip'\n",
        "response = requests.get(url)\n",
        "with open('archive.zip', 'wb') as file:\n",
        "    file.write(response.content)\n",
        "with zipfile.ZipFile('archive.zip', 'r') as zip_ref:\n",
        "    zip_ref.extractall('/content/')"
      ],
      "metadata": {
        "id": "FF_Fi6vCjpd0"
      },
      "execution_count": 2,
      "outputs": []
    },
    {
      "cell_type": "markdown",
      "source": [
        "## 加載模組"
      ],
      "metadata": {
        "id": "il0Zip-7oYC_"
      }
    },
    {
      "cell_type": "code",
      "source": [
        "import pandas as pd\n",
        "import matplotlib.pyplot as plt\n",
        "import json\n",
        "import numpy as np\n",
        "import string\n",
        "from urllib.parse import urlparse\n",
        "import re\n",
        "from transformers import BertModel, BertTokenizer\n",
        "import torch\n",
        "from imblearn.under_sampling import RandomUnderSampler\n",
        "import torch.nn as nn\n",
        "import torch.optim as optim\n",
        "import torch.nn.functional as F\n",
        "from torch.utils.data import TensorDataset, DataLoader\n",
        "from sklearn.model_selection import train_test_split\n",
        "from sklearn.tree import DecisionTreeClassifier\n",
        "from sklearn.ensemble import RandomForestClassifier\n",
        "from xgboost import XGBClassifier"
      ],
      "metadata": {
        "id": "0E9CBIZaaZz4"
      },
      "execution_count": 3,
      "outputs": []
    },
    {
      "cell_type": "markdown",
      "source": [
        "## gpu check"
      ],
      "metadata": {
        "id": "7t6cjb9podig"
      }
    },
    {
      "cell_type": "code",
      "source": [
        "if torch.cuda.is_available():\n",
        "    device = torch.device('cuda')\n",
        "else:\n",
        "    device = torch.device('cpu')\n",
        "print(device)"
      ],
      "metadata": {
        "colab": {
          "base_uri": "https://localhost:8080/"
        },
        "id": "LMkCA5yGxSJu",
        "outputId": "a69f6eb5-097d-4665-bd0e-f92df0b43355"
      },
      "execution_count": 4,
      "outputs": [
        {
          "output_type": "stream",
          "name": "stdout",
          "text": [
            "cuda\n"
          ]
        }
      ]
    },
    {
      "cell_type": "markdown",
      "source": [
        "## 分析資料集"
      ],
      "metadata": {
        "id": "aaqHtUIuotAQ"
      }
    },
    {
      "cell_type": "code",
      "source": [
        "df = pd.read_csv('/content/malicious_phish.csv')\n",
        "df.head()"
      ],
      "metadata": {
        "id": "Wgfc2NUvZT-B",
        "outputId": "d0aa0842-1bd6-4393-ae3a-7e723cb6a258",
        "colab": {
          "base_uri": "https://localhost:8080/",
          "height": 206
        }
      },
      "execution_count": 5,
      "outputs": [
        {
          "output_type": "execute_result",
          "data": {
            "text/plain": [
              "                                                 url        type\n",
              "0                                   br-icloud.com.br    phishing\n",
              "1                mp3raid.com/music/krizz_kaliko.html      benign\n",
              "2                    bopsecrets.org/rexroth/cr/1.htm      benign\n",
              "3  http://www.garage-pirenne.be/index.php?option=...  defacement\n",
              "4  http://adventure-nicaragua.net/index.php?optio...  defacement"
            ],
            "text/html": [
              "\n",
              "  <div id=\"df-f9291fd6-5e28-45d2-b56d-71e4a89bea42\">\n",
              "    <div class=\"colab-df-container\">\n",
              "      <div>\n",
              "<style scoped>\n",
              "    .dataframe tbody tr th:only-of-type {\n",
              "        vertical-align: middle;\n",
              "    }\n",
              "\n",
              "    .dataframe tbody tr th {\n",
              "        vertical-align: top;\n",
              "    }\n",
              "\n",
              "    .dataframe thead th {\n",
              "        text-align: right;\n",
              "    }\n",
              "</style>\n",
              "<table border=\"1\" class=\"dataframe\">\n",
              "  <thead>\n",
              "    <tr style=\"text-align: right;\">\n",
              "      <th></th>\n",
              "      <th>url</th>\n",
              "      <th>type</th>\n",
              "    </tr>\n",
              "  </thead>\n",
              "  <tbody>\n",
              "    <tr>\n",
              "      <th>0</th>\n",
              "      <td>br-icloud.com.br</td>\n",
              "      <td>phishing</td>\n",
              "    </tr>\n",
              "    <tr>\n",
              "      <th>1</th>\n",
              "      <td>mp3raid.com/music/krizz_kaliko.html</td>\n",
              "      <td>benign</td>\n",
              "    </tr>\n",
              "    <tr>\n",
              "      <th>2</th>\n",
              "      <td>bopsecrets.org/rexroth/cr/1.htm</td>\n",
              "      <td>benign</td>\n",
              "    </tr>\n",
              "    <tr>\n",
              "      <th>3</th>\n",
              "      <td>http://www.garage-pirenne.be/index.php?option=...</td>\n",
              "      <td>defacement</td>\n",
              "    </tr>\n",
              "    <tr>\n",
              "      <th>4</th>\n",
              "      <td>http://adventure-nicaragua.net/index.php?optio...</td>\n",
              "      <td>defacement</td>\n",
              "    </tr>\n",
              "  </tbody>\n",
              "</table>\n",
              "</div>\n",
              "      <button class=\"colab-df-convert\" onclick=\"convertToInteractive('df-f9291fd6-5e28-45d2-b56d-71e4a89bea42')\"\n",
              "              title=\"Convert this dataframe to an interactive table.\"\n",
              "              style=\"display:none;\">\n",
              "        \n",
              "  <svg xmlns=\"http://www.w3.org/2000/svg\" height=\"24px\"viewBox=\"0 0 24 24\"\n",
              "       width=\"24px\">\n",
              "    <path d=\"M0 0h24v24H0V0z\" fill=\"none\"/>\n",
              "    <path d=\"M18.56 5.44l.94 2.06.94-2.06 2.06-.94-2.06-.94-.94-2.06-.94 2.06-2.06.94zm-11 1L8.5 8.5l.94-2.06 2.06-.94-2.06-.94L8.5 2.5l-.94 2.06-2.06.94zm10 10l.94 2.06.94-2.06 2.06-.94-2.06-.94-.94-2.06-.94 2.06-2.06.94z\"/><path d=\"M17.41 7.96l-1.37-1.37c-.4-.4-.92-.59-1.43-.59-.52 0-1.04.2-1.43.59L10.3 9.45l-7.72 7.72c-.78.78-.78 2.05 0 2.83L4 21.41c.39.39.9.59 1.41.59.51 0 1.02-.2 1.41-.59l7.78-7.78 2.81-2.81c.8-.78.8-2.07 0-2.86zM5.41 20L4 18.59l7.72-7.72 1.47 1.35L5.41 20z\"/>\n",
              "  </svg>\n",
              "      </button>\n",
              "      \n",
              "  <style>\n",
              "    .colab-df-container {\n",
              "      display:flex;\n",
              "      flex-wrap:wrap;\n",
              "      gap: 12px;\n",
              "    }\n",
              "\n",
              "    .colab-df-convert {\n",
              "      background-color: #E8F0FE;\n",
              "      border: none;\n",
              "      border-radius: 50%;\n",
              "      cursor: pointer;\n",
              "      display: none;\n",
              "      fill: #1967D2;\n",
              "      height: 32px;\n",
              "      padding: 0 0 0 0;\n",
              "      width: 32px;\n",
              "    }\n",
              "\n",
              "    .colab-df-convert:hover {\n",
              "      background-color: #E2EBFA;\n",
              "      box-shadow: 0px 1px 2px rgba(60, 64, 67, 0.3), 0px 1px 3px 1px rgba(60, 64, 67, 0.15);\n",
              "      fill: #174EA6;\n",
              "    }\n",
              "\n",
              "    [theme=dark] .colab-df-convert {\n",
              "      background-color: #3B4455;\n",
              "      fill: #D2E3FC;\n",
              "    }\n",
              "\n",
              "    [theme=dark] .colab-df-convert:hover {\n",
              "      background-color: #434B5C;\n",
              "      box-shadow: 0px 1px 3px 1px rgba(0, 0, 0, 0.15);\n",
              "      filter: drop-shadow(0px 1px 2px rgba(0, 0, 0, 0.3));\n",
              "      fill: #FFFFFF;\n",
              "    }\n",
              "  </style>\n",
              "\n",
              "      <script>\n",
              "        const buttonEl =\n",
              "          document.querySelector('#df-f9291fd6-5e28-45d2-b56d-71e4a89bea42 button.colab-df-convert');\n",
              "        buttonEl.style.display =\n",
              "          google.colab.kernel.accessAllowed ? 'block' : 'none';\n",
              "\n",
              "        async function convertToInteractive(key) {\n",
              "          const element = document.querySelector('#df-f9291fd6-5e28-45d2-b56d-71e4a89bea42');\n",
              "          const dataTable =\n",
              "            await google.colab.kernel.invokeFunction('convertToInteractive',\n",
              "                                                     [key], {});\n",
              "          if (!dataTable) return;\n",
              "\n",
              "          const docLinkHtml = 'Like what you see? Visit the ' +\n",
              "            '<a target=\"_blank\" href=https://colab.research.google.com/notebooks/data_table.ipynb>data table notebook</a>'\n",
              "            + ' to learn more about interactive tables.';\n",
              "          element.innerHTML = '';\n",
              "          dataTable['output_type'] = 'display_data';\n",
              "          await google.colab.output.renderOutput(dataTable, element);\n",
              "          const docLink = document.createElement('div');\n",
              "          docLink.innerHTML = docLinkHtml;\n",
              "          element.appendChild(docLink);\n",
              "        }\n",
              "      </script>\n",
              "    </div>\n",
              "  </div>\n",
              "  "
            ]
          },
          "metadata": {},
          "execution_count": 5
        }
      ]
    },
    {
      "cell_type": "markdown",
      "source": [
        "由於資料集的label分配不均，且資料太過龐大(65萬筆)，使用欠採樣平衡數據集並且縮小訓練資料量，原本呈現之結果為欠採樣後之訓練數量。\n"
      ],
      "metadata": {
        "id": "u-T5-YLao4Q0"
      }
    },
    {
      "cell_type": "code",
      "source": [
        "category_counts = df['type'].value_counts()\n",
        "colors = ['red', 'green', 'blue', 'yellow']\n",
        "plt.bar(category_counts.index, category_counts.values, color=colors)\n",
        "plt.xlabel(\"Type\")\n",
        "plt.ylabel(\"Count\")\n",
        "plt.title(\"Distribution of Types\")\n",
        "plt.xticks(rotation='vertical')\n",
        "plt.show()"
      ],
      "metadata": {
        "colab": {
          "base_uri": "https://localhost:8080/",
          "height": 541
        },
        "id": "vRjaEcrOaiv-",
        "outputId": "13b36180-9411-4172-a579-aa6d3349c775"
      },
      "execution_count": 6,
      "outputs": [
        {
          "output_type": "display_data",
          "data": {
            "text/plain": [
              "<Figure size 640x480 with 1 Axes>"
            ],
            "image/png": "[encoded data removed]"
          },
          "metadata": {}
        }
      ]
    },
    {
      "cell_type": "code",
      "source": [
        "X = df[['url']]\n",
        "y = df['type'] \n",
        "\n",
        "under_sampler = RandomUnderSampler(random_state=42)\n",
        "X_resampled, y_resampled = under_sampler.fit_resample(X, y)\n",
        "\n",
        "print(\"處理後的樣本數:\", len(X_resampled))\n",
        "print(\"處理後的樣本分佈:\")\n",
        "print(y_resampled.value_counts())\n",
        "\n",
        "re_df = pd.concat([X_resampled, y_resampled], axis=1)\n",
        "re_df = re_df.sample(n=10000, random_state=42)"
      ],
      "metadata": {
        "colab": {
          "base_uri": "https://localhost:8080/"
        },
        "id": "dAjkp1RmxCfH",
        "outputId": "a6ac5969-f235-4851-f589-35cd27d45305"
      },
      "execution_count": 11,
      "outputs": [
        {
          "output_type": "stream",
          "name": "stdout",
          "text": [
            "處理後的樣本數: 130080\n",
            "處理後的樣本分佈:\n",
            "benign        32520\n",
            "defacement    32520\n",
            "malware       32520\n",
            "phishing      32520\n",
            "Name: type, dtype: int64\n"
          ]
        }
      ]
    },
    {
      "cell_type": "markdown",
      "source": [
        "# 預處理"
      ],
      "metadata": {
        "id": "ljQyOnD6rtza"
      }
    },
    {
      "cell_type": "markdown",
      "source": [
        "## 特殊字符\n",
        "計算特殊字符之數量，若完全沒該字符出現，則捨棄此字符欄位。"
      ],
      "metadata": {
        "id": "MV5wXu2Vr0Jk"
      }
    },
    {
      "cell_type": "code",
      "source": [
        "special_chars = ['!', '@', '#', '$', '%', '^', '&', '*', '(', ')', '_', '-', '+', '=',\\\n",
        "         '{', '}', '[', ']', '|', '\\\\', ':', ';', '<', '>', ',', '.', '?', '/', '`', '~']  # 定义特殊字符列表\n",
        "\n",
        "for a in special_chars:\n",
        "    re_df[a] = re_df['url'].apply(lambda i: i.count(a))\n",
        "absent_chars = [char for char in special_chars if re_df[char].sum() == 0]\n",
        "re_df.drop(columns=absent_chars, inplace=True)"
      ],
      "metadata": {
        "id": "m07i2eg6bQu6"
      },
      "execution_count": 12,
      "outputs": []
    },
    {
      "cell_type": "markdown",
      "source": [
        "## https 檢查 & url長度計算\n",
        "檢查是否帶有https字串，如有則計為1。  \n",
        "計算url之總長度"
      ],
      "metadata": {
        "id": "Dsp0AYDnsxt9"
      }
    },
    {
      "cell_type": "code",
      "source": [
        "def httpSecure(url):\n",
        "    http = urlparse(url).scheme\n",
        "    match = str(http)\n",
        "    if match=='https':\n",
        "        return 1\n",
        "    else:\n",
        "        return 0\n",
        "re_df['https'] = re_df['url'].apply(lambda i: httpSecure(i))\n",
        "re_df['url_len'] = re_df['url'].apply(lambda i: len(str(i)))"
      ],
      "metadata": {
        "id": "04JHQQ-_el1_"
      },
      "execution_count": 13,
      "outputs": []
    },
    {
      "cell_type": "code",
      "source": [
        "re_df.info()"
      ],
      "metadata": {
        "id": "PQir77QvAHc6",
        "outputId": "18ba90ab-9bcf-458c-93f8-af636c0bcb63",
        "colab": {
          "base_uri": "https://localhost:8080/"
        }
      },
      "execution_count": 14,
      "outputs": [
        {
          "output_type": "stream",
          "name": "stdout",
          "text": [
            "<class 'pandas.core.frame.DataFrame'>\n",
            "Int64Index: 10000 entries, 115240 to 117856\n",
            "Data columns (total 32 columns):\n",
            " #   Column   Non-Null Count  Dtype \n",
            "---  ------   --------------  ----- \n",
            " 0   url      10000 non-null  object\n",
            " 1   type     10000 non-null  object\n",
            " 2   !        10000 non-null  int64 \n",
            " 3   @        10000 non-null  int64 \n",
            " 4   #        10000 non-null  int64 \n",
            " 5   $        10000 non-null  int64 \n",
            " 6   %        10000 non-null  int64 \n",
            " 7   ^        10000 non-null  int64 \n",
            " 8   &        10000 non-null  int64 \n",
            " 9   *        10000 non-null  int64 \n",
            " 10  (        10000 non-null  int64 \n",
            " 11  )        10000 non-null  int64 \n",
            " 12  _        10000 non-null  int64 \n",
            " 13  -        10000 non-null  int64 \n",
            " 14  +        10000 non-null  int64 \n",
            " 15  =        10000 non-null  int64 \n",
            " 16  {        10000 non-null  int64 \n",
            " 17  }        10000 non-null  int64 \n",
            " 18  [        10000 non-null  int64 \n",
            " 19  ]        10000 non-null  int64 \n",
            " 20  |        10000 non-null  int64 \n",
            " 21  \\        10000 non-null  int64 \n",
            " 22  :        10000 non-null  int64 \n",
            " 23  ;        10000 non-null  int64 \n",
            " 24  >        10000 non-null  int64 \n",
            " 25  ,        10000 non-null  int64 \n",
            " 26  .        10000 non-null  int64 \n",
            " 27  ?        10000 non-null  int64 \n",
            " 28  /        10000 non-null  int64 \n",
            " 29  ~        10000 non-null  int64 \n",
            " 30  https    10000 non-null  int64 \n",
            " 31  url_len  10000 non-null  int64 \n",
            "dtypes: int64(30), object(2)\n",
            "memory usage: 2.5+ MB\n"
          ]
        }
      ]
    },
    {
      "cell_type": "markdown",
      "source": [
        "## 加載bert模型"
      ],
      "metadata": {
        "id": "TjcxPcB5tT3N"
      }
    },
    {
      "cell_type": "code",
      "source": [
        "tokenizer = BertTokenizer.from_pretrained('bert-base-uncased')#bert-base-uncased\n",
        "model = BertModel.from_pretrained('bert-base-uncased').to(device)"
      ],
      "metadata": {
        "colab": {
          "base_uri": "https://localhost:8080/",
          "height": 217,
          "referenced_widgets": [
            "ede68c0aa8f74253a91d23460960500f",
            "7d892bf52df147adaae20115016306ea",
            "47f71beff71d4175bb7ae025155c143c",
            "8135971312cc49d5a3723dc56357c00b",
            "08e516549b8b4fc7b8f8000cfb3a8587",
            "7930245f88e843f6b17751817124bda5",
            "805ebf4983024150a7e87847d01e5610",
            "63c5d0bd89ac4b088816f4513503ea7e",
            "f0055a93b3754da0bc0d9b3a2c7dbaee",
            "268b73e86bd648238dd89164ff70b1f7",
            "01469407ffd84fe0b08a6b9552d3dace",
            "140787392e774538972fc93ddc20ebcf",
            "e8e32ff53c9347f2b18e5ff20cfc1282",
            "8314023208d846b997aa39532a4331b6",
            "c11b22b161ea4cb2bd5f9e1986ae7ef0",
            "833f10dde8d445078cd98e0c6d9a2e5e",
            "c40b3d71e80540c4ba798eabc4263f4e",
            "becf6249a4c74ed4a4cef274e2a10c74",
            "c12f001a6a7d4321b885f45861bf747d",
            "daf6d9dda9d04067ac6e20cf64dce1f2",
            "2bc24589ad86412ca70402dcdb6e0521",
            "206c36f40c0a47da87a6b4ae06102839",
            "4dbef77251df46b5897205c2c213f45b",
            "53b9a43f0bf74e9881eb8bc3e6031d05",
            "ce54ed1a8795487ca7d7ab250beefd25",
            "5086904deafc4aed9e193588026fb84a",
            "54c644b853394f988abe0afce41a9150",
            "9cf98dc7d4a0486fa41985f6c5870a4b",
            "c09fa972c9664fc48a399257eefe99d3",
            "fa0c580948af4cf99e1922ae81f491ff",
            "e9cc5c9f28f6470e8e8c1fdceff9f370",
            "731a790202f34ddc90ea2e1c90dc9710",
            "529c0bcf816849b98fadefeeb6f7463a",
            "f8836de1a2854bf2b84b7889d1ab872c",
            "668ea2959ac948a98f967a9fb0f60aba",
            "bc1e65741145475f89ebbf31fbbf8f7f",
            "15b9d3d2233a4314a4f5bc911248dc8d",
            "ee1bbfe4700f40379f820b2bbc5bc1a5",
            "43c9f530354d4f0f85772df233856471",
            "f30c427f86e84957ab071c779f07f3f7",
            "218951441d38465493021f49bf5df854",
            "44c2af3f45a245d781701cf55b8dcf73",
            "3688699354b244d38b644c11cb4f9c38",
            "ad2b889165864345bb6f385d312002c7"
          ]
        },
        "id": "mDzleYwdo7P9",
        "outputId": "3a7af554-f20a-44e8-ed8a-fc99a99488a4"
      },
      "execution_count": 15,
      "outputs": [
        {
          "output_type": "display_data",
          "data": {
            "text/plain": [
              "Downloading (…)solve/main/vocab.txt:   0%|          | 0.00/232k [00:00<?, ?B/s]"
            ],
            "application/vnd.jupyter.widget-view+json": {
              "version_major": 2,
              "version_minor": 0,
              "model_id": "ede68c0aa8f74253a91d23460960500f"
            }
          },
          "metadata": {}
        },
        {
          "output_type": "display_data",
          "data": {
            "text/plain": [
              "Downloading (…)okenizer_config.json:   0%|          | 0.00/28.0 [00:00<?, ?B/s]"
            ],
            "application/vnd.jupyter.widget-view+json": {
              "version_major": 2,
              "version_minor": 0,
              "model_id": "140787392e774538972fc93ddc20ebcf"
            }
          },
          "metadata": {}
        },
        {
          "output_type": "display_data",
          "data": {
            "text/plain": [
              "Downloading (…)lve/main/config.json:   0%|          | 0.00/570 [00:00<?, ?B/s]"
            ],
            "application/vnd.jupyter.widget-view+json": {
              "version_major": 2,
              "version_minor": 0,
              "model_id": "4dbef77251df46b5897205c2c213f45b"
            }
          },
          "metadata": {}
        },
        {
          "output_type": "display_data",
          "data": {
            "text/plain": [
              "Downloading model.safetensors:   0%|          | 0.00/440M [00:00<?, ?B/s]"
            ],
            "application/vnd.jupyter.widget-view+json": {
              "version_major": 2,
              "version_minor": 0,
              "model_id": "f8836de1a2854bf2b84b7889d1ab872c"
            }
          },
          "metadata": {}
        },
        {
          "output_type": "stream",
          "name": "stderr",
          "text": [
            "Some weights of the model checkpoint at bert-base-uncased were not used when initializing BertModel: ['cls.predictions.bias', 'cls.predictions.transform.LayerNorm.bias', 'cls.predictions.transform.dense.weight', 'cls.predictions.transform.dense.bias', 'cls.seq_relationship.bias', 'cls.seq_relationship.weight', 'cls.predictions.transform.LayerNorm.weight']\n",
            "- This IS expected if you are initializing BertModel from the checkpoint of a model trained on another task or with another architecture (e.g. initializing a BertForSequenceClassification model from a BertForPreTraining model).\n",
            "- This IS NOT expected if you are initializing BertModel from the checkpoint of a model that you expect to be exactly identical (initializing a BertForSequenceClassification model from a BertForSequenceClassification model).\n"
          ]
        }
      ]
    },
    {
      "cell_type": "markdown",
      "source": [
        "## 切割url\n",
        "1.  將url的特殊字符去除，獲得剩餘單字詞的集合，例如:www.example.com => [www, example, com]。\n",
        "2.  使用已訓練好的tokenizer獲得單詞之token ID，將token集合放入bert 模型生成1維768長度的值\n",
        "3.  display mode預估訓練時間3分半"
      ],
      "metadata": {
        "id": "1yb85IiGRrbj"
      }
    },
    {
      "cell_type": "code",
      "source": [
        "def urlSplitBatch(urls):\n",
        "    url_parts = [re.sub(r'\\s+', ' ', re.sub(r'[^\\w\\s]', ' ', url)).split(' ') for url in urls]\n",
        "    tokens = [tokenizer.batch_encode_plus(parts, padding=True, truncation=True, return_tensors='pt') for parts in url_parts]\n",
        "    input_ids = [token[\"input_ids\"] for token in tokens]\n",
        "    url_vectors = []\n",
        "    for ids in input_ids:\n",
        "      with torch.no_grad():\n",
        "          ids = ids.to(device)\n",
        "          last_hidden_states = model(ids)[0]\n",
        "      url_vectors.append(last_hidden_states.mean(dim=[0, 1]).unsqueeze(0))\n",
        "\n",
        "    url_vectors = torch.cat(url_vectors, dim=0).to(device)\n",
        "    return url_vectors\n",
        "\n",
        "\n",
        "# 在主要迴圈中使用批次處理\n",
        "BATCH_SIZE = 1000 # 你可以根據你的硬體配置和需求來調整批次的大小\n",
        "word_vector = []\n",
        "rows_to_drop = []\n",
        "total = len(re_df['url'])\n",
        "checkpoint = total // 100\n",
        "for start in range(0, total, BATCH_SIZE):\n",
        "  end = min(start + BATCH_SIZE, total)\n",
        "  batch_indices = re_df.index[start:end]\n",
        "  batch = re_df['url'].loc[batch_indices]\n",
        "  try:\n",
        "    split_urls = urlSplitBatch(batch)  # 對整個批次進行split操作\n",
        "  except:\n",
        "    print(f\"第{start}批資料集發生錯誤，跳過並移除\")\n",
        "    rows_to_drop.extend(batch_indices)  # 若split操作失敗，將整個批次的索引加入要刪除的列表\n",
        "    continue\n",
        "\n",
        "  list_from_tensor = split_urls.tolist()\n",
        "  word_vector.extend(list_from_tensor)\n",
        "\n",
        "  if end % checkpoint == 0:\n",
        "      print(\"已完成：{:.0f}%\".format(end / total * 100))"
      ],
      "metadata": {
        "id": "pmPZI8jL_pKm",
        "outputId": "9716dbe0-faff-486a-82a6-72d4a9b57aa5",
        "colab": {
          "base_uri": "https://localhost:8080/"
        }
      },
      "execution_count": 16,
      "outputs": [
        {
          "output_type": "stream",
          "name": "stdout",
          "text": [
            "已完成：10%\n",
            "已完成：20%\n",
            "已完成：30%\n",
            "已完成：40%\n",
            "已完成：50%\n",
            "已完成：60%\n",
            "已完成：70%\n",
            "已完成：80%\n",
            "已完成：90%\n",
            "已完成：100%\n"
          ]
        }
      ]
    },
    {
      "cell_type": "code",
      "source": [
        "class AutoEncoder(nn.Module):\n",
        "    def __init__(self, input_dim, encoding_dim):\n",
        "        super(AutoEncoder, self).__init__()\n",
        "        mid_dim = (input_dim + encoding_dim) // 2  # add an intermediate layer with average dimension\n",
        "        \n",
        "        # Encoder layers\n",
        "        self.encoder = nn.Sequential(\n",
        "            nn.Linear(input_dim, mid_dim),\n",
        "            nn.ReLU(),\n",
        "            nn.Linear(mid_dim, encoding_dim),\n",
        "            nn.ReLU()\n",
        "        )\n",
        "        \n",
        "        # Decoder layers\n",
        "        self.decoder = nn.Sequential(\n",
        "            nn.Linear(encoding_dim, mid_dim),\n",
        "            nn.ReLU(),\n",
        "            nn.Linear(mid_dim, input_dim),\n",
        "        )\n",
        "\n",
        "    def forward(self, x):\n",
        "        x = torch.relu(self.encoder(x))\n",
        "        x = self.decoder(x)\n",
        "        return x\n"
      ],
      "metadata": {
        "id": "OKSB11P40-9y"
      },
      "execution_count": 17,
      "outputs": []
    },
    {
      "cell_type": "code",
      "source": [
        "input_dim = len(word_vector[0])  # number of features\n",
        "encoding_dim = 200  # desired dimension after encoding\n",
        "\n",
        "model = AutoEncoder(input_dim, encoding_dim).to(device)\n",
        "criterion = nn.MSELoss()\n",
        "optimizer = torch.optim.Adam(model.parameters())\n",
        "EPOCHES = 20\n",
        "\n",
        "features = torch.from_numpy(np.array(word_vector)).float().to(device)\n",
        "dataset = TensorDataset(features)\n",
        "data_loader = DataLoader(dataset, batch_size=128, shuffle=True)\n",
        "\n",
        "for epoch in range(EPOCHES):\n",
        "    for feature in data_loader:\n",
        "        # forward\n",
        "        outputs = model(feature[0])\n",
        "        loss = criterion(outputs, feature[0])\n",
        "        \n",
        "        # backward and optimize\n",
        "        optimizer.zero_grad()\n",
        "        loss.backward()\n",
        "        optimizer.step()\n",
        "        \n",
        "    print(f'Epoch [{epoch+1}/{EPOCHES}], Loss: {loss.item():.4f}')\n",
        "with torch.no_grad():\n",
        "    encoded_data = model.encoder(features)"
      ],
      "metadata": {
        "id": "daVnhdnL1FBc",
        "colab": {
          "base_uri": "https://localhost:8080/"
        },
        "outputId": "bacc1746-9f4f-4227-9870-1aa8c20c99b6"
      },
      "execution_count": 19,
      "outputs": [
        {
          "output_type": "stream",
          "name": "stdout",
          "text": [
            "Epoch [1/20], Loss: 0.0029\n",
            "Epoch [2/20], Loss: 0.0029\n",
            "Epoch [3/20], Loss: 0.0013\n",
            "Epoch [4/20], Loss: 0.0016\n",
            "Epoch [5/20], Loss: 0.0020\n",
            "Epoch [6/20], Loss: 0.0016\n",
            "Epoch [7/20], Loss: 0.0020\n",
            "Epoch [8/20], Loss: 0.0019\n",
            "Epoch [9/20], Loss: 0.0011\n",
            "Epoch [10/20], Loss: 0.0015\n",
            "Epoch [11/20], Loss: 0.0011\n",
            "Epoch [12/20], Loss: 0.0015\n",
            "Epoch [13/20], Loss: 0.0018\n",
            "Epoch [14/20], Loss: 0.0008\n",
            "Epoch [15/20], Loss: 0.0014\n",
            "Epoch [16/20], Loss: 0.0014\n",
            "Epoch [17/20], Loss: 0.0009\n",
            "Epoch [18/20], Loss: 0.0012\n",
            "Epoch [19/20], Loss: 0.0014\n",
            "Epoch [20/20], Loss: 0.0011\n"
          ]
        }
      ]
    },
    {
      "cell_type": "markdown",
      "source": [
        "## 切分成3種特徵\n",
        "1.  純單字詞矩陣\n",
        "2.  純原url之特徵矩陣\n",
        "3.  上面兩種之結合"
      ],
      "metadata": {
        "id": "3wSRMHRETCic"
      }
    },
    {
      "cell_type": "code",
      "source": [
        "word_vector_array = encoded_data.cpu()\n",
        "feature_array = re_df.drop(['url', 'type'], axis=1).drop(rows_to_drop).to_numpy()\n",
        "merged_array = np.hstack((feature_array, word_vector_array))\n",
        "\n",
        "target = pd.get_dummies(re_df['type'], columns=['type'])"
      ],
      "metadata": {
        "id": "Zch7sbk1ll2C"
      },
      "execution_count": 20,
      "outputs": []
    },
    {
      "cell_type": "code",
      "source": [
        "features_train, features_test, labels_train, labels_test = train_test_split(merged_array, target.values, test_size=0.2, random_state=42)\n",
        "features_train, features_val, labels_train, labels_val = train_test_split(features_train, labels_train, test_size=0.2, random_state=42)\n",
        "\n",
        "# numpy轉換tensors\n",
        "features_train = torch.tensor(features_train, dtype=torch.float32)\n",
        "labels_train = torch.tensor(labels_train, dtype=torch.float32)\n",
        "features_val = torch.tensor(features_val, dtype=torch.float32)\n",
        "labels_val = torch.tensor(labels_val, dtype=torch.float32)\n",
        "features_test = torch.tensor(features_test, dtype=torch.float32)\n",
        "labels_test = torch.tensor(labels_test, dtype=torch.float32)\n",
        "\n",
        "train_dataset = TensorDataset(features_train, labels_train)\n",
        "val_dataset = TensorDataset(features_val, labels_val)\n",
        "test_dataset = TensorDataset(features_test, labels_test)\n",
        "\n",
        "batch_size = 1\n",
        "train_dataloader = DataLoader(train_dataset, batch_size=batch_size, shuffle=True)\n",
        "test_dataloader = DataLoader(test_dataset, batch_size=batch_size, shuffle=False)\n",
        "val_dataloader = DataLoader(val_dataset, batch_size=batch_size, shuffle=False)"
      ],
      "metadata": {
        "id": "vVSKEwlLlGfh"
      },
      "execution_count": 21,
      "outputs": []
    },
    {
      "cell_type": "markdown",
      "source": [
        "## 神經網路\n",
        "使用神經網路對三種資料集進行訓練"
      ],
      "metadata": {
        "id": "ILMuGYqGU6R-"
      }
    },
    {
      "cell_type": "code",
      "source": [
        "class FeatureNet(nn.Module):\n",
        "    def __init__(self, x_len):\n",
        "        super(FeatureNet, self).__init__()\n",
        "        self.fc1 = nn.Linear(x_len, 128)\n",
        "        self.fc2 = nn.Linear(128, 256)\n",
        "        self.fc3 = nn.Linear(256, 4)\n",
        "\n",
        "    def forward(self, x):\n",
        "        x = torch.relu(self.fc1(x))\n",
        "        x = torch.relu(self.fc2(x))\n",
        "        x = torch.log_softmax(self.fc3(x), dim=1)\n",
        "        return x\n",
        "class WordNet(nn.Module):\n",
        "    def __init__(self, x_len):\n",
        "        super(WordNet, self).__init__()\n",
        "        self.fc1 = nn.Linear(x_len, 600)\n",
        "        self.bn1 = nn.BatchNorm1d(600)\n",
        "        self.fc2 = nn.Linear(600, 400)\n",
        "        self.bn2 = nn.BatchNorm1d(400)\n",
        "        self.fc3 = nn.Linear(400, 200)\n",
        "        self.bn3 = nn.BatchNorm1d(200)\n",
        "        self.fc4 = nn.Linear(200, 100)\n",
        "        self.dropout = nn.Dropout(0.5)\n",
        "        self.fc5 = nn.Linear(100, 4)\n",
        "\n",
        "    def forward(self, x):\n",
        "        x = F.relu(self.bn1(self.fc1(x)))\n",
        "        x = self.dropout(x)\n",
        "        x = F.relu(self.bn2(self.fc2(x)))\n",
        "        x = self.dropout(x)\n",
        "        x = F.relu(self.bn3(self.fc3(x)))\n",
        "        x = self.dropout(x)\n",
        "        x = F.relu(self.fc4(x))\n",
        "        x = torch.log_softmax(self.fc5(x), dim=1)  # 使用 LogSoftmax\n",
        "        return x"
      ],
      "metadata": {
        "id": "cN92PAb3UsXl"
      },
      "execution_count": 22,
      "outputs": []
    },
    {
      "cell_type": "code",
      "source": [
        "class EarlyStopping:\n",
        "    def __init__(self, patience=5, verbose=False, delta=0):\n",
        "        self.patience = patience\n",
        "        self.verbose = verbose\n",
        "        self.counter = 0\n",
        "        self.best_score = None\n",
        "        self.early_stop = False\n",
        "        self.val_loss_min = np.Inf\n",
        "        self.delta = delta\n",
        "\n",
        "    def __call__(self, val_loss):\n",
        "        score = -val_loss\n",
        "\n",
        "        if self.best_score is None:\n",
        "            self.best_score = score\n",
        "        elif score < self.best_score + self.delta:\n",
        "            self.counter += 1\n",
        "            print(f'EarlyStopping counter: {self.counter} out of {self.patience}')\n",
        "            if self.counter >= self.patience:\n",
        "                self.early_stop = True\n",
        "        else:\n",
        "            self.best_score = score\n",
        "            self.counter = 0\n"
      ],
      "metadata": {
        "id": "iqGERTUXx0pe"
      },
      "execution_count": 23,
      "outputs": []
    },
    {
      "cell_type": "code",
      "source": [
        "def train_loop(dataloader, model, loss_fn, optimizer):\n",
        "    size = len(dataloader)\n",
        "    train_loss = 0\n",
        "    correct = 0\n",
        "    for batch, (X, y) in enumerate(dataloader):\n",
        "      print(X.shape)\n",
        "      print(y.shape)\n",
        "      X = X.to(device)\n",
        "      y = y.to(device)\n",
        "      # Compute prediction and loss\n",
        "      y_pred = model(X)\n",
        "\n",
        "      loss = loss_fn(y_pred, y.float())\n",
        "      train_loss += loss.item()\n",
        "\n",
        "      optimizer.zero_grad()# 梯度初始化为零\n",
        "      loss.backward()# 反向传播求梯度\n",
        "      optimizer.step()# 更新所有参数\n",
        "\n",
        "      #計算數字機率分布\n",
        "      pred = y_pred.argmax(dim=1, keepdim=True)\n",
        "      correct += pred.eq(y.argmax(dim=1, keepdim=True).view_as(pred)).sum().item() \n",
        "\n",
        "    train_loss /= size\n",
        "    accuracy = 100. * correct / size\n",
        "\n",
        "    return train_loss, accuracy\n",
        "def test_loop(dataloader, model, loss_fn):\n",
        "    size = len(dataloader.dataset)\n",
        "    test_loss, correct = 0, 0\n",
        "\n",
        "    with torch.no_grad():\n",
        "        for X, y in dataloader:\n",
        "            X = X.to(device)\n",
        "            y = y.to(device)\n",
        "            y_pred = model(X)\n",
        "\n",
        "            loss = loss_fn(y_pred, y.float())\n",
        "            test_loss += loss.item()\n",
        "\n",
        "            pred = y_pred.argmax(dim=1, keepdim=True)\n",
        "            correct += pred.eq(y.argmax(dim=1, keepdim=True).view_as(pred)).sum().item()\n",
        "\n",
        "    test_loss /= size\n",
        "    correct = 100. * correct / size\n",
        "\n",
        "    return test_loss, correct\n",
        "def val_loop(dataloader, model, loss_fn):\n",
        "    running_loss = 0.0\n",
        "    model.eval()  # Set the model to evaluation mode\n",
        "    with torch.no_grad():\n",
        "        for i, data in enumerate(dataloader):\n",
        "            inputs, labels = data\n",
        "            inputs = inputs.to(device)\n",
        "            labels = labels.argmax(dim=1).to(device)\n",
        "            outputs = model(inputs)\n",
        "            loss = loss_fn(outputs, labels)\n",
        "\n",
        "            running_loss += loss.item()\n",
        "\n",
        "    avg_val_loss = running_loss / len(dataloader)\n",
        "\n",
        "    return avg_val_loss"
      ],
      "metadata": {
        "id": "FGfgoVAalxPn"
      },
      "execution_count": 39,
      "outputs": []
    },
    {
      "cell_type": "code",
      "source": [
        "def init_weights_kaiming_normal_(m):\n",
        "    if isinstance(m, nn.Linear):\n",
        "        torch.nn.init.kaiming_normal_(m.weight)\n",
        "        m.bias.data.fill_(0.01)"
      ],
      "metadata": {
        "id": "MH9bZmGmQwXU"
      },
      "execution_count": null,
      "outputs": []
    },
    {
      "cell_type": "code",
      "source": [
        "model_wt = WordNet(len(merged_array[0])).to(device)\n",
        "model_wt.apply(init_weights_kaiming_normal_)\n",
        "feature_arrays = merged_array\n",
        "Epoch = 5\n",
        "loss_results = {}\n",
        "accuracy_results = {}\n",
        "\n",
        "early_stopping = EarlyStopping(patience=5, verbose=True)\n",
        "criterion = nn.NLLLoss()\n",
        "optimizer = optim.Adam(model_wt.parameters())\n",
        "\n",
        "losses = []\n",
        "accuracies = []\n",
        "\n",
        "for epoch in range(Epoch):\n",
        "  loss, _ = train_loop(train_dataloader, model_wt, criterion, optimizer)\n",
        "  if epoch % 1 == 0:\n",
        "      print(f'Epoch {epoch + 1}, Training Loss: {loss}')\n",
        "\n",
        "  avg_val_loss = val_loop(val_dataloader, model_wt, criterion)\n",
        "  print(f'Epoch {epoch + 1}, Validation Loss: {avg_val_loss}')\n",
        "  # Check early stopping\n",
        "  early_stopping(avg_val_loss)\n",
        "  if early_stopping.early_stop:\n",
        "      print(\"Early stopping\")\n",
        "      break"
      ],
      "metadata": {
        "id": "kZvziQftcbK5",
        "outputId": "bfc359ca-9dda-4120-a2ff-de37a2030bdf",
        "colab": {
          "base_uri": "https://localhost:8080/",
          "height": 434
        }
      },
      "execution_count": 40,
      "outputs": [
        {
          "output_type": "stream",
          "name": "stdout",
          "text": [
            "torch.Size([1, 230])\n",
            "torch.Size([1, 4])\n",
            "torch.Size([1, 230])\n"
          ]
        },
        {
          "output_type": "error",
          "ename": "ValueError",
          "evalue": "ignored",
          "traceback": [
            "\u001b[0;31m---------------------------------------------------------------------------\u001b[0m",
            "\u001b[0;31mValueError\u001b[0m                                Traceback (most recent call last)",
            "\u001b[0;32m<ipython-input-40-c105bb1a7bd7>\u001b[0m in \u001b[0;36m<cell line: 14>\u001b[0;34m()\u001b[0m\n\u001b[1;32m     13\u001b[0m \u001b[0;34m\u001b[0m\u001b[0m\n\u001b[1;32m     14\u001b[0m \u001b[0;32mfor\u001b[0m \u001b[0mepoch\u001b[0m \u001b[0;32min\u001b[0m \u001b[0mrange\u001b[0m\u001b[0;34m(\u001b[0m\u001b[0mEpoch\u001b[0m\u001b[0;34m)\u001b[0m\u001b[0;34m:\u001b[0m\u001b[0;34m\u001b[0m\u001b[0;34m\u001b[0m\u001b[0m\n\u001b[0;32m---> 15\u001b[0;31m   \u001b[0mloss\u001b[0m\u001b[0;34m,\u001b[0m \u001b[0m_\u001b[0m \u001b[0;34m=\u001b[0m \u001b[0mtrain_loop\u001b[0m\u001b[0;34m(\u001b[0m\u001b[0mtrain_dataloader\u001b[0m\u001b[0;34m,\u001b[0m \u001b[0mmodel_wt\u001b[0m\u001b[0;34m,\u001b[0m \u001b[0mcriterion\u001b[0m\u001b[0;34m,\u001b[0m \u001b[0moptimizer\u001b[0m\u001b[0;34m)\u001b[0m\u001b[0;34m\u001b[0m\u001b[0;34m\u001b[0m\u001b[0m\n\u001b[0m\u001b[1;32m     16\u001b[0m   \u001b[0;32mif\u001b[0m \u001b[0mepoch\u001b[0m \u001b[0;34m%\u001b[0m \u001b[0;36m1\u001b[0m \u001b[0;34m==\u001b[0m \u001b[0;36m0\u001b[0m\u001b[0;34m:\u001b[0m\u001b[0;34m\u001b[0m\u001b[0;34m\u001b[0m\u001b[0m\n\u001b[1;32m     17\u001b[0m       \u001b[0mprint\u001b[0m\u001b[0;34m(\u001b[0m\u001b[0;34mf'Epoch {epoch + 1}, Training Loss: {loss}'\u001b[0m\u001b[0;34m)\u001b[0m\u001b[0;34m\u001b[0m\u001b[0;34m\u001b[0m\u001b[0m\n",
            "\u001b[0;32m<ipython-input-39-53f4a5bf5a5e>\u001b[0m in \u001b[0;36mtrain_loop\u001b[0;34m(dataloader, model, loss_fn, optimizer)\u001b[0m\n\u001b[1;32m     10\u001b[0m       \u001b[0;31m# Compute prediction and loss\u001b[0m\u001b[0;34m\u001b[0m\u001b[0;34m\u001b[0m\u001b[0m\n\u001b[1;32m     11\u001b[0m       \u001b[0mprint\u001b[0m\u001b[0;34m(\u001b[0m\u001b[0mX\u001b[0m\u001b[0;34m.\u001b[0m\u001b[0mshape\u001b[0m\u001b[0;34m)\u001b[0m\u001b[0;34m\u001b[0m\u001b[0;34m\u001b[0m\u001b[0m\n\u001b[0;32m---> 12\u001b[0;31m       \u001b[0my_pred\u001b[0m \u001b[0;34m=\u001b[0m \u001b[0mmodel\u001b[0m\u001b[0;34m(\u001b[0m\u001b[0mX\u001b[0m\u001b[0;34m)\u001b[0m\u001b[0;34m\u001b[0m\u001b[0;34m\u001b[0m\u001b[0m\n\u001b[0m\u001b[1;32m     13\u001b[0m \u001b[0;34m\u001b[0m\u001b[0m\n\u001b[1;32m     14\u001b[0m       \u001b[0mloss\u001b[0m \u001b[0;34m=\u001b[0m \u001b[0mloss_fn\u001b[0m\u001b[0;34m(\u001b[0m\u001b[0my_pred\u001b[0m\u001b[0;34m,\u001b[0m \u001b[0my\u001b[0m\u001b[0;34m.\u001b[0m\u001b[0mfloat\u001b[0m\u001b[0;34m(\u001b[0m\u001b[0;34m)\u001b[0m\u001b[0;34m)\u001b[0m\u001b[0;34m\u001b[0m\u001b[0;34m\u001b[0m\u001b[0m\n",
            "\u001b[0;32m/usr/local/lib/python3.10/dist-packages/torch/nn/modules/module.py\u001b[0m in \u001b[0;36m_call_impl\u001b[0;34m(self, *args, **kwargs)\u001b[0m\n\u001b[1;32m   1499\u001b[0m                 \u001b[0;32mor\u001b[0m \u001b[0m_global_backward_pre_hooks\u001b[0m \u001b[0;32mor\u001b[0m \u001b[0m_global_backward_hooks\u001b[0m\u001b[0;34m\u001b[0m\u001b[0;34m\u001b[0m\u001b[0m\n\u001b[1;32m   1500\u001b[0m                 or _global_forward_hooks or _global_forward_pre_hooks):\n\u001b[0;32m-> 1501\u001b[0;31m             \u001b[0;32mreturn\u001b[0m \u001b[0mforward_call\u001b[0m\u001b[0;34m(\u001b[0m\u001b[0;34m*\u001b[0m\u001b[0margs\u001b[0m\u001b[0;34m,\u001b[0m \u001b[0;34m**\u001b[0m\u001b[0mkwargs\u001b[0m\u001b[0;34m)\u001b[0m\u001b[0;34m\u001b[0m\u001b[0;34m\u001b[0m\u001b[0m\n\u001b[0m\u001b[1;32m   1502\u001b[0m         \u001b[0;31m# Do not call functions when jit is used\u001b[0m\u001b[0;34m\u001b[0m\u001b[0;34m\u001b[0m\u001b[0m\n\u001b[1;32m   1503\u001b[0m         \u001b[0mfull_backward_hooks\u001b[0m\u001b[0;34m,\u001b[0m \u001b[0mnon_full_backward_hooks\u001b[0m \u001b[0;34m=\u001b[0m \u001b[0;34m[\u001b[0m\u001b[0;34m]\u001b[0m\u001b[0;34m,\u001b[0m \u001b[0;34m[\u001b[0m\u001b[0;34m]\u001b[0m\u001b[0;34m\u001b[0m\u001b[0;34m\u001b[0m\u001b[0m\n",
            "\u001b[0;32m<ipython-input-22-7c0c1453096a>\u001b[0m in \u001b[0;36mforward\u001b[0;34m(self, x)\u001b[0m\n\u001b[1;32m     25\u001b[0m \u001b[0;34m\u001b[0m\u001b[0m\n\u001b[1;32m     26\u001b[0m     \u001b[0;32mdef\u001b[0m \u001b[0mforward\u001b[0m\u001b[0;34m(\u001b[0m\u001b[0mself\u001b[0m\u001b[0;34m,\u001b[0m \u001b[0mx\u001b[0m\u001b[0;34m)\u001b[0m\u001b[0;34m:\u001b[0m\u001b[0;34m\u001b[0m\u001b[0;34m\u001b[0m\u001b[0m\n\u001b[0;32m---> 27\u001b[0;31m         \u001b[0mx\u001b[0m \u001b[0;34m=\u001b[0m \u001b[0mF\u001b[0m\u001b[0;34m.\u001b[0m\u001b[0mrelu\u001b[0m\u001b[0;34m(\u001b[0m\u001b[0mself\u001b[0m\u001b[0;34m.\u001b[0m\u001b[0mbn1\u001b[0m\u001b[0;34m(\u001b[0m\u001b[0mself\u001b[0m\u001b[0;34m.\u001b[0m\u001b[0mfc1\u001b[0m\u001b[0;34m(\u001b[0m\u001b[0mx\u001b[0m\u001b[0;34m)\u001b[0m\u001b[0;34m)\u001b[0m\u001b[0;34m)\u001b[0m\u001b[0;34m\u001b[0m\u001b[0;34m\u001b[0m\u001b[0m\n\u001b[0m\u001b[1;32m     28\u001b[0m         \u001b[0mx\u001b[0m \u001b[0;34m=\u001b[0m \u001b[0mself\u001b[0m\u001b[0;34m.\u001b[0m\u001b[0mdropout\u001b[0m\u001b[0;34m(\u001b[0m\u001b[0mx\u001b[0m\u001b[0;34m)\u001b[0m\u001b[0;34m\u001b[0m\u001b[0;34m\u001b[0m\u001b[0m\n\u001b[1;32m     29\u001b[0m         \u001b[0mx\u001b[0m \u001b[0;34m=\u001b[0m \u001b[0mF\u001b[0m\u001b[0;34m.\u001b[0m\u001b[0mrelu\u001b[0m\u001b[0;34m(\u001b[0m\u001b[0mself\u001b[0m\u001b[0;34m.\u001b[0m\u001b[0mbn2\u001b[0m\u001b[0;34m(\u001b[0m\u001b[0mself\u001b[0m\u001b[0;34m.\u001b[0m\u001b[0mfc2\u001b[0m\u001b[0;34m(\u001b[0m\u001b[0mx\u001b[0m\u001b[0;34m)\u001b[0m\u001b[0;34m)\u001b[0m\u001b[0;34m)\u001b[0m\u001b[0;34m\u001b[0m\u001b[0;34m\u001b[0m\u001b[0m\n",
            "\u001b[0;32m/usr/local/lib/python3.10/dist-packages/torch/nn/modules/module.py\u001b[0m in \u001b[0;36m_call_impl\u001b[0;34m(self, *args, **kwargs)\u001b[0m\n\u001b[1;32m   1499\u001b[0m                 \u001b[0;32mor\u001b[0m \u001b[0m_global_backward_pre_hooks\u001b[0m \u001b[0;32mor\u001b[0m \u001b[0m_global_backward_hooks\u001b[0m\u001b[0;34m\u001b[0m\u001b[0;34m\u001b[0m\u001b[0m\n\u001b[1;32m   1500\u001b[0m                 or _global_forward_hooks or _global_forward_pre_hooks):\n\u001b[0;32m-> 1501\u001b[0;31m             \u001b[0;32mreturn\u001b[0m \u001b[0mforward_call\u001b[0m\u001b[0;34m(\u001b[0m\u001b[0;34m*\u001b[0m\u001b[0margs\u001b[0m\u001b[0;34m,\u001b[0m \u001b[0;34m**\u001b[0m\u001b[0mkwargs\u001b[0m\u001b[0;34m)\u001b[0m\u001b[0;34m\u001b[0m\u001b[0;34m\u001b[0m\u001b[0m\n\u001b[0m\u001b[1;32m   1502\u001b[0m         \u001b[0;31m# Do not call functions when jit is used\u001b[0m\u001b[0;34m\u001b[0m\u001b[0;34m\u001b[0m\u001b[0m\n\u001b[1;32m   1503\u001b[0m         \u001b[0mfull_backward_hooks\u001b[0m\u001b[0;34m,\u001b[0m \u001b[0mnon_full_backward_hooks\u001b[0m \u001b[0;34m=\u001b[0m \u001b[0;34m[\u001b[0m\u001b[0;34m]\u001b[0m\u001b[0;34m,\u001b[0m \u001b[0;34m[\u001b[0m\u001b[0;34m]\u001b[0m\u001b[0;34m\u001b[0m\u001b[0;34m\u001b[0m\u001b[0m\n",
            "\u001b[0;32m/usr/local/lib/python3.10/dist-packages/torch/nn/modules/batchnorm.py\u001b[0m in \u001b[0;36mforward\u001b[0;34m(self, input)\u001b[0m\n\u001b[1;32m    169\u001b[0m         \u001b[0mused\u001b[0m \u001b[0;32mfor\u001b[0m \u001b[0mnormalization\u001b[0m \u001b[0;34m(\u001b[0m\u001b[0mi\u001b[0m\u001b[0;34m.\u001b[0m\u001b[0me\u001b[0m\u001b[0;34m.\u001b[0m \u001b[0;32min\u001b[0m \u001b[0meval\u001b[0m \u001b[0mmode\u001b[0m \u001b[0mwhen\u001b[0m \u001b[0mbuffers\u001b[0m \u001b[0mare\u001b[0m \u001b[0;32mnot\u001b[0m \u001b[0;32mNone\u001b[0m\u001b[0;34m)\u001b[0m\u001b[0;34m.\u001b[0m\u001b[0;34m\u001b[0m\u001b[0;34m\u001b[0m\u001b[0m\n\u001b[1;32m    170\u001b[0m         \"\"\"\n\u001b[0;32m--> 171\u001b[0;31m         return F.batch_norm(\n\u001b[0m\u001b[1;32m    172\u001b[0m             \u001b[0minput\u001b[0m\u001b[0;34m,\u001b[0m\u001b[0;34m\u001b[0m\u001b[0;34m\u001b[0m\u001b[0m\n\u001b[1;32m    173\u001b[0m             \u001b[0;31m# If buffers are not to be tracked, ensure that they won't be updated\u001b[0m\u001b[0;34m\u001b[0m\u001b[0;34m\u001b[0m\u001b[0m\n",
            "\u001b[0;32m/usr/local/lib/python3.10/dist-packages/torch/nn/functional.py\u001b[0m in \u001b[0;36mbatch_norm\u001b[0;34m(input, running_mean, running_var, weight, bias, training, momentum, eps)\u001b[0m\n\u001b[1;32m   2446\u001b[0m         )\n\u001b[1;32m   2447\u001b[0m     \u001b[0;32mif\u001b[0m \u001b[0mtraining\u001b[0m\u001b[0;34m:\u001b[0m\u001b[0;34m\u001b[0m\u001b[0;34m\u001b[0m\u001b[0m\n\u001b[0;32m-> 2448\u001b[0;31m         \u001b[0m_verify_batch_size\u001b[0m\u001b[0;34m(\u001b[0m\u001b[0minput\u001b[0m\u001b[0;34m.\u001b[0m\u001b[0msize\u001b[0m\u001b[0;34m(\u001b[0m\u001b[0;34m)\u001b[0m\u001b[0;34m)\u001b[0m\u001b[0;34m\u001b[0m\u001b[0;34m\u001b[0m\u001b[0m\n\u001b[0m\u001b[1;32m   2449\u001b[0m \u001b[0;34m\u001b[0m\u001b[0m\n\u001b[1;32m   2450\u001b[0m     return torch.batch_norm(\n",
            "\u001b[0;32m/usr/local/lib/python3.10/dist-packages/torch/nn/functional.py\u001b[0m in \u001b[0;36m_verify_batch_size\u001b[0;34m(size)\u001b[0m\n\u001b[1;32m   2414\u001b[0m         \u001b[0msize_prods\u001b[0m \u001b[0;34m*=\u001b[0m \u001b[0msize\u001b[0m\u001b[0;34m[\u001b[0m\u001b[0mi\u001b[0m \u001b[0;34m+\u001b[0m \u001b[0;36m2\u001b[0m\u001b[0;34m]\u001b[0m\u001b[0;34m\u001b[0m\u001b[0;34m\u001b[0m\u001b[0m\n\u001b[1;32m   2415\u001b[0m     \u001b[0;32mif\u001b[0m \u001b[0msize_prods\u001b[0m \u001b[0;34m==\u001b[0m \u001b[0;36m1\u001b[0m\u001b[0;34m:\u001b[0m\u001b[0;34m\u001b[0m\u001b[0;34m\u001b[0m\u001b[0m\n\u001b[0;32m-> 2416\u001b[0;31m         \u001b[0;32mraise\u001b[0m \u001b[0mValueError\u001b[0m\u001b[0;34m(\u001b[0m\u001b[0;34m\"Expected more than 1 value per channel when training, got input size {}\"\u001b[0m\u001b[0;34m.\u001b[0m\u001b[0mformat\u001b[0m\u001b[0;34m(\u001b[0m\u001b[0msize\u001b[0m\u001b[0;34m)\u001b[0m\u001b[0;34m)\u001b[0m\u001b[0;34m\u001b[0m\u001b[0;34m\u001b[0m\u001b[0m\n\u001b[0m\u001b[1;32m   2417\u001b[0m \u001b[0;34m\u001b[0m\u001b[0m\n\u001b[1;32m   2418\u001b[0m \u001b[0;34m\u001b[0m\u001b[0m\n",
            "\u001b[0;31mValueError\u001b[0m: Expected more than 1 value per channel when training, got input size torch.Size([1, 600])"
          ]
        }
      ]
    },
    {
      "cell_type": "code",
      "source": [
        "for arr in [\"WtoF\",\"FtoW\"]:\n",
        "  \n",
        "  if arr == \"WtoF\":\n",
        "    mymodels[1].eval()\n",
        "    res = mymodels[1](torch.tensor(word_vector_array, dtype=torch.float32).to(device))\n",
        "    combined_array = np.concatenate([feature_array, res.cpu().detach().numpy()], axis=1)\n",
        "  else:\n",
        "    mymodels[0].eval()\n",
        "    res = mymodels[0](torch.tensor(feature_array, dtype=torch.float32).to(device))\n",
        "    combined_array = np.concatenate([word_vector_array, res.cpu().detach().numpy()], axis=1)\n",
        "\n",
        "  early_stopping = EarlyStopping(patience=5, verbose=True)\n",
        "  print(f\"\\nTraining model with: {feature_name}\\n\")\n",
        "  features_train, features_test, labels_train, labels_test = train_test_split(combined_array, target.values, test_size=0.2, random_state=42)\n",
        "  features_train, features_val, labels_train, labels_val = train_test_split(features_train, labels_train, test_size=0.2, random_state=42)\n",
        "\n",
        "  # numpy轉換tensors\n",
        "  features_train = torch.tensor(features_train, dtype=torch.float32)\n",
        "  labels_train = torch.tensor(labels_train, dtype=torch.float32)\n",
        "  features_val = torch.tensor(features_val, dtype=torch.float32)\n",
        "  labels_val = torch.tensor(labels_val, dtype=torch.float32)\n",
        "  features_test = torch.tensor(features_test, dtype=torch.float32)\n",
        "  labels_test = torch.tensor(labels_test, dtype=torch.float32)\n",
        "\n",
        "  train_dataset = TensorDataset(features_train, labels_train)\n",
        "  val_dataset = TensorDataset(features_val, labels_val)\n",
        "  test_dataset = TensorDataset(features_test, labels_test)\n",
        "\n",
        "  batch_size = 64\n",
        "  train_dataloader = DataLoader(train_dataset, batch_size=batch_size, shuffle=True)\n",
        "  test_dataloader = DataLoader(test_dataset, batch_size=batch_size, shuffle=False)\n",
        "  val_dataloader = DataLoader(val_dataset, batch_size=batch_size, shuffle=False)\n",
        "\n",
        "  net = FeatureNet(len(combined_array[0])).to(device)\n",
        "  criterion = nn.NLLLoss()\n",
        "  optimizer = optim.Adam(net.parameters())\n",
        "\n",
        "  losses = []\n",
        "  accuracies = []\n",
        "  Epoch = 30\n",
        "  for epoch in range(Epoch):\n",
        "    running_loss = 0.0\n",
        "    for i, data in enumerate(train_dataloader):\n",
        "      inputs, labels = data\n",
        "      inputs = inputs.to(device)\n",
        "      labels = labels.argmax(dim=1).to(device)\n",
        "      outputs = net(inputs)\n",
        "\n",
        "      optimizer.zero_grad()\n",
        "      loss = criterion(outputs, labels)\n",
        "      loss.backward()\n",
        "      optimizer.step()\n",
        "\n",
        "      running_loss += loss.item()\n",
        "    avg_train_loss = running_loss / len(train_dataloader)\n",
        "    losses.append(avg_train_loss)\n",
        "    print(f'[{feature_name}] Epoch {epoch + 1}, Training Loss: {avg_train_loss}')\n",
        "    \n",
        "    # Validation step\n",
        "    running_loss = 0.0\n",
        "    net.eval()  # Set the model to evaluation mode\n",
        "    with torch.no_grad():\n",
        "        for i, data in enumerate(val_dataloader):\n",
        "            inputs, labels = data\n",
        "            inputs = inputs.to(device)\n",
        "            labels = labels.argmax(dim=1).to(device)\n",
        "            outputs = net(inputs)\n",
        "            loss = criterion(outputs, labels)\n",
        "\n",
        "            running_loss += loss.item()\n",
        "\n",
        "    avg_val_loss = running_loss / len(val_dataloader)\n",
        "    print(f'[{feature_name}] Epoch {epoch + 1}, Validation Loss: {avg_val_loss}')\n",
        "    # Check early stopping\n",
        "    early_stopping(avg_val_loss)\n",
        "    if early_stopping.early_stop:\n",
        "        print(\"Early stopping\")\n",
        "        break\n",
        "\n",
        "    # Test the model\n",
        "    net.eval()  # It's important to set the model to evaluation mode\n",
        "    correct = 0\n",
        "    total = 0\n",
        "    with torch.no_grad():\n",
        "      for data in test_dataloader:\n",
        "        inputs, labels = data\n",
        "        inputs = inputs.to(device)\n",
        "        labels = labels.argmax(dim=1).to(device)\n",
        "        outputs = net(inputs)\n",
        "        _, predicted = torch.max(outputs.data, 1)\n",
        "        total += labels.size(0)\n",
        "        correct += (predicted == labels).sum().item()\n",
        "\n",
        "    accuracy = correct / total\n",
        "    accuracies.append(accuracy)\n",
        "    print(f'[Epoch {epoch + 1}, Accuracy: {accuracy}')\n",
        "\n",
        "    net.train()  # Reset the model to training mode\n",
        "  loss_results[f\"Conbined array {arr}\"] = losses\n",
        "  accuracy_results[f\"Conbined array {arr}\"] = accuracies"
      ],
      "metadata": {
        "id": "OY3sMpI9RvyB",
        "outputId": "7f6ec1c8-0a69-4cdf-dfa8-202d60c74192",
        "colab": {
          "base_uri": "https://localhost:8080/"
        }
      },
      "execution_count": null,
      "outputs": [
        {
          "output_type": "stream",
          "name": "stdout",
          "text": [
            "\n",
            "Training model with: Merged Array\n",
            "\n"
          ]
        },
        {
          "output_type": "stream",
          "name": "stderr",
          "text": [
            "<ipython-input-21-f2aa713d4d2d>:5: UserWarning: To copy construct from a tensor, it is recommended to use sourceTensor.clone().detach() or sourceTensor.clone().detach().requires_grad_(True), rather than torch.tensor(sourceTensor).\n",
            "  res = mymodels[1](torch.tensor(word_vector_array, dtype=torch.float32).to(device))\n"
          ]
        },
        {
          "output_type": "stream",
          "name": "stdout",
          "text": [
            "[Merged Array] Epoch 1, Training Loss: 0.707103590965271\n",
            "[Merged Array] Epoch 1, Validation Loss: 0.49596110939979554\n",
            "[Epoch 1, Accuracy: 0.8175\n",
            "[Merged Array] Epoch 2, Training Loss: 0.4122728183865547\n",
            "[Merged Array] Epoch 2, Validation Loss: 0.47690396428108217\n",
            "[Epoch 2, Accuracy: 0.835\n",
            "[Merged Array] Epoch 3, Training Loss: 0.33934702813625334\n",
            "[Merged Array] Epoch 3, Validation Loss: 0.43155460596084594\n",
            "[Epoch 3, Accuracy: 0.8415\n",
            "[Merged Array] Epoch 4, Training Loss: 0.3255517338216305\n",
            "[Merged Array] Epoch 4, Validation Loss: 0.4389889621734619\n",
            "EarlyStopping counter: 1 out of 5\n",
            "[Epoch 4, Accuracy: 0.844\n",
            "[Merged Array] Epoch 5, Training Loss: 0.3243315322697163\n",
            "[Merged Array] Epoch 5, Validation Loss: 0.479797488451004\n",
            "EarlyStopping counter: 2 out of 5\n",
            "[Epoch 5, Accuracy: 0.8375\n",
            "[Merged Array] Epoch 6, Training Loss: 0.32765089884400367\n",
            "[Merged Array] Epoch 6, Validation Loss: 0.4158769881725311\n",
            "[Epoch 6, Accuracy: 0.8465\n",
            "[Merged Array] Epoch 7, Training Loss: 0.3179100316017866\n",
            "[Merged Array] Epoch 7, Validation Loss: 0.40973422408103943\n",
            "[Epoch 7, Accuracy: 0.855\n",
            "[Merged Array] Epoch 8, Training Loss: 0.30274520590901377\n",
            "[Merged Array] Epoch 8, Validation Loss: 0.4781457233428955\n",
            "EarlyStopping counter: 1 out of 5\n",
            "[Epoch 8, Accuracy: 0.831\n",
            "[Merged Array] Epoch 9, Training Loss: 0.30596021682024\n",
            "[Merged Array] Epoch 9, Validation Loss: 0.41409620761871335\n",
            "EarlyStopping counter: 2 out of 5\n",
            "[Epoch 9, Accuracy: 0.857\n",
            "[Merged Array] Epoch 10, Training Loss: 0.303482955545187\n",
            "[Merged Array] Epoch 10, Validation Loss: 0.42336836099624636\n",
            "EarlyStopping counter: 3 out of 5\n",
            "[Epoch 10, Accuracy: 0.8405\n",
            "[Merged Array] Epoch 11, Training Loss: 0.28515436604619027\n",
            "[Merged Array] Epoch 11, Validation Loss: 0.40172327160835264\n",
            "[Epoch 11, Accuracy: 0.864\n",
            "[Merged Array] Epoch 12, Training Loss: 0.2859239000082016\n",
            "[Merged Array] Epoch 12, Validation Loss: 0.39163940131664277\n",
            "[Epoch 12, Accuracy: 0.8615\n",
            "[Merged Array] Epoch 13, Training Loss: 0.2844018492847681\n",
            "[Merged Array] Epoch 13, Validation Loss: 0.40021228075027465\n",
            "EarlyStopping counter: 1 out of 5\n",
            "[Epoch 13, Accuracy: 0.8565\n",
            "[Merged Array] Epoch 14, Training Loss: 0.2776582346111536\n",
            "[Merged Array] Epoch 14, Validation Loss: 0.43181421756744387\n",
            "EarlyStopping counter: 2 out of 5\n",
            "[Epoch 14, Accuracy: 0.847\n",
            "[Merged Array] Epoch 15, Training Loss: 0.28197038993239404\n",
            "[Merged Array] Epoch 15, Validation Loss: 0.4018303030729294\n",
            "EarlyStopping counter: 3 out of 5\n",
            "[Epoch 15, Accuracy: 0.86\n",
            "[Merged Array] Epoch 16, Training Loss: 0.26363290995359423\n",
            "[Merged Array] Epoch 16, Validation Loss: 0.39539885222911836\n",
            "EarlyStopping counter: 4 out of 5\n",
            "[Epoch 16, Accuracy: 0.8615\n",
            "[Merged Array] Epoch 17, Training Loss: 0.26634356334805487\n",
            "[Merged Array] Epoch 17, Validation Loss: 0.38241358160972594\n",
            "[Epoch 17, Accuracy: 0.867\n",
            "[Merged Array] Epoch 18, Training Loss: 0.26244309477508065\n",
            "[Merged Array] Epoch 18, Validation Loss: 0.37393339335918424\n",
            "[Epoch 18, Accuracy: 0.8695\n",
            "[Merged Array] Epoch 19, Training Loss: 0.26105864271521567\n",
            "[Merged Array] Epoch 19, Validation Loss: 0.39874460697174074\n",
            "EarlyStopping counter: 1 out of 5\n",
            "[Epoch 19, Accuracy: 0.866\n",
            "[Merged Array] Epoch 20, Training Loss: 0.25750648602843285\n",
            "[Merged Array] Epoch 20, Validation Loss: 0.3750117528438568\n",
            "EarlyStopping counter: 2 out of 5\n",
            "[Epoch 20, Accuracy: 0.86\n",
            "[Merged Array] Epoch 21, Training Loss: 0.2721758110821247\n",
            "[Merged Array] Epoch 21, Validation Loss: 0.38392422676086424\n",
            "EarlyStopping counter: 3 out of 5\n",
            "[Epoch 21, Accuracy: 0.8625\n",
            "[Merged Array] Epoch 22, Training Loss: 0.25291875898838045\n",
            "[Merged Array] Epoch 22, Validation Loss: 0.36881294965744016\n",
            "[Epoch 22, Accuracy: 0.8725\n",
            "[Merged Array] Epoch 23, Training Loss: 0.25065979339182376\n",
            "[Merged Array] Epoch 23, Validation Loss: 0.3718700659275055\n",
            "EarlyStopping counter: 1 out of 5\n",
            "[Epoch 23, Accuracy: 0.865\n",
            "[Merged Array] Epoch 24, Training Loss: 0.24771224446594714\n",
            "[Merged Array] Epoch 24, Validation Loss: 0.3536529541015625\n",
            "[Epoch 24, Accuracy: 0.8675\n",
            "[Merged Array] Epoch 25, Training Loss: 0.2449864023923874\n",
            "[Merged Array] Epoch 25, Validation Loss: 0.39009114027023317\n",
            "EarlyStopping counter: 1 out of 5\n",
            "[Epoch 25, Accuracy: 0.869\n",
            "[Merged Array] Epoch 26, Training Loss: 0.25348742127418517\n",
            "[Merged Array] Epoch 26, Validation Loss: 0.35791981101036074\n",
            "EarlyStopping counter: 2 out of 5\n",
            "[Epoch 26, Accuracy: 0.878\n",
            "[Merged Array] Epoch 27, Training Loss: 0.2421581307798624\n",
            "[Merged Array] Epoch 27, Validation Loss: 0.3642922955751419\n",
            "EarlyStopping counter: 3 out of 5\n",
            "[Epoch 27, Accuracy: 0.88\n",
            "[Merged Array] Epoch 28, Training Loss: 0.23424840025603771\n",
            "[Merged Array] Epoch 28, Validation Loss: 0.3629355323314667\n",
            "EarlyStopping counter: 4 out of 5\n",
            "[Epoch 28, Accuracy: 0.8745\n",
            "[Merged Array] Epoch 29, Training Loss: 0.23785163417458535\n",
            "[Merged Array] Epoch 29, Validation Loss: 0.34546342253685\n",
            "[Epoch 29, Accuracy: 0.879\n",
            "[Merged Array] Epoch 30, Training Loss: 0.2397410736978054\n",
            "[Merged Array] Epoch 30, Validation Loss: 0.3467133212089539\n",
            "EarlyStopping counter: 1 out of 5\n",
            "[Epoch 30, Accuracy: 0.8805\n",
            "\n",
            "Training model with: Merged Array\n",
            "\n",
            "[Merged Array] Epoch 1, Training Loss: 0.6238408717513084\n",
            "[Merged Array] Epoch 1, Validation Loss: 0.46930044889450073\n",
            "[Epoch 1, Accuracy: 0.832\n",
            "[Merged Array] Epoch 2, Training Loss: 0.4392927460372448\n",
            "[Merged Array] Epoch 2, Validation Loss: 0.4445434856414795\n",
            "[Epoch 2, Accuracy: 0.848\n",
            "[Merged Array] Epoch 3, Training Loss: 0.4150306996703148\n",
            "[Merged Array] Epoch 3, Validation Loss: 0.43941079020500184\n",
            "[Epoch 3, Accuracy: 0.846\n",
            "[Merged Array] Epoch 4, Training Loss: 0.4042709703743458\n",
            "[Merged Array] Epoch 4, Validation Loss: 0.41419543981552126\n",
            "[Epoch 4, Accuracy: 0.8635\n",
            "[Merged Array] Epoch 5, Training Loss: 0.39362679675221446\n",
            "[Merged Array] Epoch 5, Validation Loss: 0.43060349225997924\n",
            "EarlyStopping counter: 1 out of 5\n",
            "[Epoch 5, Accuracy: 0.847\n",
            "[Merged Array] Epoch 6, Training Loss: 0.3903236609697342\n",
            "[Merged Array] Epoch 6, Validation Loss: 0.401119190454483\n",
            "[Epoch 6, Accuracy: 0.8625\n",
            "[Merged Array] Epoch 7, Training Loss: 0.3817937509715557\n",
            "[Merged Array] Epoch 7, Validation Loss: 0.40175665616989137\n",
            "EarlyStopping counter: 1 out of 5\n",
            "[Epoch 7, Accuracy: 0.871\n",
            "[Merged Array] Epoch 8, Training Loss: 0.3720084856450558\n",
            "[Merged Array] Epoch 8, Validation Loss: 0.4041674041748047\n",
            "EarlyStopping counter: 2 out of 5\n",
            "[Epoch 8, Accuracy: 0.853\n",
            "[Merged Array] Epoch 9, Training Loss: 0.3738896459341049\n",
            "[Merged Array] Epoch 9, Validation Loss: 0.3816223555803299\n",
            "[Epoch 9, Accuracy: 0.873\n",
            "[Merged Array] Epoch 10, Training Loss: 0.35767590790987014\n",
            "[Merged Array] Epoch 10, Validation Loss: 0.3930092680454254\n",
            "EarlyStopping counter: 1 out of 5\n",
            "[Epoch 10, Accuracy: 0.8595\n",
            "[Merged Array] Epoch 11, Training Loss: 0.3533786442875862\n",
            "[Merged Array] Epoch 11, Validation Loss: 0.3893915373086929\n",
            "EarlyStopping counter: 2 out of 5\n",
            "[Epoch 11, Accuracy: 0.867\n",
            "[Merged Array] Epoch 12, Training Loss: 0.351705564558506\n",
            "[Merged Array] Epoch 12, Validation Loss: 0.38520053327083587\n",
            "EarlyStopping counter: 3 out of 5\n",
            "[Epoch 12, Accuracy: 0.8775\n",
            "[Merged Array] Epoch 13, Training Loss: 0.3549720600247383\n",
            "[Merged Array] Epoch 13, Validation Loss: 0.3887610816955566\n",
            "EarlyStopping counter: 4 out of 5\n",
            "[Epoch 13, Accuracy: 0.8605\n",
            "[Merged Array] Epoch 14, Training Loss: 0.34821261271834375\n",
            "[Merged Array] Epoch 14, Validation Loss: 0.3975394952297211\n",
            "EarlyStopping counter: 5 out of 5\n",
            "Early stopping\n"
          ]
        }
      ]
    },
    {
      "cell_type": "code",
      "source": [
        "# Draw losses of all features in one graph\n",
        "plt.figure(figsize=(12, 6))\n",
        "plt.subplot(1, 2, 1)\n",
        "for feature_name, losses in loss_results.items():\n",
        "    plt.plot(losses, label=feature_name)\n",
        "plt.title('Model Loss Over Epochs')\n",
        "plt.xlabel('Epoch')\n",
        "plt.ylabel('Loss')\n",
        "plt.legend()\n",
        "\n",
        "# Draw accuracies of all features in one graph\n",
        "plt.subplot(1, 2, 2)\n",
        "for feature_name, accuracies in accuracy_results.items():\n",
        "    plt.plot(accuracies, label=feature_name)\n",
        "plt.title('Model Accuracy Over Epochs')\n",
        "plt.xlabel('Epoch')\n",
        "plt.ylabel('Accuracy')\n",
        "plt.legend()\n",
        "\n",
        "plt.show()"
      ],
      "metadata": {
        "id": "e-KeDpuhhiz0",
        "outputId": "9c98e196-0218-4a22-8ce2-6df3d9d16641",
        "colab": {
          "base_uri": "https://localhost:8080/",
          "height": 564
        }
      },
      "execution_count": null,
      "outputs": [
        {
          "output_type": "display_data",
          "data": {
            "text/plain": [
              "<Figure size 1200x600 with 2 Axes>"
            ],
            "image/png": "[encoded data removed]"
          },
          "metadata": {}
        }
      ]
    }
  ]
}